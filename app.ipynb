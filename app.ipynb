{
 "cells": [
  {
   "cell_type": "code",
   "execution_count": 1,
   "metadata": {},
   "outputs": [],
   "source": [
    "import argparse\n",
    "import os\n",
    "import shutil\n",
    "from src.analysis.project_parser import parse_project\n",
    "from src.analysis.dependency_resolver import resolve_dependencies\n",
    "from src.analysis.feature_mapper import map_features_to_components\n",
    "from src.generation.project_generator import generate_project\n",
    "from src.generation.feature_integration import integrate_features\n",
    "from src.models.llm_inference import query_llm\n",
    "from src.models.prompt_templates import get_prompt_template, get_prompt_template_feature\n",
    "from src.utils.logger import logger\n",
    "from src.utils.file_operations import read_file, write_file\n",
    "from src.vector_database.db_query import query_vector_database"
   ]
  },
  {
   "cell_type": "code",
   "execution_count": 10,
   "metadata": {},
   "outputs": [],
   "source": [
    "from src.vector_database.db_load import load_vector_database"
   ]
  },
  {
   "cell_type": "code",
   "execution_count": 2,
   "metadata": {},
   "outputs": [],
   "source": [
    "logger.info(\"Starting the Factory Feature program\")\n",
    "# Define paths\n",
    "old_project_path = \"project_old\"\n",
    "new_project_path = \"project_new\""
   ]
  },
  {
   "cell_type": "code",
   "execution_count": 3,
   "metadata": {},
   "outputs": [],
   "source": [
    "# Step 1: Parse the old project\n",
    "logger.info(\"Parsing the project structure\")\n",
    "project_data = parse_project(old_project_path)"
   ]
  },
  {
   "cell_type": "code",
   "execution_count": 4,
   "metadata": {},
   "outputs": [
    {
     "data": {
      "text/plain": [
       "[{'path': 'project_old/app.py',\n",
       "  'content': 'from utils.helpers import greet\\n\\ndef main():\\n    name = input(\"Enter your name: \")\\n    print(greet(name))\\n\\nif __name__ == \"__main__\":\\n    main()'},\n",
       " {'path': 'project_old/requirements.txt',\n",
       "  'content': '# Python dependencies\\nflask'},\n",
       " {'path': 'project_old/utils/helpers.py',\n",
       "  'content': 'def greet(name):\\n    \"\"\"\\n    Returns a greeting message for the provided name.\\n\\n    Args:\\n        name: The name of the person to greet.\\n\\n    Returns:\\n        A greeting string.\\n    \"\"\"\\n    return f\"Hello, {name}! Welcome to the project.\"'}]"
      ]
     },
     "execution_count": 4,
     "metadata": {},
     "output_type": "execute_result"
    }
   ],
   "source": [
    "project_data"
   ]
  },
  {
   "cell_type": "code",
   "execution_count": 5,
   "metadata": {},
   "outputs": [
    {
     "data": {
      "text/plain": [
       "list"
      ]
     },
     "execution_count": 5,
     "metadata": {},
     "output_type": "execute_result"
    }
   ],
   "source": [
    "type(project_data)"
   ]
  },
  {
   "cell_type": "code",
   "execution_count": 6,
   "metadata": {},
   "outputs": [],
   "source": [
    "from src.vector_database.db_builder_simple import build_vector_database_simple\n"
   ]
  },
  {
   "cell_type": "code",
   "execution_count": 7,
   "metadata": {},
   "outputs": [
    {
     "name": "stderr",
     "output_type": "stream",
     "text": [
      "/mnt/c/Blog/Factory-Feature/src/vector_database/db_builder_simple.py:16: LangChainDeprecationWarning: The class `HuggingFaceEmbeddings` was deprecated in LangChain 0.2.2 and will be removed in 1.0. An updated version of the class exists in the :class:`~langchain-huggingface package and should be used instead. To use it run `pip install -U :class:`~langchain-huggingface` and import as `from :class:`~langchain_huggingface import HuggingFaceEmbeddings``.\n",
      "  embedding_function = SentenceTransformerEmbeddings(model_name=\"all-MiniLM-L6-v2\")\n",
      "/mnt/c/Blog/Building-LLM-from-Scratch-in-Python/.venv/lib/python3.10/site-packages/tqdm/auto.py:21: TqdmWarning: IProgress not found. Please update jupyter and ipywidgets. See https://ipywidgets.readthedocs.io/en/stable/user_install.html\n",
      "  from .autonotebook import tqdm as notebook_tqdm\n"
     ]
    }
   ],
   "source": [
    "vector_db = build_vector_database_simple(project_data)\n",
    "logger.info(\"Vector database simple created for the project\")"
   ]
  },
  {
   "cell_type": "code",
   "execution_count": 8,
   "metadata": {},
   "outputs": [
    {
     "data": {
      "text/plain": [
       "<langchain_community.vectorstores.chroma.Chroma at 0x7ffa324db8e0>"
      ]
     },
     "execution_count": 8,
     "metadata": {},
     "output_type": "execute_result"
    }
   ],
   "source": [
    "vector_db"
   ]
  },
  {
   "cell_type": "code",
   "execution_count": 6,
   "metadata": {},
   "outputs": [],
   "source": [
    "from src.vector_database.db_builder import build_vector_database\n"
   ]
  },
  {
   "cell_type": "code",
   "execution_count": 7,
   "metadata": {},
   "outputs": [
    {
     "name": "stderr",
     "output_type": "stream",
     "text": [
      "/mnt/c/Blog/Factory-Feature/src/vector_database/db_builder.py:26: LangChainDeprecationWarning: The class `HuggingFaceEmbeddings` was deprecated in LangChain 0.2.2 and will be removed in 1.0. An updated version of the class exists in the :class:`~langchain-huggingface package and should be used instead. To use it run `pip install -U :class:`~langchain-huggingface` and import as `from :class:`~langchain_huggingface import HuggingFaceEmbeddings``.\n",
      "  embedding = SentenceTransformerEmbeddings(model_name=\"all-MiniLM-L6-v2\")\n",
      "/mnt/c/Blog/Building-LLM-from-Scratch-in-Python/.venv/lib/python3.10/site-packages/tqdm/auto.py:21: TqdmWarning: IProgress not found. Please update jupyter and ipywidgets. See https://ipywidgets.readthedocs.io/en/stable/user_install.html\n",
      "  from .autonotebook import tqdm as notebook_tqdm\n",
      "/mnt/c/Blog/Factory-Feature/src/vector_database/db_builder.py:35: LangChainDeprecationWarning: Since Chroma 0.4.x the manual persistence method is no longer supported as docs are automatically persisted.\n",
      "  vector_db.persist()\n"
     ]
    }
   ],
   "source": [
    "# With persistence\n",
    "vector_db = build_vector_database(project_data, persist_directory=\"./chroma_db\")"
   ]
  },
  {
   "cell_type": "code",
   "execution_count": 11,
   "metadata": {},
   "outputs": [
    {
     "name": "stderr",
     "output_type": "stream",
     "text": [
      "/mnt/c/Blog/Factory-Feature/src/vector_database/db_load.py:63: LangChainDeprecationWarning: The class `Chroma` was deprecated in LangChain 0.2.9 and will be removed in 1.0. An updated version of the class exists in the :class:`~langchain-chroma package and should be used instead. To use it run `pip install -U :class:`~langchain-chroma` and import as `from :class:`~langchain_chroma import Chroma``.\n",
      "  vector_db = Chroma(\n"
     ]
    }
   ],
   "source": [
    "vector_db = load_vector_database(persist_directory=\"./chroma_db\")"
   ]
  },
  {
   "cell_type": "code",
   "execution_count": 12,
   "metadata": {},
   "outputs": [
    {
     "data": {
      "text/plain": [
       "<langchain_community.vectorstores.chroma.Chroma at 0x7fe77c16f520>"
      ]
     },
     "execution_count": 12,
     "metadata": {},
     "output_type": "execute_result"
    }
   ],
   "source": [
    "vector_db"
   ]
  },
  {
   "cell_type": "code",
   "execution_count": 13,
   "metadata": {},
   "outputs": [
    {
     "name": "stdout",
     "output_type": "stream",
     "text": [
      "Displaying the first 3 documents:\n",
      "Document ID: 6434b73e-f406-4852-8ff9-a9a3d252c8fc\n",
      "Content:\n",
      "Path: project_old/app.py\n",
      "Content:\n",
      "from utils.helpers import greet\n",
      "\n",
      "def main():\n",
      "    name = input(\"Enter your name: \")\n",
      "    print(greet(name))\n",
      "\n",
      "if __name__ == \"__main__\":\n",
      "    main()\n",
      "Metadata: {'source': 'project_old/app.py'}\n",
      "--------------------------------------------------------------------------------\n",
      "Document ID: adeca2f7-04af-4ce6-b30f-2041cebb7270\n",
      "Content:\n",
      "Path: project_old/requirements.txt\n",
      "Content:\n",
      "# Python dependencies\n",
      "flask\n",
      "Metadata: {'source': 'project_old/requirements.txt'}\n",
      "--------------------------------------------------------------------------------\n",
      "Document ID: b70470ba-b70f-466e-aa3e-1ed31c73faf3\n",
      "Content:\n",
      "Path: project_old/utils/helpers.py\n",
      "Content:\n",
      "def greet(name):\n",
      "    \"\"\"\n",
      "    Returns a greeting message for the provided name.\n",
      "\n",
      "    Args:\n",
      "        name: The name of the person to greet.\n",
      "\n",
      "    Returns:\n",
      "        A greeting string.\n",
      "    \"\"\"\n",
      "    return f\"Hello, {name}! Welcome to the project.\"\n",
      "Metadata: {'source': 'project_old/utils/helpers.py'}\n",
      "--------------------------------------------------------------------------------\n"
     ]
    }
   ],
   "source": [
    "from src.vector_database.display_content import display_first_five_documents\n",
    "# Display the first 5 documents in the vector database\n",
    "display_first_five_documents(vector_db)"
   ]
  },
  {
   "cell_type": "code",
   "execution_count": 15,
   "metadata": {},
   "outputs": [],
   "source": [
    "# Step 2: Resolve dependencies\n",
    "logger.info(\"Resolving project dependencies\")\n",
    "dependencies = resolve_dependencies(old_project_path)\n",
    "logger.info(f\"Dependencies found: {dependencies.keys()}\")"
   ]
  },
  {
   "cell_type": "code",
   "execution_count": 16,
   "metadata": {},
   "outputs": [],
   "source": [
    "# Step 3: Map features to project components\n",
    "logger.info(\"Mapping feature request to project components\")\n",
    "feature_template = get_prompt_template_feature()\n",
    "project_context = \"\\n\".join([f\"{key}: {value}\" for key, value in dependencies.items()])\n"
   ]
  },
  {
   "cell_type": "code",
   "execution_count": 17,
   "metadata": {},
   "outputs": [
    {
     "data": {
      "text/plain": [
       "\"requirements.txt: ['# Python dependencies\\\\n', 'flask']\""
      ]
     },
     "execution_count": 17,
     "metadata": {},
     "output_type": "execute_result"
    }
   ],
   "source": [
    "project_context"
   ]
  },
  {
   "cell_type": "code",
   "execution_count": 18,
   "metadata": {},
   "outputs": [
    {
     "name": "stdout",
     "output_type": "stream",
     "text": [
      "{'project_name': 'project_old', 'structure': [{'type': 'file', 'name': 'app.py', 'path': 'project_old/app.py'}, {'type': 'file', 'name': 'requirements.txt', 'path': 'project_old/requirements.txt'}, {'type': 'directory', 'name': 'utils', 'path': 'project_old/utils', 'children': [{'type': 'file', 'name': 'helpers.py', 'path': 'project_old/utils/helpers.py'}]}]}\n",
      "{'project_name': 'project_old', 'structure': [{'type': 'file', 'name': 'app.py', 'path': 'project_old/app.py', 'content': 'from utils.helpers import greet\\n\\ndef main():\\n    name = input(\"Enter your name: \")\\n    print(greet(name))\\n\\nif __name__ == \"__main__\":\\n    main()'}, {'type': 'file', 'name': 'requirements.txt', 'path': 'project_old/requirements.txt', 'content': '# Python dependencies\\nflask'}, {'type': 'directory', 'name': 'utils', 'path': 'project_old/utils', 'children': [{'type': 'file', 'name': 'helpers.py', 'path': 'project_old/utils/helpers.py', 'content': 'def greet(name):\\n    \"\"\"\\n    Returns a greeting message for the provided name.\\n\\n    Args:\\n        name: The name of the person to greet.\\n\\n    Returns:\\n        A greeting string.\\n    \"\"\"\\n    return f\"Hello, {name}! Welcome to the project.\"'}]}]}\n"
     ]
    }
   ],
   "source": [
    "from src.analysis.tree import get_tree\n",
    "\n",
    "if __name__ == \"__main__\":\n",
    "    old_project_path = \"project_old\"\n",
    "    try:\n",
    "        # Get the tree structure without content\n",
    "        tree = get_tree(old_project_path)\n",
    "        print(tree)\n",
    "        \n",
    "        # Get the tree structure with content\n",
    "        tree_with_content = get_tree(old_project_path, content=True)\n",
    "        print(tree_with_content)\n",
    "    except FileNotFoundError as e:\n",
    "        print(e)\n"
   ]
  },
  {
   "cell_type": "code",
   "execution_count": 19,
   "metadata": {},
   "outputs": [],
   "source": [
    "tree = get_tree(old_project_path)\n"
   ]
  },
  {
   "cell_type": "code",
   "execution_count": 20,
   "metadata": {},
   "outputs": [
    {
     "data": {
      "text/plain": [
       "{'project_name': 'project_old',\n",
       " 'structure': [{'type': 'file',\n",
       "   'name': 'app.py',\n",
       "   'path': 'project_old/app.py'},\n",
       "  {'type': 'file',\n",
       "   'name': 'requirements.txt',\n",
       "   'path': 'project_old/requirements.txt'},\n",
       "  {'type': 'directory',\n",
       "   'name': 'utils',\n",
       "   'path': 'project_old/utils',\n",
       "   'children': [{'type': 'file',\n",
       "     'name': 'helpers.py',\n",
       "     'path': 'project_old/utils/helpers.py'}]}]}"
      ]
     },
     "execution_count": 20,
     "metadata": {},
     "output_type": "execute_result"
    }
   ],
   "source": [
    "tree"
   ]
  },
  {
   "cell_type": "code",
   "execution_count": 21,
   "metadata": {},
   "outputs": [],
   "source": [
    "tree_with_content = get_tree(old_project_path, content=True)\n"
   ]
  },
  {
   "cell_type": "code",
   "execution_count": 22,
   "metadata": {},
   "outputs": [
    {
     "data": {
      "text/plain": [
       "{'project_name': 'project_old',\n",
       " 'structure': [{'type': 'file',\n",
       "   'name': 'app.py',\n",
       "   'path': 'project_old/app.py',\n",
       "   'content': 'from utils.helpers import greet\\n\\ndef main():\\n    name = input(\"Enter your name: \")\\n    print(greet(name))\\n\\nif __name__ == \"__main__\":\\n    main()'},\n",
       "  {'type': 'file',\n",
       "   'name': 'requirements.txt',\n",
       "   'path': 'project_old/requirements.txt',\n",
       "   'content': '# Python dependencies\\nflask'},\n",
       "  {'type': 'directory',\n",
       "   'name': 'utils',\n",
       "   'path': 'project_old/utils',\n",
       "   'children': [{'type': 'file',\n",
       "     'name': 'helpers.py',\n",
       "     'path': 'project_old/utils/helpers.py',\n",
       "     'content': 'def greet(name):\\n    \"\"\"\\n    Returns a greeting message for the provided name.\\n\\n    Args:\\n        name: The name of the person to greet.\\n\\n    Returns:\\n        A greeting string.\\n    \"\"\"\\n    return f\"Hello, {name}! Welcome to the project.\"'}]}]}"
      ]
     },
     "execution_count": 22,
     "metadata": {},
     "output_type": "execute_result"
    }
   ],
   "source": [
    "tree_with_content"
   ]
  },
  {
   "cell_type": "code",
   "execution_count": 23,
   "metadata": {},
   "outputs": [],
   "source": [
    "user_request=\"Add logging functionality to all major modules in the project\""
   ]
  },
  {
   "cell_type": "code",
   "execution_count": 24,
   "metadata": {},
   "outputs": [
    {
     "data": {
      "text/plain": [
       "{'project_name': 'project_old',\n",
       " 'structure': [{'type': 'file',\n",
       "   'name': 'app.py',\n",
       "   'path': 'project_old/app.py'},\n",
       "  {'type': 'file',\n",
       "   'name': 'requirements.txt',\n",
       "   'path': 'project_old/requirements.txt'},\n",
       "  {'type': 'directory',\n",
       "   'name': 'utils',\n",
       "   'path': 'project_old/utils',\n",
       "   'children': [{'type': 'file',\n",
       "     'name': 'helpers.py',\n",
       "     'path': 'project_old/utils/helpers.py'}]}]}"
      ]
     },
     "execution_count": 24,
     "metadata": {},
     "output_type": "execute_result"
    }
   ],
   "source": [
    "tree"
   ]
  },
  {
   "cell_type": "code",
   "execution_count": 25,
   "metadata": {},
   "outputs": [
    {
     "name": "stdout",
     "output_type": "stream",
     "text": [
      "{'project_name': 'project_old', 'structure': [{'type': 'file', 'name': 'app.py', 'path': 'project_old/app.py'}, {'type': 'file', 'name': 'requirements.txt', 'path': 'project_old/requirements.txt'}, {'type': 'directory', 'name': 'utils', 'path': 'project_old/utils', 'children': [{'type': 'file', 'name': 'helpers.py', 'path': 'project_old/utils/helpers.py'}]}]}\n"
     ]
    }
   ],
   "source": [
    "tree_string = str(tree) \n",
    "print(tree_string)"
   ]
  },
  {
   "cell_type": "code",
   "execution_count": 26,
   "metadata": {},
   "outputs": [],
   "source": [
    "### ATTENTTION WE ARE PARSING ONLY THE TREE WITHOUT THE CONTENT\n",
    "### Maybe we can parse the full tree with content but we need to think a solution \n",
    "## Such the project_context does not supperate the limit of tokens.\n",
    "## Maybe chunking or another technique.\n",
    "\n",
    "project_context=project_context+tree_string"
   ]
  },
  {
   "cell_type": "code",
   "execution_count": 27,
   "metadata": {},
   "outputs": [
    {
     "data": {
      "text/plain": [
       "\"requirements.txt: ['# Python dependencies\\\\n', 'flask']{'project_name': 'project_old', 'structure': [{'type': 'file', 'name': 'app.py', 'path': 'project_old/app.py'}, {'type': 'file', 'name': 'requirements.txt', 'path': 'project_old/requirements.txt'}, {'type': 'directory', 'name': 'utils', 'path': 'project_old/utils', 'children': [{'type': 'file', 'name': 'helpers.py', 'path': 'project_old/utils/helpers.py'}]}]}\""
      ]
     },
     "execution_count": 27,
     "metadata": {},
     "output_type": "execute_result"
    }
   ],
   "source": [
    "project_context"
   ]
  },
  {
   "cell_type": "code",
   "execution_count": 28,
   "metadata": {},
   "outputs": [],
   "source": [
    "#feature_request = feature_template.format(feature_request=user_request, project_context=project_context)\n"
   ]
  },
  {
   "cell_type": "code",
   "execution_count": 29,
   "metadata": {},
   "outputs": [],
   "source": [
    "feature_request=user_request"
   ]
  },
  {
   "cell_type": "code",
   "execution_count": 29,
   "metadata": {},
   "outputs": [
    {
     "name": "stdout",
     "output_type": "stream",
     "text": [
      "Debug: Received prompt: Who is man's best friend?\n",
      "Debug: Vector DB provided: False\n",
      "Debug: Formatted prompt:\n",
      "<|begin_of_text|><|start_header_id|>system<|end_header_id|>\n",
      "None<|eot_id|><|start_header_id|>user<|end_header_id|>\n",
      "Who is man's best friend?<|eot_id|><|start_header_id|>assistant<|end_header_id|>\n",
      "\n"
     ]
    },
    {
     "name": "stderr",
     "output_type": "stream",
     "text": [
      "/mnt/c/Blog/Building-LLM-from-Scratch-in-Python/.venv/lib/python3.10/site-packages/ibm_watsonx_ai/foundation_models/utils/utils.py:415: LifecycleWarning: Model 'meta-llama/llama-3-70b-instruct' is in deprecated state from 2024-12-02 until 2025-02-03. IDs of alternative models: None. Further details: https://dataplatform.cloud.ibm.com/docs/content/wsj/analyze-data/fm-model-lifecycle.html?context=wx&audience=wdp\n",
      "  warnings.warn(\n"
     ]
    },
    {
     "name": "stdout",
     "output_type": "stream",
     "text": [
      "Debug: Querying without vector database...\n",
      "Debug: Raw response from model: That's an easy one! Man's best friend is the dog! Dogs have been human companions for thousands of years, providing loyalty, affection, and protection. They are often referred to as \"man's best friend\" because of their unique ability to form strong bonds with humans and provide comfort, companionship, and assistance.\n",
      "Debug: Response as string: That's an easy one! Man's best friend is the dog! Dogs have been human companions for thousands of years, providing loyalty, affection, and protection. They are often referred to as \"man's best friend\" because of their unique ability to form strong bonds with humans and provide comfort, companionship, and assistance.\n",
      "That's an easy one! Man's best friend is the dog! Dogs have been human companions for thousands of years, providing loyalty, affection, and protection. They are often referred to as \"man's best friend\" because of their unique ability to form strong bonds with humans and provide comfort, companionship, and assistance.\n"
     ]
    }
   ],
   "source": [
    "# Step 0: Verification of LLM Connection\n",
    "from src.models.llm_inference import query_llm\n",
    "prompt = \"Who is man's best friend?\"\n",
    "response = query_llm(prompt)\n",
    "print(response)"
   ]
  },
  {
   "cell_type": "code",
   "execution_count": 30,
   "metadata": {},
   "outputs": [
    {
     "data": {
      "text/plain": [
       "'That\\'s an easy one! Man\\'s best friend is the dog! Dogs have been human companions for thousands of years, providing loyalty, affection, and protection. They are often referred to as \"man\\'s best friend\" because of their unique ability to form strong bonds with humans and provide comfort, companionship, and assistance.'"
      ]
     },
     "execution_count": 30,
     "metadata": {},
     "output_type": "execute_result"
    }
   ],
   "source": [
    "response"
   ]
  },
  {
   "cell_type": "code",
   "execution_count": 30,
   "metadata": {},
   "outputs": [],
   "source": [
    "# Step 1: Feature Analysis\n",
    "logger.info(\"Performing feature analysis\")\n",
    "feature_nodes_template = get_prompt_template(\"feature_analysis_nodes\")\n",
    "feature_edges_template = get_prompt_template(\"feature_analysis_edges\")\n",
    "impact_report_template = get_prompt_template(\"feature_impact_report\")\n"
   ]
  },
  {
   "cell_type": "markdown",
   "metadata": {},
   "source": [
    "## Feature Analysis without VectorDB"
   ]
  },
  {
   "cell_type": "code",
   "execution_count": null,
   "metadata": {},
   "outputs": [],
   "source": [
    "#1 feature_nodes"
   ]
  },
  {
   "cell_type": "code",
   "execution_count": 31,
   "metadata": {},
   "outputs": [],
   "source": [
    "feature_nodes = feature_nodes_template.format(\n",
    "    feature_request=user_request, project_context=project_context\n",
    ")"
   ]
  },
  {
   "cell_type": "code",
   "execution_count": 31,
   "metadata": {},
   "outputs": [
    {
     "name": "stdout",
     "output_type": "stream",
     "text": [
      "Debug: Received prompt: Analyze the project context and identify the nodes (files or components) impacted by the following feature request:\n",
      "\n",
      "Feature Request: Add logging functionality to all major modules in the project\n",
      "\n",
      "Project Context: requirements.txt: ['# Python dependencies\\n', 'flask']{'project_name': 'project_old', 'structure': [{'type': 'file', 'name': 'app.py', 'path': 'project_old/app.py'}, {'type': 'file', 'name': 'requirements.txt', 'path': 'project_old/requirements.txt'}, {'type': 'directory', 'name': 'utils', 'path': 'project_old/utils', 'children': [{'type': 'file', 'name': 'helpers.py', 'path': 'project_old/utils/helpers.py'}]}]}\n",
      "\n",
      "Provide a list of impacted nodes and their roles in the project.\n",
      "Debug: Vector DB provided: False\n",
      "Debug: Formatted prompt:\n",
      "<|begin_of_text|><|start_header_id|>system<|end_header_id|>\n",
      "None<|eot_id|><|start_header_id|>user<|end_header_id|>\n",
      "Analyze the project context and identify the nodes (files or components) impacted by the following feature request:\n",
      "\n",
      "Feature Request: Add logging functionality to all major modules in the project\n",
      "\n",
      "Project Context: requirements.txt: ['# Python dependencies\\n', 'flask']{'project_name': 'project_old', 'structure': [{'type': 'file', 'name': 'app.py', 'path': 'project_old/app.py'}, {'type': 'file', 'name': 'requirements.txt', 'path': 'project_old/requirements.txt'}, {'type': 'directory', 'name': 'utils', 'path': 'project_old/utils', 'children': [{'type': 'file', 'name': 'helpers.py', 'path': 'project_old/utils/helpers.py'}]}]}\n",
      "\n",
      "Provide a list of impacted nodes and their roles in the project.<|eot_id|><|start_header_id|>assistant<|end_header_id|>\n",
      "\n"
     ]
    },
    {
     "name": "stderr",
     "output_type": "stream",
     "text": [
      "/mnt/c/Blog/Building-LLM-from-Scratch-in-Python/.venv/lib/python3.10/site-packages/ibm_watsonx_ai/foundation_models/utils/utils.py:415: LifecycleWarning: Model 'meta-llama/llama-3-70b-instruct' is in deprecated state from 2024-12-02 until 2025-02-03. IDs of alternative models: None. Further details: https://dataplatform.cloud.ibm.com/docs/content/wsj/analyze-data/fm-model-lifecycle.html?context=wx&audience=wdp\n",
      "  warnings.warn(\n"
     ]
    },
    {
     "name": "stdout",
     "output_type": "stream",
     "text": [
      "Debug: Querying without vector database...\n",
      "Debug: Raw response from model: Based on the project context and the feature request, the impacted nodes are:\n",
      "\n",
      "1. **app.py**: This is the main application file, and it's likely that logging functionality will need to be added to this file to log events and errors related to the application's core functionality. **Role: Main Application File**\n",
      "\n",
      "2. **helpers.py**: This file is part of the utils module, and it may contain helper functions that are used throughout the application. Adding logging functionality to this file will help track the usage and behavior of these helper functions. **Role: Utility Functions**\n",
      "\n",
      "3. **requirements.txt**: Although this file doesn't need to be directly modified to add logging functionality, it may need to be updated to include a logging library (e.g., Python's built-in `logging` module or a third-party library like `loguru`) as a dependency. **Role: Dependency Management**\n",
      "\n",
      "4. **New logging configuration file (e.g., logging.conf)**: This file may need to be created to configure the logging settings, such as log levels, output formats, and file locations. **Role: Logging Configuration**\n",
      "\n",
      "5. **New logging library or module (e.g., loggers.py)**: Depending on the complexity of the logging requirements, a new module or file may need to be created to encapsulate the logging functionality, making it reusable across the project. **Role: Logging Library**\n",
      "\n",
      "Note that the `utils` directory itself is not directly impacted, but its child file `helpers.py` is. The `project_old` directory is also not directly impacted, as it's just the root directory of the project.\n",
      "Debug: Response as string: Based on the project context and the feature request, the impacted nodes are:\n",
      "\n",
      "1. **app.py**: This is the main application file, and it's likely that logging functionality will need to be added to this file to log events and errors related to the application's core functionality. **Role: Main Application File**\n",
      "\n",
      "2. **helpers.py**: This file is part of the utils module, and it may contain helper functions that are used throughout the application. Adding logging functionality to this file will help track the usage and behavior of these helper functions. **Role: Utility Functions**\n",
      "\n",
      "3. **requirements.txt**: Although this file doesn't need to be directly modified to add logging functionality, it may need to be updated to include a logging library (e.g., Python's built-in `logging` module or a third-party library like `loguru`) as a dependency. **Role: Dependency Management**\n",
      "\n",
      "4. **New logging configuration file (e.g., logging.conf)**: This file may need to be created to configure the logging settings, such as log levels, output formats, and file locations. **Role: Logging Configuration**\n",
      "\n",
      "5. **New logging library or module (e.g., loggers.py)**: Depending on the complexity of the logging requirements, a new module or file may need to be created to encapsulate the logging functionality, making it reusable across the project. **Role: Logging Library**\n",
      "\n",
      "Note that the `utils` directory itself is not directly impacted, but its child file `helpers.py` is. The `project_old` directory is also not directly impacted, as it's just the root directory of the project.\n"
     ]
    }
   ],
   "source": [
    "feature_nodes_response = query_llm(user_input=feature_nodes)"
   ]
  },
  {
   "cell_type": "code",
   "execution_count": null,
   "metadata": {},
   "outputs": [],
   "source": [
    "#2 feature_edges"
   ]
  },
  {
   "cell_type": "code",
   "execution_count": 33,
   "metadata": {},
   "outputs": [],
   "source": [
    "feature_edges = feature_edges_template.format(\n",
    "    feature_request=user_request, project_context=project_context\n",
    ")"
   ]
  },
  {
   "cell_type": "code",
   "execution_count": 35,
   "metadata": {},
   "outputs": [
    {
     "name": "stdout",
     "output_type": "stream",
     "text": [
      "Debug: Received prompt: Analyze the project context and determine the dependencies (edges) impacted by the following feature request:\n",
      "\n",
      "Feature Request: Add logging functionality to all major modules in the project\n",
      "\n",
      "Project Context: requirements.txt: ['# Python dependencies\\n', 'flask']{'project_name': 'project_old', 'structure': [{'type': 'file', 'name': 'app.py', 'path': 'project_old/app.py'}, {'type': 'file', 'name': 'requirements.txt', 'path': 'project_old/requirements.txt'}, {'type': 'directory', 'name': 'utils', 'path': 'project_old/utils', 'children': [{'type': 'file', 'name': 'helpers.py', 'path': 'project_old/utils/helpers.py'}]}]}\n",
      "\n",
      "Provide a list of impacted dependencies and their significance.\n",
      "Debug: Vector DB provided: False\n",
      "Debug: Formatted prompt:\n",
      "<|begin_of_text|><|start_header_id|>system<|end_header_id|>\n",
      "None<|eot_id|><|start_header_id|>user<|end_header_id|>\n",
      "Analyze the project context and determine the dependencies (edges) impacted by the following feature request:\n",
      "\n",
      "Feature Request: Add logging functionality to all major modules in the project\n",
      "\n",
      "Project Context: requirements.txt: ['# Python dependencies\\n', 'flask']{'project_name': 'project_old', 'structure': [{'type': 'file', 'name': 'app.py', 'path': 'project_old/app.py'}, {'type': 'file', 'name': 'requirements.txt', 'path': 'project_old/requirements.txt'}, {'type': 'directory', 'name': 'utils', 'path': 'project_old/utils', 'children': [{'type': 'file', 'name': 'helpers.py', 'path': 'project_old/utils/helpers.py'}]}]}\n",
      "\n",
      "Provide a list of impacted dependencies and their significance.<|eot_id|><|start_header_id|>assistant<|end_header_id|>\n",
      "\n"
     ]
    },
    {
     "name": "stderr",
     "output_type": "stream",
     "text": [
      "/mnt/c/Blog/Building-LLM-from-Scratch-in-Python/.venv/lib/python3.10/site-packages/ibm_watsonx_ai/foundation_models/utils/utils.py:415: LifecycleWarning: Model 'meta-llama/llama-3-70b-instruct' is in deprecated state from 2024-12-02 until 2025-02-03. IDs of alternative models: None. Further details: https://dataplatform.cloud.ibm.com/docs/content/wsj/analyze-data/fm-model-lifecycle.html?context=wx&audience=wdp\n",
      "  warnings.warn(\n"
     ]
    },
    {
     "name": "stdout",
     "output_type": "stream",
     "text": [
      "Debug: Querying without vector database...\n",
      "Debug: Raw response from model: Based on the project context and the feature request, the impacted dependencies (edges) are:\n",
      "\n",
      "1. **app.py -> logging module**: The feature request requires adding logging functionality to all major modules, including app.py. This means that app.py will now depend on the logging module, which is a Python standard library module.\n",
      "\n",
      "Significance: High, as app.py is a major module in the project and logging functionality is a critical aspect of the feature request.\n",
      "\n",
      "2. **helpers.py -> logging module**: Similar to app.py, helpers.py is also a major module in the project, and adding logging functionality to it will introduce a dependency on the logging module.\n",
      "\n",
      "Significance: Medium to High, as helpers.py is a utility module that may be used by other parts of the project, and logging functionality is important for debugging and monitoring.\n",
      "\n",
      "3. **requirements.txt -> logging module (indirectly)**: Although requirements.txt does not directly depend on the logging module, the addition of logging functionality to the project will likely require updates to the requirements.txt file to ensure that the necessary dependencies are installed.\n",
      "\n",
      "Significance: Low to Medium, as the impact on requirements.txt is indirect and primarily related to ensuring that the necessary dependencies are installed.\n",
      "\n",
      "4. **utils directory -> logging module (indirectly)**: The utils directory contains the helpers.py module, which will depend on the logging module. This means that the utils directory will indirectly depend on the logging module.\n",
      "\n",
      "Significance: Low to Medium, as the impact on the utils directory is indirect and primarily related to the dependencies of its child modules.\n",
      "\n",
      "In summary, the feature request to add logging functionality to all major modules in the project will introduce dependencies on the logging module in app.py and helpers.py, with indirect impacts on requirements.txt and the utils directory.\n",
      "Debug: Response as string: Based on the project context and the feature request, the impacted dependencies (edges) are:\n",
      "\n",
      "1. **app.py -> logging module**: The feature request requires adding logging functionality to all major modules, including app.py. This means that app.py will now depend on the logging module, which is a Python standard library module.\n",
      "\n",
      "Significance: High, as app.py is a major module in the project and logging functionality is a critical aspect of the feature request.\n",
      "\n",
      "2. **helpers.py -> logging module**: Similar to app.py, helpers.py is also a major module in the project, and adding logging functionality to it will introduce a dependency on the logging module.\n",
      "\n",
      "Significance: Medium to High, as helpers.py is a utility module that may be used by other parts of the project, and logging functionality is important for debugging and monitoring.\n",
      "\n",
      "3. **requirements.txt -> logging module (indirectly)**: Although requirements.txt does not directly depend on the logging module, the addition of logging functionality to the project will likely require updates to the requirements.txt file to ensure that the necessary dependencies are installed.\n",
      "\n",
      "Significance: Low to Medium, as the impact on requirements.txt is indirect and primarily related to ensuring that the necessary dependencies are installed.\n",
      "\n",
      "4. **utils directory -> logging module (indirectly)**: The utils directory contains the helpers.py module, which will depend on the logging module. This means that the utils directory will indirectly depend on the logging module.\n",
      "\n",
      "Significance: Low to Medium, as the impact on the utils directory is indirect and primarily related to the dependencies of its child modules.\n",
      "\n",
      "In summary, the feature request to add logging functionality to all major modules in the project will introduce dependencies on the logging module in app.py and helpers.py, with indirect impacts on requirements.txt and the utils directory.\n"
     ]
    }
   ],
   "source": [
    "feature_edges_response = query_llm(user_input=feature_edges)"
   ]
  },
  {
   "cell_type": "code",
   "execution_count": null,
   "metadata": {},
   "outputs": [],
   "source": [
    "#3 impact_report"
   ]
  },
  {
   "cell_type": "code",
   "execution_count": 38,
   "metadata": {},
   "outputs": [],
   "source": [
    "impact_report = impact_report_template.format(\n",
    "    feature_request=user_request, project_context=project_context\n",
    ")"
   ]
  },
  {
   "cell_type": "code",
   "execution_count": 40,
   "metadata": {},
   "outputs": [
    {
     "name": "stdout",
     "output_type": "stream",
     "text": [
      "Debug: Received prompt: Generate a detailed report on the impact of the following feature request on the project:\n",
      "\n",
      "Feature Request: Add logging functionality to all major modules in the project\n",
      "\n",
      "Project Context: requirements.txt: ['# Python dependencies\\n', 'flask']{'project_name': 'project_old', 'structure': [{'type': 'file', 'name': 'app.py', 'path': 'project_old/app.py'}, {'type': 'file', 'name': 'requirements.txt', 'path': 'project_old/requirements.txt'}, {'type': 'directory', 'name': 'utils', 'path': 'project_old/utils', 'children': [{'type': 'file', 'name': 'helpers.py', 'path': 'project_old/utils/helpers.py'}]}]}{'project_name': 'project_old', 'structure': [{'type': 'file', 'name': 'app.py', 'path': 'project_old/app.py'}, {'type': 'file', 'name': 'requirements.txt', 'path': 'project_old/requirements.txt'}, {'type': 'directory', 'name': 'utils', 'path': 'project_old/utils', 'children': [{'type': 'file', 'name': 'helpers.py', 'path': 'project_old/utils/helpers.py'}]}]}{'project_name': 'project_old', 'structure': [{'type': 'file', 'name': 'app.py', 'path': 'project_old/app.py'}, {'type': 'file', 'name': 'requirements.txt', 'path': 'project_old/requirements.txt'}, {'type': 'directory', 'name': 'utils', 'path': 'project_old/utils', 'children': [{'type': 'file', 'name': 'helpers.py', 'path': 'project_old/utils/helpers.py'}]}]}{'project_name': 'project_old', 'structure': [{'type': 'file', 'name': 'app.py', 'path': 'project_old/app.py'}, {'type': 'file', 'name': 'requirements.txt', 'path': 'project_old/requirements.txt'}, {'type': 'directory', 'name': 'utils', 'path': 'project_old/utils', 'children': [{'type': 'file', 'name': 'helpers.py', 'path': 'project_old/utils/helpers.py'}]}]}\n",
      "\n",
      "Include risks, suggestions for modular implementation, and expected changes.\n",
      "Debug: Vector DB provided: False\n",
      "Debug: Formatted prompt:\n",
      "<|begin_of_text|><|start_header_id|>system<|end_header_id|>\n",
      "None<|eot_id|><|start_header_id|>user<|end_header_id|>\n",
      "Generate a detailed report on the impact of the following feature request on the project:\n",
      "\n",
      "Feature Request: Add logging functionality to all major modules in the project\n",
      "\n",
      "Project Context: requirements.txt: ['# Python dependencies\\n', 'flask']{'project_name': 'project_old', 'structure': [{'type': 'file', 'name': 'app.py', 'path': 'project_old/app.py'}, {'type': 'file', 'name': 'requirements.txt', 'path': 'project_old/requirements.txt'}, {'type': 'directory', 'name': 'utils', 'path': 'project_old/utils', 'children': [{'type': 'file', 'name': 'helpers.py', 'path': 'project_old/utils/helpers.py'}]}]}{'project_name': 'project_old', 'structure': [{'type': 'file', 'name': 'app.py', 'path': 'project_old/app.py'}, {'type': 'file', 'name': 'requirements.txt', 'path': 'project_old/requirements.txt'}, {'type': 'directory', 'name': 'utils', 'path': 'project_old/utils', 'children': [{'type': 'file', 'name': 'helpers.py', 'path': 'project_old/utils/helpers.py'}]}]}{'project_name': 'project_old', 'structure': [{'type': 'file', 'name': 'app.py', 'path': 'project_old/app.py'}, {'type': 'file', 'name': 'requirements.txt', 'path': 'project_old/requirements.txt'}, {'type': 'directory', 'name': 'utils', 'path': 'project_old/utils', 'children': [{'type': 'file', 'name': 'helpers.py', 'path': 'project_old/utils/helpers.py'}]}]}{'project_name': 'project_old', 'structure': [{'type': 'file', 'name': 'app.py', 'path': 'project_old/app.py'}, {'type': 'file', 'name': 'requirements.txt', 'path': 'project_old/requirements.txt'}, {'type': 'directory', 'name': 'utils', 'path': 'project_old/utils', 'children': [{'type': 'file', 'name': 'helpers.py', 'path': 'project_old/utils/helpers.py'}]}]}\n",
      "\n",
      "Include risks, suggestions for modular implementation, and expected changes.<|eot_id|><|start_header_id|>assistant<|end_header_id|>\n",
      "\n"
     ]
    },
    {
     "name": "stderr",
     "output_type": "stream",
     "text": [
      "/mnt/c/Blog/Building-LLM-from-Scratch-in-Python/.venv/lib/python3.10/site-packages/ibm_watsonx_ai/foundation_models/utils/utils.py:415: LifecycleWarning: Model 'meta-llama/llama-3-70b-instruct' is in deprecated state from 2024-12-02 until 2025-02-03. IDs of alternative models: None. Further details: https://dataplatform.cloud.ibm.com/docs/content/wsj/analyze-data/fm-model-lifecycle.html?context=wx&audience=wdp\n",
      "  warnings.warn(\n"
     ]
    },
    {
     "name": "stdout",
     "output_type": "stream",
     "text": [
      "Debug: Querying without vector database...\n",
      "Debug: Raw response from model: **Impact Report: Adding Logging Functionality to Major Modules**\n",
      "\n",
      "**Introduction**\n",
      "\n",
      "The proposed feature request aims to add logging functionality to all major modules in the project. This report assesses the impact of this request on the project, highlighting potential risks, suggestions for modular implementation, and expected changes.\n",
      "\n",
      "**Project Overview**\n",
      "\n",
      "The project, named \"project_old,\" is a Flask-based application with a simple structure consisting of:\n",
      "\n",
      "1. `app.py`: The main application file.\n",
      "2. `requirements.txt`: The file listing Python dependencies.\n",
      "3. `utils` directory: Containing a single file, `helpers.py`, with utility functions.\n",
      "\n",
      "**Impact Analysis**\n",
      "\n",
      "**Benefits**\n",
      "\n",
      "1. **Improved Debugging**: Logging functionality will enable developers to track errors, warnings, and informational messages, making it easier to debug and troubleshoot issues.\n",
      "2. **Enhanced Monitoring**: Logging will provide insights into the application's behavior, allowing for better monitoring and performance optimization.\n",
      "3. **Compliance**: In some industries, logging is a regulatory requirement. Implementing logging functionality will ensure compliance with these regulations.\n",
      "\n",
      "**Risks and Challenges**\n",
      "\n",
      "1. **Increased Complexity**: Adding logging functionality will introduce additional code, potentially increasing the project's complexity and maintenance overhead.\n",
      "2. **Performance Overhead**: Logging can impact application performance, especially if not implemented efficiently.\n",
      "3. **Configuration and Management**: Logging configuration and management can be time-consuming, especially if not properly planned.\n",
      "\n",
      "**Modular Implementation Suggestions**\n",
      "\n",
      "To minimize the impact of adding logging functionality, a modular implementation approach is recommended:\n",
      "\n",
      "1. **Create a separate logging module**: Develop a dedicated logging module that can be easily integrated into the existing project structure. This module can contain logging configuration, log message formatting, and logging handlers.\n",
      "2. **Use a logging framework**: Leverage a Python logging framework, such as Logbook or structlog, to simplify logging configuration and management.\n",
      "3. **Implement logging in phases**: Roll out logging functionality in phases, starting with critical modules and gradually expanding to other areas of the project.\n",
      "4. **Use logging levels and filters**: Implement logging levels (e.g., DEBUG, INFO, WARNING, ERROR) and filters to control the verbosity and relevance of log messages.\n",
      "\n",
      "**Expected Changes**\n",
      "\n",
      "The following changes are expected as a result of implementing logging functionality:\n",
      "\n",
      "1. **New logging module**: A new module will be added to the project structure, containing logging-related code.\n",
      "2. **Modified existing modules**: Existing modules (e.g., `app.py`, `helpers.py`) will need to be updated to integrate with the new logging module.\n",
      "3. **Updated dependencies**: The `requirements.txt` file may need to be updated to include logging-related dependencies.\n",
      "4. **Changes to testing and deployment**: Testing and deployment scripts may need to be updated to accommodate the new logging functionality.\n",
      "\n",
      "**Conclusion**\n",
      "\n",
      "Adding logging functionality to all major modules in the project will bring significant benefits, including improved debugging and monitoring capabilities. However, it also introduces risks and challenges, such as increased complexity and performance overhead. By adopting a modular implementation approach and using a logging framework, these risks can be mitigated. The expected changes will require careful planning and execution to ensure a smooth integration of logging functionality into the project.\n",
      "Debug: Response as string: **Impact Report: Adding Logging Functionality to Major Modules**\n",
      "\n",
      "**Introduction**\n",
      "\n",
      "The proposed feature request aims to add logging functionality to all major modules in the project. This report assesses the impact of this request on the project, highlighting potential risks, suggestions for modular implementation, and expected changes.\n",
      "\n",
      "**Project Overview**\n",
      "\n",
      "The project, named \"project_old,\" is a Flask-based application with a simple structure consisting of:\n",
      "\n",
      "1. `app.py`: The main application file.\n",
      "2. `requirements.txt`: The file listing Python dependencies.\n",
      "3. `utils` directory: Containing a single file, `helpers.py`, with utility functions.\n",
      "\n",
      "**Impact Analysis**\n",
      "\n",
      "**Benefits**\n",
      "\n",
      "1. **Improved Debugging**: Logging functionality will enable developers to track errors, warnings, and informational messages, making it easier to debug and troubleshoot issues.\n",
      "2. **Enhanced Monitoring**: Logging will provide insights into the application's behavior, allowing for better monitoring and performance optimization.\n",
      "3. **Compliance**: In some industries, logging is a regulatory requirement. Implementing logging functionality will ensure compliance with these regulations.\n",
      "\n",
      "**Risks and Challenges**\n",
      "\n",
      "1. **Increased Complexity**: Adding logging functionality will introduce additional code, potentially increasing the project's complexity and maintenance overhead.\n",
      "2. **Performance Overhead**: Logging can impact application performance, especially if not implemented efficiently.\n",
      "3. **Configuration and Management**: Logging configuration and management can be time-consuming, especially if not properly planned.\n",
      "\n",
      "**Modular Implementation Suggestions**\n",
      "\n",
      "To minimize the impact of adding logging functionality, a modular implementation approach is recommended:\n",
      "\n",
      "1. **Create a separate logging module**: Develop a dedicated logging module that can be easily integrated into the existing project structure. This module can contain logging configuration, log message formatting, and logging handlers.\n",
      "2. **Use a logging framework**: Leverage a Python logging framework, such as Logbook or structlog, to simplify logging configuration and management.\n",
      "3. **Implement logging in phases**: Roll out logging functionality in phases, starting with critical modules and gradually expanding to other areas of the project.\n",
      "4. **Use logging levels and filters**: Implement logging levels (e.g., DEBUG, INFO, WARNING, ERROR) and filters to control the verbosity and relevance of log messages.\n",
      "\n",
      "**Expected Changes**\n",
      "\n",
      "The following changes are expected as a result of implementing logging functionality:\n",
      "\n",
      "1. **New logging module**: A new module will be added to the project structure, containing logging-related code.\n",
      "2. **Modified existing modules**: Existing modules (e.g., `app.py`, `helpers.py`) will need to be updated to integrate with the new logging module.\n",
      "3. **Updated dependencies**: The `requirements.txt` file may need to be updated to include logging-related dependencies.\n",
      "4. **Changes to testing and deployment**: Testing and deployment scripts may need to be updated to accommodate the new logging functionality.\n",
      "\n",
      "**Conclusion**\n",
      "\n",
      "Adding logging functionality to all major modules in the project will bring significant benefits, including improved debugging and monitoring capabilities. However, it also introduces risks and challenges, such as increased complexity and performance overhead. By adopting a modular implementation approach and using a logging framework, these risks can be mitigated. The expected changes will require careful planning and execution to ensure a smooth integration of logging functionality into the project.\n"
     ]
    }
   ],
   "source": [
    "impact_report_response = query_llm(user_input=impact_report)"
   ]
  },
  {
   "cell_type": "markdown",
   "metadata": {},
   "source": [
    "## Feature Analysis with VectorDB"
   ]
  },
  {
   "cell_type": "code",
   "execution_count": 14,
   "metadata": {},
   "outputs": [],
   "source": [
    "vector_db = load_vector_database(persist_directory=\"./chroma_db\")"
   ]
  },
  {
   "cell_type": "code",
   "execution_count": null,
   "metadata": {},
   "outputs": [],
   "source": [
    "from src.vector_database.db_load import load_vector_db_by_collection\n",
    "from src.models.llm_inference import query_llm"
   ]
  },
  {
   "cell_type": "code",
   "execution_count": 37,
   "metadata": {},
   "outputs": [],
   "source": [
    "feature_nodes = feature_nodes_template.format(\n",
    "    feature_request=user_request, project_context=project_context\n",
    ")\n"
   ]
  },
  {
   "cell_type": "code",
   "execution_count": 38,
   "metadata": {},
   "outputs": [
    {
     "data": {
      "text/plain": [
       "\"Analyze the project context and identify the nodes (files or components) impacted by the following feature request:\\n\\nFeature Request: Add logging functionality to all major modules in the project\\n\\nProject Context: requirements.txt: ['# Python dependencies\\\\n', 'flask']{'project_name': 'project_old', 'structure': [{'type': 'file', 'name': 'app.py', 'path': 'project_old/app.py'}, {'type': 'file', 'name': 'requirements.txt', 'path': 'project_old/requirements.txt'}, {'type': 'directory', 'name': 'utils', 'path': 'project_old/utils', 'children': [{'type': 'file', 'name': 'helpers.py', 'path': 'project_old/utils/helpers.py'}]}]}\\n\\nProvide a list of impacted nodes and their roles in the project.\""
      ]
     },
     "execution_count": 38,
     "metadata": {},
     "output_type": "execute_result"
    }
   ],
   "source": [
    "feature_nodes"
   ]
  },
  {
   "cell_type": "code",
   "execution_count": 39,
   "metadata": {},
   "outputs": [
    {
     "name": "stdout",
     "output_type": "stream",
     "text": [
      "Debug: Received prompt: Analyze the project context and identify the nodes (files or components) impacted by the following feature request:\n",
      "\n",
      "Feature Request: Add logging functionality to all major modules in the project\n",
      "\n",
      "Project Context: requirements.txt: ['# Python dependencies\\n', 'flask']{'project_name': 'project_old', 'structure': [{'type': 'file', 'name': 'app.py', 'path': 'project_old/app.py'}, {'type': 'file', 'name': 'requirements.txt', 'path': 'project_old/requirements.txt'}, {'type': 'directory', 'name': 'utils', 'path': 'project_old/utils', 'children': [{'type': 'file', 'name': 'helpers.py', 'path': 'project_old/utils/helpers.py'}]}]}\n",
      "\n",
      "Provide a list of impacted nodes and their roles in the project.\n",
      "Debug: Vector DB provided: True\n",
      "Debug: Formatted prompt:\n",
      "<|begin_of_text|><|start_header_id|>system<|end_header_id|>\n",
      "None<|eot_id|><|start_header_id|>user<|end_header_id|>\n",
      "Analyze the project context and identify the nodes (files or components) impacted by the following feature request:\n",
      "\n",
      "Feature Request: Add logging functionality to all major modules in the project\n",
      "\n",
      "Project Context: requirements.txt: ['# Python dependencies\\n', 'flask']{'project_name': 'project_old', 'structure': [{'type': 'file', 'name': 'app.py', 'path': 'project_old/app.py'}, {'type': 'file', 'name': 'requirements.txt', 'path': 'project_old/requirements.txt'}, {'type': 'directory', 'name': 'utils', 'path': 'project_old/utils', 'children': [{'type': 'file', 'name': 'helpers.py', 'path': 'project_old/utils/helpers.py'}]}]}\n",
      "\n",
      "Provide a list of impacted nodes and their roles in the project.<|eot_id|><|start_header_id|>assistant<|end_header_id|>\n",
      "\n"
     ]
    },
    {
     "name": "stderr",
     "output_type": "stream",
     "text": [
      "/mnt/c/Blog/Building-LLM-from-Scratch-in-Python/.venv/lib/python3.10/site-packages/ibm_watsonx_ai/foundation_models/utils/utils.py:415: LifecycleWarning: Model 'meta-llama/llama-3-70b-instruct' is in deprecated state from 2024-12-02 until 2025-02-03. IDs of alternative models: None. Further details: https://dataplatform.cloud.ibm.com/docs/content/wsj/analyze-data/fm-model-lifecycle.html?context=wx&audience=wdp\n",
      "  warnings.warn(\n",
      "Number of requested results 5 is greater than number of elements in index 3, updating n_results = 3\n"
     ]
    },
    {
     "name": "stdout",
     "output_type": "stream",
     "text": [
      "Debug: Querying using vector database...\n",
      "Debug: Raw response from vector DB: {'query': \"<|begin_of_text|><|start_header_id|>system<|end_header_id|>\\nNone<|eot_id|><|start_header_id|>user<|end_header_id|>\\nAnalyze the project context and identify the nodes (files or components) impacted by the following feature request:\\n\\nFeature Request: Add logging functionality to all major modules in the project\\n\\nProject Context: requirements.txt: ['# Python dependencies\\\\n', 'flask']{'project_name': 'project_old', 'structure': [{'type': 'file', 'name': 'app.py', 'path': 'project_old/app.py'}, {'type': 'file', 'name': 'requirements.txt', 'path': 'project_old/requirements.txt'}, {'type': 'directory', 'name': 'utils', 'path': 'project_old/utils', 'children': [{'type': 'file', 'name': 'helpers.py', 'path': 'project_old/utils/helpers.py'}]}]}\\n\\nProvide a list of impacted nodes and their roles in the project.<|eot_id|><|start_header_id|>assistant<|end_header_id|>\\n\", 'result': ' \\n\\nBased on the project context, the nodes impacted by the feature request to add logging functionality to all major modules in the project are:\\n\\n1. `app.py` (Role: Main application file)\\n2. `helpers.py` (Role: Utility module providing helper functions)\\n\\nThese nodes are impacted because they are the major modules in the project where logging functionality needs to be added. The `requirements.txt` file is not directly impacted as it only lists dependencies, and the `utils` directory is a container for the `helpers.py` module.'}\n",
      "Debug: Extracted result: Based on the project context, the nodes impacted by the feature request to add logging functionality to all major modules in the project are:\n",
      "\n",
      "1. `app.py` (Role: Main application file)\n",
      "2. `helpers.py` (Role: Utility module providing helper functions)\n",
      "\n",
      "These nodes are impacted because they are the major modules in the project where logging functionality needs to be added. The `requirements.txt` file is not directly impacted as it only lists dependencies, and the `utils` directory is a container for the `helpers.py` module.\n"
     ]
    }
   ],
   "source": [
    "feature_nodes_response_db = query_llm(user_input=feature_nodes,vector_db=vector_db)"
   ]
  },
  {
   "cell_type": "code",
   "execution_count": 40,
   "metadata": {},
   "outputs": [
    {
     "name": "stdout",
     "output_type": "stream",
     "text": [
      "Debug: Received prompt: Analyze the project context and determine the dependencies (edges) impacted by the following feature request:\n",
      "\n",
      "Feature Request: Add logging functionality to all major modules in the project\n",
      "\n",
      "Project Context: requirements.txt: ['# Python dependencies\\n', 'flask']{'project_name': 'project_old', 'structure': [{'type': 'file', 'name': 'app.py', 'path': 'project_old/app.py'}, {'type': 'file', 'name': 'requirements.txt', 'path': 'project_old/requirements.txt'}, {'type': 'directory', 'name': 'utils', 'path': 'project_old/utils', 'children': [{'type': 'file', 'name': 'helpers.py', 'path': 'project_old/utils/helpers.py'}]}]}\n",
      "\n",
      "Provide a list of impacted dependencies and their significance.\n",
      "Debug: Vector DB provided: True\n",
      "Debug: Formatted prompt:\n",
      "<|begin_of_text|><|start_header_id|>system<|end_header_id|>\n",
      "None<|eot_id|><|start_header_id|>user<|end_header_id|>\n",
      "Analyze the project context and determine the dependencies (edges) impacted by the following feature request:\n",
      "\n",
      "Feature Request: Add logging functionality to all major modules in the project\n",
      "\n",
      "Project Context: requirements.txt: ['# Python dependencies\\n', 'flask']{'project_name': 'project_old', 'structure': [{'type': 'file', 'name': 'app.py', 'path': 'project_old/app.py'}, {'type': 'file', 'name': 'requirements.txt', 'path': 'project_old/requirements.txt'}, {'type': 'directory', 'name': 'utils', 'path': 'project_old/utils', 'children': [{'type': 'file', 'name': 'helpers.py', 'path': 'project_old/utils/helpers.py'}]}]}\n",
      "\n",
      "Provide a list of impacted dependencies and their significance.<|eot_id|><|start_header_id|>assistant<|end_header_id|>\n",
      "\n"
     ]
    },
    {
     "name": "stderr",
     "output_type": "stream",
     "text": [
      "/mnt/c/Blog/Building-LLM-from-Scratch-in-Python/.venv/lib/python3.10/site-packages/ibm_watsonx_ai/foundation_models/utils/utils.py:415: LifecycleWarning: Model 'meta-llama/llama-3-70b-instruct' is in deprecated state from 2024-12-02 until 2025-02-03. IDs of alternative models: None. Further details: https://dataplatform.cloud.ibm.com/docs/content/wsj/analyze-data/fm-model-lifecycle.html?context=wx&audience=wdp\n",
      "  warnings.warn(\n",
      "Number of requested results 5 is greater than number of elements in index 3, updating n_results = 3\n"
     ]
    },
    {
     "name": "stdout",
     "output_type": "stream",
     "text": [
      "Debug: Querying using vector database...\n",
      "Debug: Raw response from vector DB: {'query': \"<|begin_of_text|><|start_header_id|>system<|end_header_id|>\\nNone<|eot_id|><|start_header_id|>user<|end_header_id|>\\nAnalyze the project context and determine the dependencies (edges) impacted by the following feature request:\\n\\nFeature Request: Add logging functionality to all major modules in the project\\n\\nProject Context: requirements.txt: ['# Python dependencies\\\\n', 'flask']{'project_name': 'project_old', 'structure': [{'type': 'file', 'name': 'app.py', 'path': 'project_old/app.py'}, {'type': 'file', 'name': 'requirements.txt', 'path': 'project_old/requirements.txt'}, {'type': 'directory', 'name': 'utils', 'path': 'project_old/utils', 'children': [{'type': 'file', 'name': 'helpers.py', 'path': 'project_old/utils/helpers.py'}]}]}\\n\\nProvide a list of impacted dependencies and their significance.<|eot_id|><|start_header_id|>assistant<|end_header_id|>\\n\", 'result': \" \\n\\nBased on the project context, the feature request to add logging functionality to all major modules in the project will impact the following dependencies:\\n\\n1. `app.py`: This file will need to be modified to include logging functionality, which means it will have a new dependency on a logging module (e.g., Python's built-in `logging` module or a third-party logging library).\\n\\nSignificance: High, as `app.py` is the main entry point of the application and logging will be essential for debugging and monitoring.\\n\\n2. `utils/helpers.py`: This file will also need to be modified to include logging functionality, which means it will have a new dependency on a logging module.\\n\\nSignificance: Medium, as `helpers.py` is a utility module and logging will be useful for debugging and monitoring its functions.\\n\\n3. `requirements.txt`: A new dependency on a logging library (if not using Python's built-in `logging` module) will need to be added to the `requirements.txt` file.\\n\\nSignificance: Low, as this is just a declaration of the dependency and does not affect the code directly.\\n\\nNo impact is expected on the `flask` dependency, as it is a web framework and not directly related to logging functionality.\\n\\nNote that the significance of the impacted dependencies is subjective and may vary depending on the specific project requirements and constraints.\"}\n",
      "Debug: Extracted result: Based on the project context, the feature request to add logging functionality to all major modules in the project will impact the following dependencies:\n",
      "\n",
      "1. `app.py`: This file will need to be modified to include logging functionality, which means it will have a new dependency on a logging module (e.g., Python's built-in `logging` module or a third-party logging library).\n",
      "\n",
      "Significance: High, as `app.py` is the main entry point of the application and logging will be essential for debugging and monitoring.\n",
      "\n",
      "2. `utils/helpers.py`: This file will also need to be modified to include logging functionality, which means it will have a new dependency on a logging module.\n",
      "\n",
      "Significance: Medium, as `helpers.py` is a utility module and logging will be useful for debugging and monitoring its functions.\n",
      "\n",
      "3. `requirements.txt`: A new dependency on a logging library (if not using Python's built-in `logging` module) will need to be added to the `requirements.txt` file.\n",
      "\n",
      "Significance: Low, as this is just a declaration of the dependency and does not affect the code directly.\n",
      "\n",
      "No impact is expected on the `flask` dependency, as it is a web framework and not directly related to logging functionality.\n",
      "\n",
      "Note that the significance of the impacted dependencies is subjective and may vary depending on the specific project requirements and constraints.\n"
     ]
    }
   ],
   "source": [
    "feature_edges = feature_edges_template.format(\n",
    "    feature_request=user_request, project_context=project_context\n",
    ")\n",
    "\n",
    "feature_edges_response_db = query_llm(user_input=feature_edges,vector_db=vector_db)"
   ]
  },
  {
   "cell_type": "code",
   "execution_count": 41,
   "metadata": {},
   "outputs": [
    {
     "name": "stdout",
     "output_type": "stream",
     "text": [
      "Debug: Received prompt: Generate a detailed report on the impact of the following feature request on the project:\n",
      "\n",
      "Feature Request: Add logging functionality to all major modules in the project\n",
      "\n",
      "Project Context: requirements.txt: ['# Python dependencies\\n', 'flask']{'project_name': 'project_old', 'structure': [{'type': 'file', 'name': 'app.py', 'path': 'project_old/app.py'}, {'type': 'file', 'name': 'requirements.txt', 'path': 'project_old/requirements.txt'}, {'type': 'directory', 'name': 'utils', 'path': 'project_old/utils', 'children': [{'type': 'file', 'name': 'helpers.py', 'path': 'project_old/utils/helpers.py'}]}]}\n",
      "\n",
      "Include risks, suggestions for modular implementation, and expected changes.\n",
      "Debug: Vector DB provided: True\n",
      "Debug: Formatted prompt:\n",
      "<|begin_of_text|><|start_header_id|>system<|end_header_id|>\n",
      "None<|eot_id|><|start_header_id|>user<|end_header_id|>\n",
      "Generate a detailed report on the impact of the following feature request on the project:\n",
      "\n",
      "Feature Request: Add logging functionality to all major modules in the project\n",
      "\n",
      "Project Context: requirements.txt: ['# Python dependencies\\n', 'flask']{'project_name': 'project_old', 'structure': [{'type': 'file', 'name': 'app.py', 'path': 'project_old/app.py'}, {'type': 'file', 'name': 'requirements.txt', 'path': 'project_old/requirements.txt'}, {'type': 'directory', 'name': 'utils', 'path': 'project_old/utils', 'children': [{'type': 'file', 'name': 'helpers.py', 'path': 'project_old/utils/helpers.py'}]}]}\n",
      "\n",
      "Include risks, suggestions for modular implementation, and expected changes.<|eot_id|><|start_header_id|>assistant<|end_header_id|>\n",
      "\n"
     ]
    },
    {
     "name": "stderr",
     "output_type": "stream",
     "text": [
      "/mnt/c/Blog/Building-LLM-from-Scratch-in-Python/.venv/lib/python3.10/site-packages/ibm_watsonx_ai/foundation_models/utils/utils.py:415: LifecycleWarning: Model 'meta-llama/llama-3-70b-instruct' is in deprecated state from 2024-12-02 until 2025-02-03. IDs of alternative models: None. Further details: https://dataplatform.cloud.ibm.com/docs/content/wsj/analyze-data/fm-model-lifecycle.html?context=wx&audience=wdp\n",
      "  warnings.warn(\n",
      "Number of requested results 5 is greater than number of elements in index 3, updating n_results = 3\n"
     ]
    },
    {
     "name": "stdout",
     "output_type": "stream",
     "text": [
      "Debug: Querying using vector database...\n",
      "Debug: Raw response from vector DB: {'query': \"<|begin_of_text|><|start_header_id|>system<|end_header_id|>\\nNone<|eot_id|><|start_header_id|>user<|end_header_id|>\\nGenerate a detailed report on the impact of the following feature request on the project:\\n\\nFeature Request: Add logging functionality to all major modules in the project\\n\\nProject Context: requirements.txt: ['# Python dependencies\\\\n', 'flask']{'project_name': 'project_old', 'structure': [{'type': 'file', 'name': 'app.py', 'path': 'project_old/app.py'}, {'type': 'file', 'name': 'requirements.txt', 'path': 'project_old/requirements.txt'}, {'type': 'directory', 'name': 'utils', 'path': 'project_old/utils', 'children': [{'type': 'file', 'name': 'helpers.py', 'path': 'project_old/utils/helpers.py'}]}]}\\n\\nInclude risks, suggestions for modular implementation, and expected changes.<|eot_id|><|start_header_id|>assistant<|end_header_id|>\\n\", 'result': \" \\n\\n**Impact Report: Adding Logging Functionality to Major Modules**\\n\\n**Overview**\\n\\nThe feature request to add logging functionality to all major modules in the project aims to enhance the project's debugging and monitoring capabilities. This report assesses the impact of this request on the project, highlighting potential risks, suggestions for modular implementation, and expected changes.\\n\\n**Risks**\\n\\n1. **Increased Complexity**: Introducing logging functionality may add complexity to the codebase, potentially leading to maintainability issues if not implemented carefully.\\n2. **Performance Overhead**: Logging can introduce performance overhead, especially if not optimized for production environments.\\n3. **Dependency Management**: The addition of a logging library may introduce new dependencies, which can lead to version conflicts or compatibility issues.\\n\\n**Suggestions for Modular Implementation**\\n\\n1. **Use a Logging Library**: Utilize a established Python logging library, such as `logging` or `logbook`, to simplify the implementation and minimize the risk of introducing custom logging code.\\n2. **Create a Logging Module**: Develop a dedicated logging module that can be imported and used across the project, promoting consistency and reusability.\\n3. **Configure Logging**: Implement a configuration system to allow for flexible logging settings, such as log levels, output formats, and destinations (e.g., console, file, or network).\\n4. **Log at Multiple Levels**: Provide logging at different levels (e.g., debug, info, warning, error) to cater to various use cases and debugging scenarios.\\n\\n**Expected Changes**\\n\\n1. **Updated `requirements.txt`**: The `requirements.txt` file will need to be updated to include the chosen logging library.\\n2. **New Logging Module**: A new module, e.g., `logger.py`, will be created to encapsulate the logging functionality.\\n3. **Modified `app.py` and `helpers.py`**: These files will require updates to integrate with the new logging module and utilize the logging functionality.\\n4. **Additional Configuration**: A configuration system will be implemented to manage logging settings, which may involve adding new files or modifying existing ones.\\n\\n**Implementation Roadmap**\\n\\n1. Research and select a suitable logging library.\\n2. Develop the logging module and configure the logging system.\\n3. Update `app.py` and `helpers.py` to integrate with the logging module.\\n4. Test the logging functionality thoroughly to ensure it meets the project's requirements.\\n\\nBy carefully considering the risks and implementing the logging functionality in a modular and configurable manner, the project can benefit from enhanced debugging and monitoring capabilities without introducing unnecessary complexity or performance overhead.\"}\n",
      "Debug: Extracted result: **Impact Report: Adding Logging Functionality to Major Modules**\n",
      "\n",
      "**Overview**\n",
      "\n",
      "The feature request to add logging functionality to all major modules in the project aims to enhance the project's debugging and monitoring capabilities. This report assesses the impact of this request on the project, highlighting potential risks, suggestions for modular implementation, and expected changes.\n",
      "\n",
      "**Risks**\n",
      "\n",
      "1. **Increased Complexity**: Introducing logging functionality may add complexity to the codebase, potentially leading to maintainability issues if not implemented carefully.\n",
      "2. **Performance Overhead**: Logging can introduce performance overhead, especially if not optimized for production environments.\n",
      "3. **Dependency Management**: The addition of a logging library may introduce new dependencies, which can lead to version conflicts or compatibility issues.\n",
      "\n",
      "**Suggestions for Modular Implementation**\n",
      "\n",
      "1. **Use a Logging Library**: Utilize a established Python logging library, such as `logging` or `logbook`, to simplify the implementation and minimize the risk of introducing custom logging code.\n",
      "2. **Create a Logging Module**: Develop a dedicated logging module that can be imported and used across the project, promoting consistency and reusability.\n",
      "3. **Configure Logging**: Implement a configuration system to allow for flexible logging settings, such as log levels, output formats, and destinations (e.g., console, file, or network).\n",
      "4. **Log at Multiple Levels**: Provide logging at different levels (e.g., debug, info, warning, error) to cater to various use cases and debugging scenarios.\n",
      "\n",
      "**Expected Changes**\n",
      "\n",
      "1. **Updated `requirements.txt`**: The `requirements.txt` file will need to be updated to include the chosen logging library.\n",
      "2. **New Logging Module**: A new module, e.g., `logger.py`, will be created to encapsulate the logging functionality.\n",
      "3. **Modified `app.py` and `helpers.py`**: These files will require updates to integrate with the new logging module and utilize the logging functionality.\n",
      "4. **Additional Configuration**: A configuration system will be implemented to manage logging settings, which may involve adding new files or modifying existing ones.\n",
      "\n",
      "**Implementation Roadmap**\n",
      "\n",
      "1. Research and select a suitable logging library.\n",
      "2. Develop the logging module and configure the logging system.\n",
      "3. Update `app.py` and `helpers.py` to integrate with the logging module.\n",
      "4. Test the logging functionality thoroughly to ensure it meets the project's requirements.\n",
      "\n",
      "By carefully considering the risks and implementing the logging functionality in a modular and configurable manner, the project can benefit from enhanced debugging and monitoring capabilities without introducing unnecessary complexity or performance overhead.\n"
     ]
    }
   ],
   "source": [
    "impact_report = impact_report_template.format(\n",
    "    feature_request=user_request, project_context=project_context\n",
    ")\n",
    "\n",
    "impact_report_response_db = query_llm(user_input=impact_report,vector_db=vector_db)"
   ]
  },
  {
   "cell_type": "code",
   "execution_count": null,
   "metadata": {},
   "outputs": [],
   "source": [
    "feature_nodes_response_db\n",
    "feature_edges_response_db\n",
    "impact_report_response_db"
   ]
  },
  {
   "cell_type": "code",
   "execution_count": null,
   "metadata": {},
   "outputs": [],
   "source": [
    "analysis_results=feature_nodes_response_db+feature_nodes_response_db+impact_report_response_db"
   ]
  },
  {
   "cell_type": "code",
   "execution_count": 48,
   "metadata": {},
   "outputs": [],
   "source": [
    "analysis_results=f\"Nodes:\\n{feature_nodes_response_db}\\n\\nEdges:\\n{feature_nodes_response_db}\\n\\nReport:\\n{impact_report_response_db}\""
   ]
  },
  {
   "cell_type": "code",
   "execution_count": 49,
   "metadata": {},
   "outputs": [
    {
     "name": "stdout",
     "output_type": "stream",
     "text": [
      "Nodes:\n",
      "Based on the project context, the nodes impacted by the feature request to add logging functionality to all major modules in the project are:\n",
      "\n",
      "1. `app.py` (Role: Main application file)\n",
      "2. `helpers.py` (Role: Utility module providing helper functions)\n",
      "\n",
      "These nodes are impacted because they are the major modules in the project where logging functionality needs to be added. The `requirements.txt` file is not directly impacted as it only lists dependencies, and the `utils` directory is a container for the `helpers.py` module.\n",
      "\n",
      "Edges:\n",
      "Based on the project context, the nodes impacted by the feature request to add logging functionality to all major modules in the project are:\n",
      "\n",
      "1. `app.py` (Role: Main application file)\n",
      "2. `helpers.py` (Role: Utility module providing helper functions)\n",
      "\n",
      "These nodes are impacted because they are the major modules in the project where logging functionality needs to be added. The `requirements.txt` file is not directly impacted as it only lists dependencies, and the `utils` directory is a container for the `helpers.py` module.\n",
      "\n",
      "Report:\n",
      "**Impact Report: Adding Logging Functionality to Major Modules**\n",
      "\n",
      "**Overview**\n",
      "\n",
      "The feature request to add logging functionality to all major modules in the project aims to enhance the project's debugging and monitoring capabilities. This report assesses the impact of this request on the project, highlighting potential risks, suggestions for modular implementation, and expected changes.\n",
      "\n",
      "**Risks**\n",
      "\n",
      "1. **Increased Complexity**: Introducing logging functionality may add complexity to the codebase, potentially leading to maintainability issues if not implemented carefully.\n",
      "2. **Performance Overhead**: Logging can introduce performance overhead, especially if not optimized for production environments.\n",
      "3. **Dependency Management**: The addition of a logging library may introduce new dependencies, which can lead to version conflicts or compatibility issues.\n",
      "\n",
      "**Suggestions for Modular Implementation**\n",
      "\n",
      "1. **Use a Logging Library**: Utilize a established Python logging library, such as `logging` or `logbook`, to simplify the implementation and minimize the risk of introducing custom logging code.\n",
      "2. **Create a Logging Module**: Develop a dedicated logging module that can be imported and used across the project, promoting consistency and reusability.\n",
      "3. **Configure Logging**: Implement a configuration system to allow for flexible logging settings, such as log levels, output formats, and destinations (e.g., console, file, or network).\n",
      "4. **Log at Multiple Levels**: Provide logging at different levels (e.g., debug, info, warning, error) to cater to various use cases and debugging scenarios.\n",
      "\n",
      "**Expected Changes**\n",
      "\n",
      "1. **Updated `requirements.txt`**: The `requirements.txt` file will need to be updated to include the chosen logging library.\n",
      "2. **New Logging Module**: A new module, e.g., `logger.py`, will be created to encapsulate the logging functionality.\n",
      "3. **Modified `app.py` and `helpers.py`**: These files will require updates to integrate with the new logging module and utilize the logging functionality.\n",
      "4. **Additional Configuration**: A configuration system will be implemented to manage logging settings, which may involve adding new files or modifying existing ones.\n",
      "\n",
      "**Implementation Roadmap**\n",
      "\n",
      "1. Research and select a suitable logging library.\n",
      "2. Develop the logging module and configure the logging system.\n",
      "3. Update `app.py` and `helpers.py` to integrate with the logging module.\n",
      "4. Test the logging functionality thoroughly to ensure it meets the project's requirements.\n",
      "\n",
      "By carefully considering the risks and implementing the logging functionality in a modular and configurable manner, the project can benefit from enhanced debugging and monitoring capabilities without introducing unnecessary complexity or performance overhead.\n"
     ]
    }
   ],
   "source": [
    "print(analysis_results)"
   ]
  },
  {
   "cell_type": "code",
   "execution_count": 53,
   "metadata": {},
   "outputs": [
    {
     "data": {
      "text/plain": [
       "\"Analyze the project context and identify the nodes (files or components) impacted by the following feature request:\\n\\nFeature Request: Add logging functionality to all major modules in the project\\n\\nProject Context: requirements.txt: ['# Python dependencies\\\\n', 'flask']{'project_name': 'project_old', 'structure': [{'type': 'file', 'name': 'app.py', 'path': 'project_old/app.py'}, {'type': 'file', 'name': 'requirements.txt', 'path': 'project_old/requirements.txt'}, {'type': 'directory', 'name': 'utils', 'path': 'project_old/utils', 'children': [{'type': 'file', 'name': 'helpers.py', 'path': 'project_old/utils/helpers.py'}]}]}\\n\\nProvide a list of impacted nodes and their roles in the project.\""
      ]
     },
     "execution_count": 53,
     "metadata": {},
     "output_type": "execute_result"
    }
   ],
   "source": [
    "feature_nodes"
   ]
  },
  {
   "cell_type": "code",
   "execution_count": 54,
   "metadata": {},
   "outputs": [],
   "source": [
    "# Step 1.5: Preprocessing\n",
    "logger.info(\"Preprocessing results of feature analysis\")\n",
    "preprocessing_template = get_prompt_template(\"preprocessing_step\")"
   ]
  },
  {
   "cell_type": "code",
   "execution_count": 55,
   "metadata": {},
   "outputs": [
    {
     "data": {
      "text/plain": [
       "'Using the results of the feature analysis, identify the specific files to be handled for the following feature request:\\n\\nFeature Request: {feature_request}\\n\\nFeature Analysis Results:\\n{analysis_results}\\n\\nFor each impacted file:\\n- Provide the file path.\\n- Specify the task to be performed on the file (e.g., modify, add functionality).\\n\\nFor any new file required:\\n- Specify the file path.\\n- Provide a brief description of its purpose.\\n- Suggest the initial content or structure the file should include.\\n\\nEnsure the output clearly separates existing files and new files to be created.'"
      ]
     },
     "execution_count": 55,
     "metadata": {},
     "output_type": "execute_result"
    }
   ],
   "source": [
    "preprocessing_template"
   ]
  },
  {
   "cell_type": "code",
   "execution_count": 56,
   "metadata": {},
   "outputs": [],
   "source": [
    "\n",
    "\n",
    "# Include the results of feature analysis (nodes and edges)\n",
    "preprocessing_prompt = preprocessing_template.format(\n",
    "    feature_request=user_request,\n",
    "    analysis_results=f\"Nodes:\\n{feature_nodes_response_db}\\n\\nEdges:\\n{feature_nodes_response_db}\\n\\nReport:\\n{impact_report_response_db}\"\n",
    ")"
   ]
  },
  {
   "cell_type": "code",
   "execution_count": 59,
   "metadata": {},
   "outputs": [
    {
     "name": "stdout",
     "output_type": "stream",
     "text": [
      "Using the results of the feature analysis, identify the specific files to be handled for the following feature request:\n",
      "\n",
      "Feature Request: Add logging functionality to all major modules in the project\n",
      "\n",
      "Feature Analysis Results:\n",
      "Nodes:\n",
      "Based on the project context, the nodes impacted by the feature request to add logging functionality to all major modules in the project are:\n",
      "\n",
      "1. `app.py` (Role: Main application file)\n",
      "2. `helpers.py` (Role: Utility module providing helper functions)\n",
      "\n",
      "These nodes are impacted because they are the major modules in the project where logging functionality needs to be added. The `requirements.txt` file is not directly impacted as it only lists dependencies, and the `utils` directory is a container for the `helpers.py` module.\n",
      "\n",
      "Edges:\n",
      "Based on the project context, the nodes impacted by the feature request to add logging functionality to all major modules in the project are:\n",
      "\n",
      "1. `app.py` (Role: Main application file)\n",
      "2. `helpers.py` (Role: Utility module providing helper functions)\n",
      "\n",
      "These nodes are impacted because they are the major modules in the project where logging functionality needs to be added. The `requirements.txt` file is not directly impacted as it only lists dependencies, and the `utils` directory is a container for the `helpers.py` module.\n",
      "\n",
      "Report:\n",
      "**Impact Report: Adding Logging Functionality to Major Modules**\n",
      "\n",
      "**Overview**\n",
      "\n",
      "The feature request to add logging functionality to all major modules in the project aims to enhance the project's debugging and monitoring capabilities. This report assesses the impact of this request on the project, highlighting potential risks, suggestions for modular implementation, and expected changes.\n",
      "\n",
      "**Risks**\n",
      "\n",
      "1. **Increased Complexity**: Introducing logging functionality may add complexity to the codebase, potentially leading to maintainability issues if not implemented carefully.\n",
      "2. **Performance Overhead**: Logging can introduce performance overhead, especially if not optimized for production environments.\n",
      "3. **Dependency Management**: The addition of a logging library may introduce new dependencies, which can lead to version conflicts or compatibility issues.\n",
      "\n",
      "**Suggestions for Modular Implementation**\n",
      "\n",
      "1. **Use a Logging Library**: Utilize a established Python logging library, such as `logging` or `logbook`, to simplify the implementation and minimize the risk of introducing custom logging code.\n",
      "2. **Create a Logging Module**: Develop a dedicated logging module that can be imported and used across the project, promoting consistency and reusability.\n",
      "3. **Configure Logging**: Implement a configuration system to allow for flexible logging settings, such as log levels, output formats, and destinations (e.g., console, file, or network).\n",
      "4. **Log at Multiple Levels**: Provide logging at different levels (e.g., debug, info, warning, error) to cater to various use cases and debugging scenarios.\n",
      "\n",
      "**Expected Changes**\n",
      "\n",
      "1. **Updated `requirements.txt`**: The `requirements.txt` file will need to be updated to include the chosen logging library.\n",
      "2. **New Logging Module**: A new module, e.g., `logger.py`, will be created to encapsulate the logging functionality.\n",
      "3. **Modified `app.py` and `helpers.py`**: These files will require updates to integrate with the new logging module and utilize the logging functionality.\n",
      "4. **Additional Configuration**: A configuration system will be implemented to manage logging settings, which may involve adding new files or modifying existing ones.\n",
      "\n",
      "**Implementation Roadmap**\n",
      "\n",
      "1. Research and select a suitable logging library.\n",
      "2. Develop the logging module and configure the logging system.\n",
      "3. Update `app.py` and `helpers.py` to integrate with the logging module.\n",
      "4. Test the logging functionality thoroughly to ensure it meets the project's requirements.\n",
      "\n",
      "By carefully considering the risks and implementing the logging functionality in a modular and configurable manner, the project can benefit from enhanced debugging and monitoring capabilities without introducing unnecessary complexity or performance overhead.\n",
      "\n",
      "For each impacted file:\n",
      "- Provide the file path.\n",
      "- Specify the task to be performed on the file (e.g., modify, add functionality).\n",
      "\n",
      "For any new file required:\n",
      "- Specify the file path.\n",
      "- Provide a brief description of its purpose.\n",
      "- Suggest the initial content or structure the file should include.\n",
      "\n",
      "Ensure the output clearly separates existing files and new files to be created.\n"
     ]
    }
   ],
   "source": [
    "print(preprocessing_prompt)\n"
   ]
  },
  {
   "cell_type": "code",
   "execution_count": 60,
   "metadata": {},
   "outputs": [
    {
     "name": "stdout",
     "output_type": "stream",
     "text": [
      "Debug: Received prompt: Using the results of the feature analysis, identify the specific files to be handled for the following feature request:\n",
      "\n",
      "Feature Request: Add logging functionality to all major modules in the project\n",
      "\n",
      "Feature Analysis Results:\n",
      "Nodes:\n",
      "Based on the project context, the nodes impacted by the feature request to add logging functionality to all major modules in the project are:\n",
      "\n",
      "1. `app.py` (Role: Main application file)\n",
      "2. `helpers.py` (Role: Utility module providing helper functions)\n",
      "\n",
      "These nodes are impacted because they are the major modules in the project where logging functionality needs to be added. The `requirements.txt` file is not directly impacted as it only lists dependencies, and the `utils` directory is a container for the `helpers.py` module.\n",
      "\n",
      "Edges:\n",
      "Based on the project context, the nodes impacted by the feature request to add logging functionality to all major modules in the project are:\n",
      "\n",
      "1. `app.py` (Role: Main application file)\n",
      "2. `helpers.py` (Role: Utility module providing helper functions)\n",
      "\n",
      "These nodes are impacted because they are the major modules in the project where logging functionality needs to be added. The `requirements.txt` file is not directly impacted as it only lists dependencies, and the `utils` directory is a container for the `helpers.py` module.\n",
      "\n",
      "Report:\n",
      "**Impact Report: Adding Logging Functionality to Major Modules**\n",
      "\n",
      "**Overview**\n",
      "\n",
      "The feature request to add logging functionality to all major modules in the project aims to enhance the project's debugging and monitoring capabilities. This report assesses the impact of this request on the project, highlighting potential risks, suggestions for modular implementation, and expected changes.\n",
      "\n",
      "**Risks**\n",
      "\n",
      "1. **Increased Complexity**: Introducing logging functionality may add complexity to the codebase, potentially leading to maintainability issues if not implemented carefully.\n",
      "2. **Performance Overhead**: Logging can introduce performance overhead, especially if not optimized for production environments.\n",
      "3. **Dependency Management**: The addition of a logging library may introduce new dependencies, which can lead to version conflicts or compatibility issues.\n",
      "\n",
      "**Suggestions for Modular Implementation**\n",
      "\n",
      "1. **Use a Logging Library**: Utilize a established Python logging library, such as `logging` or `logbook`, to simplify the implementation and minimize the risk of introducing custom logging code.\n",
      "2. **Create a Logging Module**: Develop a dedicated logging module that can be imported and used across the project, promoting consistency and reusability.\n",
      "3. **Configure Logging**: Implement a configuration system to allow for flexible logging settings, such as log levels, output formats, and destinations (e.g., console, file, or network).\n",
      "4. **Log at Multiple Levels**: Provide logging at different levels (e.g., debug, info, warning, error) to cater to various use cases and debugging scenarios.\n",
      "\n",
      "**Expected Changes**\n",
      "\n",
      "1. **Updated `requirements.txt`**: The `requirements.txt` file will need to be updated to include the chosen logging library.\n",
      "2. **New Logging Module**: A new module, e.g., `logger.py`, will be created to encapsulate the logging functionality.\n",
      "3. **Modified `app.py` and `helpers.py`**: These files will require updates to integrate with the new logging module and utilize the logging functionality.\n",
      "4. **Additional Configuration**: A configuration system will be implemented to manage logging settings, which may involve adding new files or modifying existing ones.\n",
      "\n",
      "**Implementation Roadmap**\n",
      "\n",
      "1. Research and select a suitable logging library.\n",
      "2. Develop the logging module and configure the logging system.\n",
      "3. Update `app.py` and `helpers.py` to integrate with the logging module.\n",
      "4. Test the logging functionality thoroughly to ensure it meets the project's requirements.\n",
      "\n",
      "By carefully considering the risks and implementing the logging functionality in a modular and configurable manner, the project can benefit from enhanced debugging and monitoring capabilities without introducing unnecessary complexity or performance overhead.\n",
      "\n",
      "For each impacted file:\n",
      "- Provide the file path.\n",
      "- Specify the task to be performed on the file (e.g., modify, add functionality).\n",
      "\n",
      "For any new file required:\n",
      "- Specify the file path.\n",
      "- Provide a brief description of its purpose.\n",
      "- Suggest the initial content or structure the file should include.\n",
      "\n",
      "Ensure the output clearly separates existing files and new files to be created.\n",
      "Debug: Vector DB provided: True\n",
      "Debug: Formatted prompt:\n",
      "<|begin_of_text|><|start_header_id|>system<|end_header_id|>\n",
      "None<|eot_id|><|start_header_id|>user<|end_header_id|>\n",
      "Using the results of the feature analysis, identify the specific files to be handled for the following feature request:\n",
      "\n",
      "Feature Request: Add logging functionality to all major modules in the project\n",
      "\n",
      "Feature Analysis Results:\n",
      "Nodes:\n",
      "Based on the project context, the nodes impacted by the feature request to add logging functionality to all major modules in the project are:\n",
      "\n",
      "1. `app.py` (Role: Main application file)\n",
      "2. `helpers.py` (Role: Utility module providing helper functions)\n",
      "\n",
      "These nodes are impacted because they are the major modules in the project where logging functionality needs to be added. The `requirements.txt` file is not directly impacted as it only lists dependencies, and the `utils` directory is a container for the `helpers.py` module.\n",
      "\n",
      "Edges:\n",
      "Based on the project context, the nodes impacted by the feature request to add logging functionality to all major modules in the project are:\n",
      "\n",
      "1. `app.py` (Role: Main application file)\n",
      "2. `helpers.py` (Role: Utility module providing helper functions)\n",
      "\n",
      "These nodes are impacted because they are the major modules in the project where logging functionality needs to be added. The `requirements.txt` file is not directly impacted as it only lists dependencies, and the `utils` directory is a container for the `helpers.py` module.\n",
      "\n",
      "Report:\n",
      "**Impact Report: Adding Logging Functionality to Major Modules**\n",
      "\n",
      "**Overview**\n",
      "\n",
      "The feature request to add logging functionality to all major modules in the project aims to enhance the project's debugging and monitoring capabilities. This report assesses the impact of this request on the project, highlighting potential risks, suggestions for modular implementation, and expected changes.\n",
      "\n",
      "**Risks**\n",
      "\n",
      "1. **Increased Complexity**: Introducing logging functionality may add complexity to the codebase, potentially leading to maintainability issues if not implemented carefully.\n",
      "2. **Performance Overhead**: Logging can introduce performance overhead, especially if not optimized for production environments.\n",
      "3. **Dependency Management**: The addition of a logging library may introduce new dependencies, which can lead to version conflicts or compatibility issues.\n",
      "\n",
      "**Suggestions for Modular Implementation**\n",
      "\n",
      "1. **Use a Logging Library**: Utilize a established Python logging library, such as `logging` or `logbook`, to simplify the implementation and minimize the risk of introducing custom logging code.\n",
      "2. **Create a Logging Module**: Develop a dedicated logging module that can be imported and used across the project, promoting consistency and reusability.\n",
      "3. **Configure Logging**: Implement a configuration system to allow for flexible logging settings, such as log levels, output formats, and destinations (e.g., console, file, or network).\n",
      "4. **Log at Multiple Levels**: Provide logging at different levels (e.g., debug, info, warning, error) to cater to various use cases and debugging scenarios.\n",
      "\n",
      "**Expected Changes**\n",
      "\n",
      "1. **Updated `requirements.txt`**: The `requirements.txt` file will need to be updated to include the chosen logging library.\n",
      "2. **New Logging Module**: A new module, e.g., `logger.py`, will be created to encapsulate the logging functionality.\n",
      "3. **Modified `app.py` and `helpers.py`**: These files will require updates to integrate with the new logging module and utilize the logging functionality.\n",
      "4. **Additional Configuration**: A configuration system will be implemented to manage logging settings, which may involve adding new files or modifying existing ones.\n",
      "\n",
      "**Implementation Roadmap**\n",
      "\n",
      "1. Research and select a suitable logging library.\n",
      "2. Develop the logging module and configure the logging system.\n",
      "3. Update `app.py` and `helpers.py` to integrate with the logging module.\n",
      "4. Test the logging functionality thoroughly to ensure it meets the project's requirements.\n",
      "\n",
      "By carefully considering the risks and implementing the logging functionality in a modular and configurable manner, the project can benefit from enhanced debugging and monitoring capabilities without introducing unnecessary complexity or performance overhead.\n",
      "\n",
      "For each impacted file:\n",
      "- Provide the file path.\n",
      "- Specify the task to be performed on the file (e.g., modify, add functionality).\n",
      "\n",
      "For any new file required:\n",
      "- Specify the file path.\n",
      "- Provide a brief description of its purpose.\n",
      "- Suggest the initial content or structure the file should include.\n",
      "\n",
      "Ensure the output clearly separates existing files and new files to be created.<|eot_id|><|start_header_id|>assistant<|end_header_id|>\n",
      "\n"
     ]
    },
    {
     "name": "stderr",
     "output_type": "stream",
     "text": [
      "/mnt/c/Blog/Building-LLM-from-Scratch-in-Python/.venv/lib/python3.10/site-packages/ibm_watsonx_ai/foundation_models/utils/utils.py:415: LifecycleWarning: Model 'meta-llama/llama-3-70b-instruct' is in deprecated state from 2024-12-02 until 2025-02-03. IDs of alternative models: None. Further details: https://dataplatform.cloud.ibm.com/docs/content/wsj/analyze-data/fm-model-lifecycle.html?context=wx&audience=wdp\n",
      "  warnings.warn(\n"
     ]
    },
    {
     "name": "stdout",
     "output_type": "stream",
     "text": [
      "Debug: Querying using vector database...\n"
     ]
    },
    {
     "name": "stderr",
     "output_type": "stream",
     "text": [
      "Number of requested results 5 is greater than number of elements in index 4, updating n_results = 4\n"
     ]
    },
    {
     "name": "stdout",
     "output_type": "stream",
     "text": [
      "Debug: Raw response from vector DB: {'query': \"<|begin_of_text|><|start_header_id|>system<|end_header_id|>\\nNone<|eot_id|><|start_header_id|>user<|end_header_id|>\\nUsing the results of the feature analysis, identify the specific files to be handled for the following feature request:\\n\\nFeature Request: Add logging functionality to all major modules in the project\\n\\nFeature Analysis Results:\\nNodes:\\nBased on the project context, the nodes impacted by the feature request to add logging functionality to all major modules in the project are:\\n\\n1. `app.py` (Role: Main application file)\\n2. `helpers.py` (Role: Utility module providing helper functions)\\n\\nThese nodes are impacted because they are the major modules in the project where logging functionality needs to be added. The `requirements.txt` file is not directly impacted as it only lists dependencies, and the `utils` directory is a container for the `helpers.py` module.\\n\\nEdges:\\nBased on the project context, the nodes impacted by the feature request to add logging functionality to all major modules in the project are:\\n\\n1. `app.py` (Role: Main application file)\\n2. `helpers.py` (Role: Utility module providing helper functions)\\n\\nThese nodes are impacted because they are the major modules in the project where logging functionality needs to be added. The `requirements.txt` file is not directly impacted as it only lists dependencies, and the `utils` directory is a container for the `helpers.py` module.\\n\\nReport:\\n**Impact Report: Adding Logging Functionality to Major Modules**\\n\\n**Overview**\\n\\nThe feature request to add logging functionality to all major modules in the project aims to enhance the project's debugging and monitoring capabilities. This report assesses the impact of this request on the project, highlighting potential risks, suggestions for modular implementation, and expected changes.\\n\\n**Risks**\\n\\n1. **Increased Complexity**: Introducing logging functionality may add complexity to the codebase, potentially leading to maintainability issues if not implemented carefully.\\n2. **Performance Overhead**: Logging can introduce performance overhead, especially if not optimized for production environments.\\n3. **Dependency Management**: The addition of a logging library may introduce new dependencies, which can lead to version conflicts or compatibility issues.\\n\\n**Suggestions for Modular Implementation**\\n\\n1. **Use a Logging Library**: Utilize a established Python logging library, such as `logging` or `logbook`, to simplify the implementation and minimize the risk of introducing custom logging code.\\n2. **Create a Logging Module**: Develop a dedicated logging module that can be imported and used across the project, promoting consistency and reusability.\\n3. **Configure Logging**: Implement a configuration system to allow for flexible logging settings, such as log levels, output formats, and destinations (e.g., console, file, or network).\\n4. **Log at Multiple Levels**: Provide logging at different levels (e.g., debug, info, warning, error) to cater to various use cases and debugging scenarios.\\n\\n**Expected Changes**\\n\\n1. **Updated `requirements.txt`**: The `requirements.txt` file will need to be updated to include the chosen logging library.\\n2. **New Logging Module**: A new module, e.g., `logger.py`, will be created to encapsulate the logging functionality.\\n3. **Modified `app.py` and `helpers.py`**: These files will require updates to integrate with the new logging module and utilize the logging functionality.\\n4. **Additional Configuration**: A configuration system will be implemented to manage logging settings, which may involve adding new files or modifying existing ones.\\n\\n**Implementation Roadmap**\\n\\n1. Research and select a suitable logging library.\\n2. Develop the logging module and configure the logging system.\\n3. Update `app.py` and `helpers.py` to integrate with the logging module.\\n4. Test the logging functionality thoroughly to ensure it meets the project's requirements.\\n\\nBy carefully considering the risks and implementing the logging functionality in a modular and configurable manner, the project can benefit from enhanced debugging and monitoring capabilities without introducing unnecessary complexity or performance overhead.\\n\\nFor each impacted file:\\n- Provide the file path.\\n- Specify the task to be performed on the file (e.g., modify, add functionality).\\n\\nFor any new file required:\\n- Specify the file path.\\n- Provide a brief description of its purpose.\\n- Suggest the initial content or structure the file should include.\\n\\nEnsure the output clearly separates existing files and new files to be created.<|eot_id|><|start_header_id|>assistant<|end_header_id|>\\n\", 'result': ' \\n\\n**Impacted Files:**\\n\\n1. **File Path:** `../project_old/app.py`\\n**Task:** Modify the file to integrate with the new logging module and utilize the logging functionality.\\n\\n2. **File Path:** `../project_old/utils/helpers.py`\\n**Task:** Modify the file to integrate with the new logging module and utilize the logging functionality.\\n\\n3. **File Path:** `../project_old/requirements.txt`\\n**Task:** Update the file to include the chosen logging library.\\n\\n**New Files:**\\n\\n1. **File Path:** `../project_old/logger.py`\\n**Purpose:** Encapsulate the logging functionality.\\n**Initial Content/Structure:** The file should include the necessary imports, logging configuration, and logging functions.\\n\\n2. **File Path:** `../project_old/config/logging_config.py` (or similar)\\n**Purpose:** Manage logging settings, such as log levels, output formats, and destinations.\\n**Initial Content/Structure:** The file should include configuration options for logging, such as log levels, output formats, and destinations.'}\n",
      "Debug: Extracted result: **Impacted Files:**\n",
      "\n",
      "1. **File Path:** `../project_old/app.py`\n",
      "**Task:** Modify the file to integrate with the new logging module and utilize the logging functionality.\n",
      "\n",
      "2. **File Path:** `../project_old/utils/helpers.py`\n",
      "**Task:** Modify the file to integrate with the new logging module and utilize the logging functionality.\n",
      "\n",
      "3. **File Path:** `../project_old/requirements.txt`\n",
      "**Task:** Update the file to include the chosen logging library.\n",
      "\n",
      "**New Files:**\n",
      "\n",
      "1. **File Path:** `../project_old/logger.py`\n",
      "**Purpose:** Encapsulate the logging functionality.\n",
      "**Initial Content/Structure:** The file should include the necessary imports, logging configuration, and logging functions.\n",
      "\n",
      "2. **File Path:** `../project_old/config/logging_config.py` (or similar)\n",
      "**Purpose:** Manage logging settings, such as log levels, output formats, and destinations.\n",
      "**Initial Content/Structure:** The file should include configuration options for logging, such as log levels, output formats, and destinations.\n"
     ]
    }
   ],
   "source": [
    "preprocessing_response_db = query_llm(user_input=preprocessing_prompt,vector_db=vector_db)"
   ]
  },
  {
   "cell_type": "code",
   "execution_count": 61,
   "metadata": {},
   "outputs": [
    {
     "data": {
      "text/plain": [
       "'**Impacted Files:**\\n\\n1. **File Path:** `../project_old/app.py`\\n**Task:** Modify the file to integrate with the new logging module and utilize the logging functionality.\\n\\n2. **File Path:** `../project_old/utils/helpers.py`\\n**Task:** Modify the file to integrate with the new logging module and utilize the logging functionality.\\n\\n3. **File Path:** `../project_old/requirements.txt`\\n**Task:** Update the file to include the chosen logging library.\\n\\n**New Files:**\\n\\n1. **File Path:** `../project_old/logger.py`\\n**Purpose:** Encapsulate the logging functionality.\\n**Initial Content/Structure:** The file should include the necessary imports, logging configuration, and logging functions.\\n\\n2. **File Path:** `../project_old/config/logging_config.py` (or similar)\\n**Purpose:** Manage logging settings, such as log levels, output formats, and destinations.\\n**Initial Content/Structure:** The file should include configuration options for logging, such as log levels, output formats, and destinations.'"
      ]
     },
     "execution_count": 61,
     "metadata": {},
     "output_type": "execute_result"
    }
   ],
   "source": [
    "preprocessing_response_db"
   ]
  },
  {
   "cell_type": "code",
   "execution_count": 46,
   "metadata": {},
   "outputs": [
    {
     "ename": "NameError",
     "evalue": "name 'prompt' is not defined",
     "output_type": "error",
     "traceback": [
      "\u001b[0;31m---------------------------------------------------------------------------\u001b[0m",
      "\u001b[0;31mNameError\u001b[0m                                 Traceback (most recent call last)",
      "Cell \u001b[0;32mIn[46], line 12\u001b[0m\n\u001b[1;32m      9\u001b[0m vector_db \u001b[38;5;241m=\u001b[39m load_vector_db_by_collection(collection_name, persist_directory)\n\u001b[1;32m     11\u001b[0m \u001b[38;5;66;03m# Query the vector database using the `query_llm` function\u001b[39;00m\n\u001b[0;32m---> 12\u001b[0m response \u001b[38;5;241m=\u001b[39m query_llm(user_input\u001b[38;5;241m=\u001b[39m\u001b[43mprompt\u001b[49m, vector_db\u001b[38;5;241m=\u001b[39mvector_db)\n\u001b[1;32m     14\u001b[0m \u001b[38;5;66;03m# Print the response\u001b[39;00m\n\u001b[1;32m     15\u001b[0m \u001b[38;5;28mprint\u001b[39m(\u001b[38;5;124m\"\u001b[39m\u001b[38;5;124mGenerated Response:\u001b[39m\u001b[38;5;124m\"\u001b[39m)\n",
      "\u001b[0;31mNameError\u001b[0m: name 'prompt' is not defined"
     ]
    }
   ],
   "source": [
    "from src.vector_database.db_load import load_vector_db_by_collection\n",
    "from src.models.llm_inference import query_llm\n",
    "\n",
    "# Define the persistent directory and collection name\n",
    "persist_directory = \"./notebooks/chroma_db\"\n",
    "collection_name = \"my_vector_collection\"\n",
    "\n",
    "# Load the vector database\n",
    "vector_db = load_vector_db_by_collection(collection_name, persist_directory)\n",
    "\n",
    "# Query the vector database using the `query_llm` function\n",
    "response = query_llm(user_input=prompt, vector_db=vector_db)\n",
    "\n",
    "# Print the response\n",
    "print(\"Generated Response:\")\n",
    "print(response)"
   ]
  },
  {
   "cell_type": "code",
   "execution_count": null,
   "metadata": {},
   "outputs": [],
   "source": []
  },
  {
   "cell_type": "code",
   "execution_count": null,
   "metadata": {},
   "outputs": [],
   "source": [
    "\n",
    "# Step 2: Task Generation and Agent Creation\n",
    "logger.info(\"Generating tasks and creating agents\")\n",
    "task_generation_template = get_prompt_template(\"task_generation\")\n",
    "agent_creation_template = get_prompt_template(\"agent_creation\")\n",
    "weight_translation_template = get_prompt_template(\"weight_translation\")\n",
    "\n",
    "tasks = task_generation_template.format(\n",
    "    feature_request=user_request, project_context=project_context\n",
    ")\n",
    "agents = agent_creation_template.format(tasks=tasks)\n",
    "weights = weight_translation_template.format(project_elements=project_context)\n",
    "\n",
    "# Step 3: Task Assignment\n",
    "logger.info(\"Assigning tasks to agents\")\n",
    "task_assignment_template = get_prompt_template(\"task_assignment\")\n",
    "task_assignment = task_assignment_template.format(\n",
    "    tasks=tasks, agent_details=agents\n",
    ")\n",
    "\n",
    "# Step 4: Task Optimization\n",
    "logger.info(\"Optimizing task allocation\")\n",
    "task_optimization_template = get_prompt_template(\"task_optimization\")\n",
    "optimized_tasks = task_optimization_template.format(\n",
    "    task_assignments=task_assignment\n",
    ")\n",
    "\n",
    "# Step 5: Consistency Validation\n",
    "logger.info(\"Validating consistency of the project tree\")\n",
    "consistency_validation_template = get_prompt_template(\"consistency_validation\")\n",
    "validated_tree = consistency_validation_template.format(project_tree=project_context)\n"
   ]
  },
  {
   "cell_type": "code",
   "execution_count": null,
   "metadata": {},
   "outputs": [],
   "source": [
    "\n",
    "\n",
    "\n",
    "relevant_docs = query_vector_database(vector_db, feature_request)\n",
    "logger.info(f\"Relevant documents for the feature request: {[doc.metadata['source'] for doc in relevant_docs]}\")\n",
    "\n",
    "# Step 4: Generate new project structure\n",
    "logger.info(\"Generating the updated project structure\")\n",
    "if os.path.exists(new_project_path):\n",
    "    shutil.rmtree(new_project_path)\n",
    "shutil.copytree(old_project_path, new_project_path)\n",
    "\n",
    "# Step 5: Integrate new features\n",
    "logger.info(\"Integrating new features into the project\")\n",
    "for doc in relevant_docs:\n",
    "    integrate_features([doc.metadata[\"source\"]], f\"# Feature: {prompt}\\n{doc.page_content}\")\n",
    "\n",
    "# Step 6: Generate additional files or modify existing ones\n",
    "feature_instructions = [\n",
    "    {\"file\": os.path.relpath(doc.metadata[\"source\"], old_project_path), \"content\": f\"# Feature: {prompt}\\n{doc.page_content}\"}\n",
    "    for doc in relevant_docs\n",
    "]\n",
    "generate_project(old_project_path, new_project_path, feature_instructions)\n",
    "\n",
    "logger.info(\"Feature integration completed\")\n",
    "print(f\"Project updated with the feature: {prompt}\")\n",
    "print(f\"Updated project saved in: {new_project_path}\")\n"
   ]
  },
  {
   "cell_type": "code",
   "execution_count": null,
   "metadata": {},
   "outputs": [],
   "source": [
    "def main(prompt):\n",
    "    logger.info(\"Starting the Factory Feature program\")\n",
    "\n",
    "    # Define paths\n",
    "    old_project_path = \"project_old\"\n",
    "    new_project_path = \"project_new\"\n",
    "\n",
    "    # Step 1: Parse the old project\n",
    "    logger.info(\"Parsing the project structure\")\n",
    "    project_data = parse_project(old_project_path)\n",
    "    vector_db = build_vector_database(project_data)\n",
    "    logger.info(\"Vector database created for the project\")\n",
    "\n",
    "    # Step 2: Resolve dependencies\n",
    "    logger.info(\"Resolving project dependencies\")\n",
    "    dependencies = resolve_dependencies(old_project_path)\n",
    "    logger.info(f\"Dependencies found: {dependencies.keys()}\")\n",
    "\n",
    "    # Step 3: Map features to project components\n",
    "    logger.info(\"Mapping feature request to project components\")\n",
    "    feature_template = get_prompt_template()\n",
    "    project_context = \"\\n\".join([f\"{key}: {value}\" for key, value in dependencies.items()])\n",
    "    feature_request = feature_template.format(feature_request=prompt, project_context=project_context)\n",
    "    relevant_docs = query_vector_database(vector_db, feature_request)\n",
    "    logger.info(f\"Relevant documents for the feature request: {[doc.metadata['source'] for doc in relevant_docs]}\")\n",
    "\n",
    "    # Step 4: Generate new project structure\n",
    "    logger.info(\"Generating the updated project structure\")\n",
    "    if os.path.exists(new_project_path):\n",
    "        shutil.rmtree(new_project_path)\n",
    "    shutil.copytree(old_project_path, new_project_path)\n",
    "\n",
    "    # Step 5: Integrate new features\n",
    "    logger.info(\"Integrating new features into the project\")\n",
    "    for doc in relevant_docs:\n",
    "        integrate_features([doc.metadata[\"source\"]], f\"# Feature: {prompt}\\n{doc.page_content}\")\n",
    "\n",
    "    # Step 6: Generate additional files or modify existing ones\n",
    "    feature_instructions = [\n",
    "        {\"file\": os.path.relpath(doc.metadata[\"source\"], old_project_path), \"content\": f\"# Feature: {prompt}\\n{doc.page_content}\"}\n",
    "        for doc in relevant_docs\n",
    "    ]\n",
    "    generate_project(old_project_path, new_project_path, feature_instructions)\n",
    "\n",
    "    logger.info(\"Feature integration completed\")\n",
    "    print(f\"Project updated with the feature: {prompt}\")\n",
    "    print(f\"Updated project saved in: {new_project_path}\")\n",
    "\n",
    "\n",
    "if __name__ == \"__main__\":\n",
    "    parser = argparse.ArgumentParser(description=\"Factory Feature Program\")\n",
    "    parser.add_argument(\"--prompt\", required=True, help=\"Feature request prompt\")\n",
    "    args = parser.parse_args()\n",
    "\n",
    "    try:\n",
    "        main(args.prompt)\n",
    "    except Exception as e:\n",
    "        logger.error(f\"An error occurred: {e}\")\n",
    "        raise\n"
   ]
  }
 ],
 "metadata": {
  "kernelspec": {
   "display_name": ".venv",
   "language": "python",
   "name": "python3"
  },
  "language_info": {
   "codemirror_mode": {
    "name": "ipython",
    "version": 3
   },
   "file_extension": ".py",
   "mimetype": "text/x-python",
   "name": "python",
   "nbconvert_exporter": "python",
   "pygments_lexer": "ipython3",
   "version": "3.10.12"
  }
 },
 "nbformat": 4,
 "nbformat_minor": 2
}
