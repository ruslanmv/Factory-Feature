{
 "cells": [
  {
   "cell_type": "code",
   "execution_count": 1,
   "metadata": {},
   "outputs": [],
   "source": [
    "import argparse\n",
    "import os\n",
    "import shutil\n",
    "from src.analysis.project_parser import parse_project\n",
    "from src.analysis.dependency_resolver import resolve_dependencies\n",
    "from src.analysis.feature_mapper import map_features_to_components\n",
    "from src.generation.project_generator import generate_project\n",
    "from src.generation.feature_integration import integrate_features\n",
    "from src.models.llm_inference import query_llm\n",
    "from src.models.prompt_templates import get_prompt_template, get_prompt_template_feature\n",
    "from src.utils.logger import logger\n",
    "from src.utils.file_operations import read_file, write_file\n",
    "from src.vector_database.db_query import query_vector_database"
   ]
  },
  {
   "cell_type": "code",
   "execution_count": 2,
   "metadata": {},
   "outputs": [],
   "source": [
    "from src.vector_database.db_load import load_vector_database"
   ]
  },
  {
   "cell_type": "code",
   "execution_count": 3,
   "metadata": {},
   "outputs": [],
   "source": [
    "logger.info(\"Starting the Factory Feature program\")\n",
    "# Define paths\n",
    "old_project_path = \"project_old\"\n",
    "new_project_path = \"project_new\""
   ]
  },
  {
   "cell_type": "code",
   "execution_count": 4,
   "metadata": {},
   "outputs": [],
   "source": [
    "# Step 1: Parse the old project\n",
    "logger.info(\"Parsing the project structure\")\n",
    "project_data = parse_project(old_project_path)"
   ]
  },
  {
   "cell_type": "code",
   "execution_count": 5,
   "metadata": {},
   "outputs": [
    {
     "data": {
      "text/plain": [
       "[{'path': 'project_old/app.py',\n",
       "  'content': 'from utils.helpers import greet\\n\\ndef main():\\n    name = input(\"Enter your name: \")\\n    print(greet(name))\\n\\nif __name__ == \"__main__\":\\n    main()'},\n",
       " {'path': 'project_old/requirements.txt',\n",
       "  'content': '# Python dependencies\\nflask'},\n",
       " {'path': 'project_old/utils/helpers.py',\n",
       "  'content': 'def greet(name):\\n    \"\"\"\\n    Returns a greeting message for the provided name.\\n\\n    Args:\\n        name: The name of the person to greet.\\n\\n    Returns:\\n        A greeting string.\\n    \"\"\"\\n    return f\"Hello, {name}! Welcome to the project.\"'}]"
      ]
     },
     "execution_count": 5,
     "metadata": {},
     "output_type": "execute_result"
    }
   ],
   "source": [
    "project_data"
   ]
  },
  {
   "cell_type": "code",
   "execution_count": 6,
   "metadata": {},
   "outputs": [
    {
     "data": {
      "text/plain": [
       "list"
      ]
     },
     "execution_count": 6,
     "metadata": {},
     "output_type": "execute_result"
    }
   ],
   "source": [
    "type(project_data)"
   ]
  },
  {
   "cell_type": "code",
   "execution_count": 7,
   "metadata": {},
   "outputs": [],
   "source": [
    "from src.vector_database.db_builder_simple import build_vector_database_simple\n"
   ]
  },
  {
   "cell_type": "code",
   "execution_count": 8,
   "metadata": {},
   "outputs": [
    {
     "name": "stderr",
     "output_type": "stream",
     "text": [
      "/mnt/c/Blog/Factory-Feature/src/vector_database/db_builder_simple.py:16: LangChainDeprecationWarning: The class `HuggingFaceEmbeddings` was deprecated in LangChain 0.2.2 and will be removed in 1.0. An updated version of the class exists in the :class:`~langchain-huggingface package and should be used instead. To use it run `pip install -U :class:`~langchain-huggingface` and import as `from :class:`~langchain_huggingface import HuggingFaceEmbeddings``.\n",
      "  embedding_function = SentenceTransformerEmbeddings(model_name=\"all-MiniLM-L6-v2\")\n",
      "/mnt/c/Blog/Building-LLM-from-Scratch-in-Python/.venv/lib/python3.10/site-packages/tqdm/auto.py:21: TqdmWarning: IProgress not found. Please update jupyter and ipywidgets. See https://ipywidgets.readthedocs.io/en/stable/user_install.html\n",
      "  from .autonotebook import tqdm as notebook_tqdm\n"
     ]
    }
   ],
   "source": [
    "vector_db = build_vector_database_simple(project_data)\n",
    "logger.info(\"Vector database simple created for the project\")"
   ]
  },
  {
   "cell_type": "code",
   "execution_count": 9,
   "metadata": {},
   "outputs": [
    {
     "data": {
      "text/plain": [
       "<langchain_community.vectorstores.chroma.Chroma at 0x7f1b61bcfaf0>"
      ]
     },
     "execution_count": 9,
     "metadata": {},
     "output_type": "execute_result"
    }
   ],
   "source": [
    "vector_db"
   ]
  },
  {
   "cell_type": "code",
   "execution_count": 10,
   "metadata": {},
   "outputs": [],
   "source": [
    "from src.vector_database.db_builder import build_vector_database\n"
   ]
  },
  {
   "cell_type": "code",
   "execution_count": 11,
   "metadata": {},
   "outputs": [
    {
     "name": "stderr",
     "output_type": "stream",
     "text": [
      "/mnt/c/Blog/Factory-Feature/src/vector_database/db_builder.py:35: LangChainDeprecationWarning: Since Chroma 0.4.x the manual persistence method is no longer supported as docs are automatically persisted.\n",
      "  vector_db.persist()\n"
     ]
    }
   ],
   "source": [
    "# With persistence\n",
    "vector_db = build_vector_database(project_data, persist_directory=\"./chroma_db\")"
   ]
  },
  {
   "cell_type": "code",
   "execution_count": 12,
   "metadata": {},
   "outputs": [
    {
     "name": "stderr",
     "output_type": "stream",
     "text": [
      "/mnt/c/Blog/Factory-Feature/src/vector_database/db_load.py:63: LangChainDeprecationWarning: The class `Chroma` was deprecated in LangChain 0.2.9 and will be removed in 1.0. An updated version of the class exists in the :class:`~langchain-chroma package and should be used instead. To use it run `pip install -U :class:`~langchain-chroma` and import as `from :class:`~langchain_chroma import Chroma``.\n",
      "  vector_db = Chroma(\n"
     ]
    }
   ],
   "source": [
    "vector_db = load_vector_database(persist_directory=\"./chroma_db\")"
   ]
  },
  {
   "cell_type": "code",
   "execution_count": 13,
   "metadata": {},
   "outputs": [
    {
     "data": {
      "text/plain": [
       "<langchain_community.vectorstores.chroma.Chroma at 0x7f1c8b67a050>"
      ]
     },
     "execution_count": 13,
     "metadata": {},
     "output_type": "execute_result"
    }
   ],
   "source": [
    "vector_db"
   ]
  },
  {
   "cell_type": "code",
   "execution_count": 14,
   "metadata": {},
   "outputs": [
    {
     "name": "stdout",
     "output_type": "stream",
     "text": [
      "Displaying the first 5 documents:\n",
      "Document ID: 6434b73e-f406-4852-8ff9-a9a3d252c8fc\n",
      "Content:\n",
      "Path: project_old/app.py\n",
      "Content:\n",
      "from utils.helpers import greet\n",
      "\n",
      "def main():\n",
      "    name = input(\"Enter your name: \")\n",
      "    print(greet(name))\n",
      "\n",
      "if __name__ == \"__main__\":\n",
      "    main()\n",
      "Metadata: {'source': 'project_old/app.py'}\n",
      "--------------------------------------------------------------------------------\n",
      "Document ID: adeca2f7-04af-4ce6-b30f-2041cebb7270\n",
      "Content:\n",
      "Path: project_old/requirements.txt\n",
      "Content:\n",
      "# Python dependencies\n",
      "flask\n",
      "Metadata: {'source': 'project_old/requirements.txt'}\n",
      "--------------------------------------------------------------------------------\n",
      "Document ID: b70470ba-b70f-466e-aa3e-1ed31c73faf3\n",
      "Content:\n",
      "Path: project_old/utils/helpers.py\n",
      "Content:\n",
      "def greet(name):\n",
      "    \"\"\"\n",
      "    Returns a greeting message for the provided name.\n",
      "\n",
      "    Args:\n",
      "        name: The name of the person to greet.\n",
      "\n",
      "    Returns:\n",
      "        A greeting string.\n",
      "    \"\"\"\n",
      "    return f\"Hello, {name}! Welcome to the project.\"\n",
      "Metadata: {'source': 'project_old/utils/helpers.py'}\n",
      "--------------------------------------------------------------------------------\n",
      "Document ID: 33ac3d95-c97d-4a99-8fea-9709b51aad6e\n",
      "Content:\n",
      "Path: project_old/app.py\n",
      "Content:\n",
      "from utils.helpers import greet\n",
      "\n",
      "def main():\n",
      "    name = input(\"Enter your name: \")\n",
      "    print(greet(name))\n",
      "\n",
      "if __name__ == \"__main__\":\n",
      "    main()\n",
      "Metadata: {'source': 'project_old/app.py'}\n",
      "--------------------------------------------------------------------------------\n",
      "Document ID: e0bb0195-6eef-4e7b-b7fe-e857e260ccee\n",
      "Content:\n",
      "Path: project_old/requirements.txt\n",
      "Content:\n",
      "# Python dependencies\n",
      "flask\n",
      "Metadata: {'source': 'project_old/requirements.txt'}\n",
      "--------------------------------------------------------------------------------\n"
     ]
    }
   ],
   "source": [
    "from src.vector_database.display_content import display_first_five_documents\n",
    "# Display the first 5 documents in the vector database\n",
    "display_first_five_documents(vector_db)"
   ]
  },
  {
   "cell_type": "code",
   "execution_count": 15,
   "metadata": {},
   "outputs": [],
   "source": [
    "# Step 2: Resolve dependencies\n",
    "logger.info(\"Resolving project dependencies\")\n",
    "dependencies = resolve_dependencies(old_project_path)\n",
    "logger.info(f\"Dependencies found: {dependencies.keys()}\")"
   ]
  },
  {
   "cell_type": "code",
   "execution_count": 16,
   "metadata": {},
   "outputs": [],
   "source": [
    "# Step 3: Map features to project components\n",
    "logger.info(\"Mapping feature request to project components\")\n",
    "feature_template = get_prompt_template_feature()\n",
    "project_context = \"\\n\".join([f\"{key}: {value}\" for key, value in dependencies.items()])\n"
   ]
  },
  {
   "cell_type": "code",
   "execution_count": 17,
   "metadata": {},
   "outputs": [
    {
     "data": {
      "text/plain": [
       "\"requirements.txt: ['# Python dependencies\\\\n', 'flask']\""
      ]
     },
     "execution_count": 17,
     "metadata": {},
     "output_type": "execute_result"
    }
   ],
   "source": [
    "project_context"
   ]
  },
  {
   "cell_type": "code",
   "execution_count": 18,
   "metadata": {},
   "outputs": [
    {
     "name": "stdout",
     "output_type": "stream",
     "text": [
      "{'project_name': 'project_old', 'structure': [{'type': 'file', 'name': 'app.py', 'path': 'project_old/app.py'}, {'type': 'file', 'name': 'requirements.txt', 'path': 'project_old/requirements.txt'}, {'type': 'directory', 'name': 'utils', 'path': 'project_old/utils', 'children': [{'type': 'file', 'name': 'helpers.py', 'path': 'project_old/utils/helpers.py'}]}]}\n",
      "{'project_name': 'project_old', 'structure': [{'type': 'file', 'name': 'app.py', 'path': 'project_old/app.py', 'content': 'from utils.helpers import greet\\n\\ndef main():\\n    name = input(\"Enter your name: \")\\n    print(greet(name))\\n\\nif __name__ == \"__main__\":\\n    main()'}, {'type': 'file', 'name': 'requirements.txt', 'path': 'project_old/requirements.txt', 'content': '# Python dependencies\\nflask'}, {'type': 'directory', 'name': 'utils', 'path': 'project_old/utils', 'children': [{'type': 'file', 'name': 'helpers.py', 'path': 'project_old/utils/helpers.py', 'content': 'def greet(name):\\n    \"\"\"\\n    Returns a greeting message for the provided name.\\n\\n    Args:\\n        name: The name of the person to greet.\\n\\n    Returns:\\n        A greeting string.\\n    \"\"\"\\n    return f\"Hello, {name}! Welcome to the project.\"'}]}]}\n"
     ]
    }
   ],
   "source": [
    "from src.analysis.tree import get_tree\n",
    "\n",
    "if __name__ == \"__main__\":\n",
    "    old_project_path = \"project_old\"\n",
    "    try:\n",
    "        # Get the tree structure without content\n",
    "        tree = get_tree(old_project_path)\n",
    "        print(tree)\n",
    "        \n",
    "        # Get the tree structure with content\n",
    "        tree_with_content = get_tree(old_project_path, content=True)\n",
    "        print(tree_with_content)\n",
    "    except FileNotFoundError as e:\n",
    "        print(e)\n"
   ]
  },
  {
   "cell_type": "code",
   "execution_count": 19,
   "metadata": {},
   "outputs": [],
   "source": [
    "tree = get_tree(old_project_path)\n"
   ]
  },
  {
   "cell_type": "code",
   "execution_count": 20,
   "metadata": {},
   "outputs": [
    {
     "data": {
      "text/plain": [
       "{'project_name': 'project_old',\n",
       " 'structure': [{'type': 'file',\n",
       "   'name': 'app.py',\n",
       "   'path': 'project_old/app.py'},\n",
       "  {'type': 'file',\n",
       "   'name': 'requirements.txt',\n",
       "   'path': 'project_old/requirements.txt'},\n",
       "  {'type': 'directory',\n",
       "   'name': 'utils',\n",
       "   'path': 'project_old/utils',\n",
       "   'children': [{'type': 'file',\n",
       "     'name': 'helpers.py',\n",
       "     'path': 'project_old/utils/helpers.py'}]}]}"
      ]
     },
     "execution_count": 20,
     "metadata": {},
     "output_type": "execute_result"
    }
   ],
   "source": [
    "tree"
   ]
  },
  {
   "cell_type": "code",
   "execution_count": 21,
   "metadata": {},
   "outputs": [],
   "source": [
    "tree_with_content = get_tree(old_project_path, content=True)\n"
   ]
  },
  {
   "cell_type": "code",
   "execution_count": 22,
   "metadata": {},
   "outputs": [
    {
     "data": {
      "text/plain": [
       "{'project_name': 'project_old',\n",
       " 'structure': [{'type': 'file',\n",
       "   'name': 'app.py',\n",
       "   'path': 'project_old/app.py',\n",
       "   'content': 'from utils.helpers import greet\\n\\ndef main():\\n    name = input(\"Enter your name: \")\\n    print(greet(name))\\n\\nif __name__ == \"__main__\":\\n    main()'},\n",
       "  {'type': 'file',\n",
       "   'name': 'requirements.txt',\n",
       "   'path': 'project_old/requirements.txt',\n",
       "   'content': '# Python dependencies\\nflask'},\n",
       "  {'type': 'directory',\n",
       "   'name': 'utils',\n",
       "   'path': 'project_old/utils',\n",
       "   'children': [{'type': 'file',\n",
       "     'name': 'helpers.py',\n",
       "     'path': 'project_old/utils/helpers.py',\n",
       "     'content': 'def greet(name):\\n    \"\"\"\\n    Returns a greeting message for the provided name.\\n\\n    Args:\\n        name: The name of the person to greet.\\n\\n    Returns:\\n        A greeting string.\\n    \"\"\"\\n    return f\"Hello, {name}! Welcome to the project.\"'}]}]}"
      ]
     },
     "execution_count": 22,
     "metadata": {},
     "output_type": "execute_result"
    }
   ],
   "source": [
    "tree_with_content"
   ]
  },
  {
   "cell_type": "code",
   "execution_count": 23,
   "metadata": {},
   "outputs": [],
   "source": [
    "user_request=\"Add logging functionality to all major modules in the project\""
   ]
  },
  {
   "cell_type": "code",
   "execution_count": 24,
   "metadata": {},
   "outputs": [
    {
     "data": {
      "text/plain": [
       "{'project_name': 'project_old',\n",
       " 'structure': [{'type': 'file',\n",
       "   'name': 'app.py',\n",
       "   'path': 'project_old/app.py'},\n",
       "  {'type': 'file',\n",
       "   'name': 'requirements.txt',\n",
       "   'path': 'project_old/requirements.txt'},\n",
       "  {'type': 'directory',\n",
       "   'name': 'utils',\n",
       "   'path': 'project_old/utils',\n",
       "   'children': [{'type': 'file',\n",
       "     'name': 'helpers.py',\n",
       "     'path': 'project_old/utils/helpers.py'}]}]}"
      ]
     },
     "execution_count": 24,
     "metadata": {},
     "output_type": "execute_result"
    }
   ],
   "source": [
    "tree"
   ]
  },
  {
   "cell_type": "code",
   "execution_count": 25,
   "metadata": {},
   "outputs": [
    {
     "name": "stdout",
     "output_type": "stream",
     "text": [
      "{'project_name': 'project_old', 'structure': [{'type': 'file', 'name': 'app.py', 'path': 'project_old/app.py'}, {'type': 'file', 'name': 'requirements.txt', 'path': 'project_old/requirements.txt'}, {'type': 'directory', 'name': 'utils', 'path': 'project_old/utils', 'children': [{'type': 'file', 'name': 'helpers.py', 'path': 'project_old/utils/helpers.py'}]}]}\n"
     ]
    }
   ],
   "source": [
    "tree_string = str(tree) \n",
    "print(tree_string)"
   ]
  },
  {
   "cell_type": "code",
   "execution_count": 26,
   "metadata": {},
   "outputs": [],
   "source": [
    "### ATTENTTION WE ARE PARSING ONLY THE TREE WITHOUT THE CONTENT\n",
    "### Maybe we can parse the full tree with content but we need to think a solution \n",
    "## Such the project_context does not supperate the limit of tokens.\n",
    "## Maybe chunking or another technique.\n",
    "\n",
    "project_context=project_context+tree_string"
   ]
  },
  {
   "cell_type": "code",
   "execution_count": 27,
   "metadata": {},
   "outputs": [
    {
     "data": {
      "text/plain": [
       "\"requirements.txt: ['# Python dependencies\\\\n', 'flask']{'project_name': 'project_old', 'structure': [{'type': 'file', 'name': 'app.py', 'path': 'project_old/app.py'}, {'type': 'file', 'name': 'requirements.txt', 'path': 'project_old/requirements.txt'}, {'type': 'directory', 'name': 'utils', 'path': 'project_old/utils', 'children': [{'type': 'file', 'name': 'helpers.py', 'path': 'project_old/utils/helpers.py'}]}]}\""
      ]
     },
     "execution_count": 27,
     "metadata": {},
     "output_type": "execute_result"
    }
   ],
   "source": [
    "project_context"
   ]
  },
  {
   "cell_type": "code",
   "execution_count": 28,
   "metadata": {},
   "outputs": [],
   "source": [
    "#feature_request = feature_template.format(feature_request=user_request, project_context=project_context)\n"
   ]
  },
  {
   "cell_type": "code",
   "execution_count": 29,
   "metadata": {},
   "outputs": [],
   "source": [
    "feature_request=user_request"
   ]
  },
  {
   "cell_type": "code",
   "execution_count": 30,
   "metadata": {},
   "outputs": [
    {
     "name": "stdout",
     "output_type": "stream",
     "text": [
      "Debug: Received prompt: Who is man's best friend?\n",
      "Debug: Vector DB provided: False\n",
      "Debug: Formatted prompt:\n",
      "<|begin_of_text|><|start_header_id|>system<|end_header_id|>\n",
      "None<|eot_id|><|start_header_id|>user<|end_header_id|>\n",
      "Who is man's best friend?<|eot_id|><|start_header_id|>assistant<|end_header_id|>\n",
      "\n"
     ]
    },
    {
     "name": "stderr",
     "output_type": "stream",
     "text": [
      "/mnt/c/Blog/Building-LLM-from-Scratch-in-Python/.venv/lib/python3.10/site-packages/ibm_watsonx_ai/foundation_models/utils/utils.py:415: LifecycleWarning: Model 'meta-llama/llama-3-70b-instruct' is in deprecated state from 2024-12-02 until 2025-02-03. IDs of alternative models: None. Further details: https://dataplatform.cloud.ibm.com/docs/content/wsj/analyze-data/fm-model-lifecycle.html?context=wx&audience=wdp\n",
      "  warnings.warn(\n"
     ]
    },
    {
     "name": "stdout",
     "output_type": "stream",
     "text": [
      "Debug: Querying without vector database...\n",
      "Debug: Raw response from model: That's an easy one! Man's best friend is the dog! Dogs have been human companions for thousands of years, providing loyalty, affection, and protection. They are often referred to as \"man's best friend\" because of their unique ability to form strong bonds with humans and provide comfort, companionship, and assistance.\n",
      "Debug: Response as string: That's an easy one! Man's best friend is the dog! Dogs have been human companions for thousands of years, providing loyalty, affection, and protection. They are often referred to as \"man's best friend\" because of their unique ability to form strong bonds with humans and provide comfort, companionship, and assistance.\n",
      "That's an easy one! Man's best friend is the dog! Dogs have been human companions for thousands of years, providing loyalty, affection, and protection. They are often referred to as \"man's best friend\" because of their unique ability to form strong bonds with humans and provide comfort, companionship, and assistance.\n"
     ]
    }
   ],
   "source": [
    "# Step 0: Verification of LLM Connection\n",
    "from src.models.llm_inference import query_llm\n",
    "prompt = \"Who is man's best friend?\"\n",
    "response = query_llm(prompt)\n",
    "print(response)"
   ]
  },
  {
   "cell_type": "code",
   "execution_count": 31,
   "metadata": {},
   "outputs": [
    {
     "data": {
      "text/plain": [
       "'That\\'s an easy one! Man\\'s best friend is the dog! Dogs have been human companions for thousands of years, providing loyalty, affection, and protection. They are often referred to as \"man\\'s best friend\" because of their unique ability to form strong bonds with humans and provide comfort, companionship, and assistance.'"
      ]
     },
     "execution_count": 31,
     "metadata": {},
     "output_type": "execute_result"
    }
   ],
   "source": [
    "response"
   ]
  },
  {
   "cell_type": "code",
   "execution_count": 32,
   "metadata": {},
   "outputs": [],
   "source": [
    "# Step 1: Feature Analysis\n",
    "logger.info(\"Performing feature analysis\")\n",
    "feature_nodes_template = get_prompt_template(\"feature_analysis_nodes\")\n",
    "feature_edges_template = get_prompt_template(\"feature_analysis_edges\")\n",
    "impact_report_template = get_prompt_template(\"feature_impact_report\")\n"
   ]
  },
  {
   "cell_type": "markdown",
   "metadata": {},
   "source": [
    "## Feature Analysis without VectorDB"
   ]
  },
  {
   "cell_type": "code",
   "execution_count": 33,
   "metadata": {},
   "outputs": [],
   "source": [
    "#1 feature_nodes"
   ]
  },
  {
   "cell_type": "code",
   "execution_count": 34,
   "metadata": {},
   "outputs": [],
   "source": [
    "feature_nodes = feature_nodes_template.format(\n",
    "    feature_request=user_request, project_context=project_context\n",
    ")"
   ]
  },
  {
   "cell_type": "code",
   "execution_count": 35,
   "metadata": {},
   "outputs": [
    {
     "name": "stdout",
     "output_type": "stream",
     "text": [
      "Debug: Received prompt: Analyze the project context and identify the nodes (files or components) impacted by the following feature request:\n",
      "\n",
      "Feature Request: Add logging functionality to all major modules in the project\n",
      "\n",
      "Project Context: requirements.txt: ['# Python dependencies\\n', 'flask']{'project_name': 'project_old', 'structure': [{'type': 'file', 'name': 'app.py', 'path': 'project_old/app.py'}, {'type': 'file', 'name': 'requirements.txt', 'path': 'project_old/requirements.txt'}, {'type': 'directory', 'name': 'utils', 'path': 'project_old/utils', 'children': [{'type': 'file', 'name': 'helpers.py', 'path': 'project_old/utils/helpers.py'}]}]}\n",
      "\n",
      "Provide a list of impacted nodes and their roles in the project.\n",
      "Debug: Vector DB provided: False\n",
      "Debug: Formatted prompt:\n",
      "<|begin_of_text|><|start_header_id|>system<|end_header_id|>\n",
      "None<|eot_id|><|start_header_id|>user<|end_header_id|>\n",
      "Analyze the project context and identify the nodes (files or components) impacted by the following feature request:\n",
      "\n",
      "Feature Request: Add logging functionality to all major modules in the project\n",
      "\n",
      "Project Context: requirements.txt: ['# Python dependencies\\n', 'flask']{'project_name': 'project_old', 'structure': [{'type': 'file', 'name': 'app.py', 'path': 'project_old/app.py'}, {'type': 'file', 'name': 'requirements.txt', 'path': 'project_old/requirements.txt'}, {'type': 'directory', 'name': 'utils', 'path': 'project_old/utils', 'children': [{'type': 'file', 'name': 'helpers.py', 'path': 'project_old/utils/helpers.py'}]}]}\n",
      "\n",
      "Provide a list of impacted nodes and their roles in the project.<|eot_id|><|start_header_id|>assistant<|end_header_id|>\n",
      "\n"
     ]
    },
    {
     "name": "stderr",
     "output_type": "stream",
     "text": [
      "/mnt/c/Blog/Building-LLM-from-Scratch-in-Python/.venv/lib/python3.10/site-packages/ibm_watsonx_ai/foundation_models/utils/utils.py:415: LifecycleWarning: Model 'meta-llama/llama-3-70b-instruct' is in deprecated state from 2024-12-02 until 2025-02-03. IDs of alternative models: None. Further details: https://dataplatform.cloud.ibm.com/docs/content/wsj/analyze-data/fm-model-lifecycle.html?context=wx&audience=wdp\n",
      "  warnings.warn(\n"
     ]
    },
    {
     "name": "stdout",
     "output_type": "stream",
     "text": [
      "Debug: Querying without vector database...\n",
      "Debug: Raw response from model: Based on the project context and the feature request, the impacted nodes are:\n",
      "\n",
      "1. **app.py**: This is the main application file, and it's likely that logging functionality will need to be added to this file to log events and errors related to the application's core functionality. **Role: Main Application File**\n",
      "\n",
      "2. **helpers.py**: This file is part of the utils module, and it may contain helper functions that are used throughout the application. Adding logging functionality to this file will help track the usage and behavior of these helper functions. **Role: Utility Functions**\n",
      "\n",
      "3. **requirements.txt**: Although this file doesn't need to be directly modified to add logging functionality, it may need to be updated to include a logging library (e.g., Python's built-in `logging` module or a third-party library like `loguru`) as a dependency. **Role: Dependency Management**\n",
      "\n",
      "4. **New logging configuration file (e.g., logging.conf)**: This file may need to be created to configure the logging settings, such as log levels, output formats, and file locations. **Role: Logging Configuration**\n",
      "\n",
      "5. **New logging library or module (e.g., loggers.py)**: Depending on the complexity of the logging requirements, a new module or file may need to be created to encapsulate the logging functionality, making it reusable across the project. **Role: Logging Library**\n",
      "\n",
      "Note that the `utils` directory itself is not directly impacted, but its child file `helpers.py` is. The `project_old` directory is also not directly impacted, as it's just the root directory of the project.\n",
      "Debug: Response as string: Based on the project context and the feature request, the impacted nodes are:\n",
      "\n",
      "1. **app.py**: This is the main application file, and it's likely that logging functionality will need to be added to this file to log events and errors related to the application's core functionality. **Role: Main Application File**\n",
      "\n",
      "2. **helpers.py**: This file is part of the utils module, and it may contain helper functions that are used throughout the application. Adding logging functionality to this file will help track the usage and behavior of these helper functions. **Role: Utility Functions**\n",
      "\n",
      "3. **requirements.txt**: Although this file doesn't need to be directly modified to add logging functionality, it may need to be updated to include a logging library (e.g., Python's built-in `logging` module or a third-party library like `loguru`) as a dependency. **Role: Dependency Management**\n",
      "\n",
      "4. **New logging configuration file (e.g., logging.conf)**: This file may need to be created to configure the logging settings, such as log levels, output formats, and file locations. **Role: Logging Configuration**\n",
      "\n",
      "5. **New logging library or module (e.g., loggers.py)**: Depending on the complexity of the logging requirements, a new module or file may need to be created to encapsulate the logging functionality, making it reusable across the project. **Role: Logging Library**\n",
      "\n",
      "Note that the `utils` directory itself is not directly impacted, but its child file `helpers.py` is. The `project_old` directory is also not directly impacted, as it's just the root directory of the project.\n"
     ]
    }
   ],
   "source": [
    "feature_nodes_response = query_llm(user_input=feature_nodes)"
   ]
  },
  {
   "cell_type": "code",
   "execution_count": 36,
   "metadata": {},
   "outputs": [],
   "source": [
    "#2 feature_edges"
   ]
  },
  {
   "cell_type": "code",
   "execution_count": 37,
   "metadata": {},
   "outputs": [],
   "source": [
    "feature_edges = feature_edges_template.format(\n",
    "    feature_request=user_request, project_context=project_context\n",
    ")"
   ]
  },
  {
   "cell_type": "code",
   "execution_count": 38,
   "metadata": {},
   "outputs": [
    {
     "name": "stdout",
     "output_type": "stream",
     "text": [
      "Debug: Received prompt: Analyze the project context and determine the dependencies (edges) impacted by the following feature request:\n",
      "\n",
      "Feature Request: Add logging functionality to all major modules in the project\n",
      "\n",
      "Project Context: requirements.txt: ['# Python dependencies\\n', 'flask']{'project_name': 'project_old', 'structure': [{'type': 'file', 'name': 'app.py', 'path': 'project_old/app.py'}, {'type': 'file', 'name': 'requirements.txt', 'path': 'project_old/requirements.txt'}, {'type': 'directory', 'name': 'utils', 'path': 'project_old/utils', 'children': [{'type': 'file', 'name': 'helpers.py', 'path': 'project_old/utils/helpers.py'}]}]}\n",
      "\n",
      "Provide a list of impacted dependencies and their significance.\n",
      "Debug: Vector DB provided: False\n",
      "Debug: Formatted prompt:\n",
      "<|begin_of_text|><|start_header_id|>system<|end_header_id|>\n",
      "None<|eot_id|><|start_header_id|>user<|end_header_id|>\n",
      "Analyze the project context and determine the dependencies (edges) impacted by the following feature request:\n",
      "\n",
      "Feature Request: Add logging functionality to all major modules in the project\n",
      "\n",
      "Project Context: requirements.txt: ['# Python dependencies\\n', 'flask']{'project_name': 'project_old', 'structure': [{'type': 'file', 'name': 'app.py', 'path': 'project_old/app.py'}, {'type': 'file', 'name': 'requirements.txt', 'path': 'project_old/requirements.txt'}, {'type': 'directory', 'name': 'utils', 'path': 'project_old/utils', 'children': [{'type': 'file', 'name': 'helpers.py', 'path': 'project_old/utils/helpers.py'}]}]}\n",
      "\n",
      "Provide a list of impacted dependencies and their significance.<|eot_id|><|start_header_id|>assistant<|end_header_id|>\n",
      "\n"
     ]
    },
    {
     "name": "stderr",
     "output_type": "stream",
     "text": [
      "/mnt/c/Blog/Building-LLM-from-Scratch-in-Python/.venv/lib/python3.10/site-packages/ibm_watsonx_ai/foundation_models/utils/utils.py:415: LifecycleWarning: Model 'meta-llama/llama-3-70b-instruct' is in deprecated state from 2024-12-02 until 2025-02-03. IDs of alternative models: None. Further details: https://dataplatform.cloud.ibm.com/docs/content/wsj/analyze-data/fm-model-lifecycle.html?context=wx&audience=wdp\n",
      "  warnings.warn(\n"
     ]
    },
    {
     "name": "stdout",
     "output_type": "stream",
     "text": [
      "Debug: Querying without vector database...\n",
      "Debug: Raw response from model: Based on the project context and the feature request, the impacted dependencies (edges) are:\n",
      "\n",
      "1. **app.py -> logging module**: The feature request requires adding logging functionality to all major modules, including app.py. This means that app.py will now depend on the logging module, which is a Python standard library module.\n",
      "\n",
      "Significance: High, as app.py is a major module in the project and logging functionality is a critical aspect of the feature request.\n",
      "\n",
      "2. **helpers.py -> logging module**: Similar to app.py, helpers.py is also a major module in the project, and adding logging functionality to it will introduce a dependency on the logging module.\n",
      "\n",
      "Significance: Medium to High, as helpers.py is a utility module that may be used by other parts of the project, and logging functionality is important for debugging and monitoring.\n",
      "\n",
      "3. **requirements.txt -> logging module (indirectly)**: Although requirements.txt does not directly depend on the logging module, the addition of logging functionality to the project will likely require updates to the requirements.txt file to ensure that the necessary dependencies are installed.\n",
      "\n",
      "Significance: Low to Medium, as the impact on requirements.txt is indirect and primarily related to ensuring that the necessary dependencies are installed.\n",
      "\n",
      "4. **utils directory -> logging module (indirectly)**: The utils directory contains the helpers.py module, which will depend on the logging module. This means that the utils directory will indirectly depend on the logging module.\n",
      "\n",
      "Significance: Low to Medium, as the impact on the utils directory is indirect and primarily related to the dependencies of its child modules.\n",
      "\n",
      "In summary, the feature request to add logging functionality to all major modules in the project will introduce dependencies on the logging module in app.py and helpers.py, with indirect impacts on requirements.txt and the utils directory.\n",
      "Debug: Response as string: Based on the project context and the feature request, the impacted dependencies (edges) are:\n",
      "\n",
      "1. **app.py -> logging module**: The feature request requires adding logging functionality to all major modules, including app.py. This means that app.py will now depend on the logging module, which is a Python standard library module.\n",
      "\n",
      "Significance: High, as app.py is a major module in the project and logging functionality is a critical aspect of the feature request.\n",
      "\n",
      "2. **helpers.py -> logging module**: Similar to app.py, helpers.py is also a major module in the project, and adding logging functionality to it will introduce a dependency on the logging module.\n",
      "\n",
      "Significance: Medium to High, as helpers.py is a utility module that may be used by other parts of the project, and logging functionality is important for debugging and monitoring.\n",
      "\n",
      "3. **requirements.txt -> logging module (indirectly)**: Although requirements.txt does not directly depend on the logging module, the addition of logging functionality to the project will likely require updates to the requirements.txt file to ensure that the necessary dependencies are installed.\n",
      "\n",
      "Significance: Low to Medium, as the impact on requirements.txt is indirect and primarily related to ensuring that the necessary dependencies are installed.\n",
      "\n",
      "4. **utils directory -> logging module (indirectly)**: The utils directory contains the helpers.py module, which will depend on the logging module. This means that the utils directory will indirectly depend on the logging module.\n",
      "\n",
      "Significance: Low to Medium, as the impact on the utils directory is indirect and primarily related to the dependencies of its child modules.\n",
      "\n",
      "In summary, the feature request to add logging functionality to all major modules in the project will introduce dependencies on the logging module in app.py and helpers.py, with indirect impacts on requirements.txt and the utils directory.\n"
     ]
    }
   ],
   "source": [
    "feature_edges_response = query_llm(user_input=feature_edges)"
   ]
  },
  {
   "cell_type": "code",
   "execution_count": 39,
   "metadata": {},
   "outputs": [],
   "source": [
    "#3 impact_report"
   ]
  },
  {
   "cell_type": "code",
   "execution_count": 40,
   "metadata": {},
   "outputs": [],
   "source": [
    "impact_report = impact_report_template.format(\n",
    "    feature_request=user_request, project_context=project_context\n",
    ")"
   ]
  },
  {
   "cell_type": "code",
   "execution_count": 41,
   "metadata": {},
   "outputs": [
    {
     "name": "stdout",
     "output_type": "stream",
     "text": [
      "Debug: Received prompt: Generate a detailed report on the impact of the following feature request on the project:\n",
      "\n",
      "Feature Request: Add logging functionality to all major modules in the project\n",
      "\n",
      "Project Context: requirements.txt: ['# Python dependencies\\n', 'flask']{'project_name': 'project_old', 'structure': [{'type': 'file', 'name': 'app.py', 'path': 'project_old/app.py'}, {'type': 'file', 'name': 'requirements.txt', 'path': 'project_old/requirements.txt'}, {'type': 'directory', 'name': 'utils', 'path': 'project_old/utils', 'children': [{'type': 'file', 'name': 'helpers.py', 'path': 'project_old/utils/helpers.py'}]}]}\n",
      "\n",
      "Include risks, suggestions for modular implementation, and expected changes.\n",
      "Debug: Vector DB provided: False\n",
      "Debug: Formatted prompt:\n",
      "<|begin_of_text|><|start_header_id|>system<|end_header_id|>\n",
      "None<|eot_id|><|start_header_id|>user<|end_header_id|>\n",
      "Generate a detailed report on the impact of the following feature request on the project:\n",
      "\n",
      "Feature Request: Add logging functionality to all major modules in the project\n",
      "\n",
      "Project Context: requirements.txt: ['# Python dependencies\\n', 'flask']{'project_name': 'project_old', 'structure': [{'type': 'file', 'name': 'app.py', 'path': 'project_old/app.py'}, {'type': 'file', 'name': 'requirements.txt', 'path': 'project_old/requirements.txt'}, {'type': 'directory', 'name': 'utils', 'path': 'project_old/utils', 'children': [{'type': 'file', 'name': 'helpers.py', 'path': 'project_old/utils/helpers.py'}]}]}\n",
      "\n",
      "Include risks, suggestions for modular implementation, and expected changes.<|eot_id|><|start_header_id|>assistant<|end_header_id|>\n",
      "\n"
     ]
    },
    {
     "name": "stderr",
     "output_type": "stream",
     "text": [
      "/mnt/c/Blog/Building-LLM-from-Scratch-in-Python/.venv/lib/python3.10/site-packages/ibm_watsonx_ai/foundation_models/utils/utils.py:415: LifecycleWarning: Model 'meta-llama/llama-3-70b-instruct' is in deprecated state from 2024-12-02 until 2025-02-03. IDs of alternative models: None. Further details: https://dataplatform.cloud.ibm.com/docs/content/wsj/analyze-data/fm-model-lifecycle.html?context=wx&audience=wdp\n",
      "  warnings.warn(\n"
     ]
    },
    {
     "name": "stdout",
     "output_type": "stream",
     "text": [
      "Debug: Querying without vector database...\n",
      "Debug: Raw response from model: **Impact Report: Adding Logging Functionality to Major Modules**\n",
      "\n",
      "**Introduction**\n",
      "\n",
      "The proposed feature request aims to add logging functionality to all major modules in the project. This report assesses the impact of this request on the project, highlighting potential risks, suggestions for modular implementation, and expected changes.\n",
      "\n",
      "**Current Project Structure**\n",
      "\n",
      "The project, named `project_old`, has a simple structure consisting of:\n",
      "\n",
      "1. `app.py`: The main application file.\n",
      "2. `requirements.txt`: A file listing Python dependencies, currently only Flask.\n",
      "3. `utils` directory: Containing a single file, `helpers.py`, with utility functions.\n",
      "\n",
      "**Impact Analysis**\n",
      "\n",
      "**Benefits**\n",
      "\n",
      "1. **Improved Debugging**: Logging functionality will enable developers to track errors, warnings, and informational messages, making it easier to identify and debug issues.\n",
      "2. **Enhanced Monitoring**: Logs will provide valuable insights into the application's behavior, allowing for better monitoring and performance optimization.\n",
      "3. **Compliance**: Logging can help meet regulatory and security requirements, such as auditing and compliance with industry standards.\n",
      "\n",
      "**Risks and Challenges**\n",
      "\n",
      "1. **Increased Complexity**: Adding logging functionality to all major modules may introduce additional complexity, potentially leading to maintenance and performance issues.\n",
      "2. **Over-Engineering**: Implementing logging in a way that is too verbose or complex may lead to unnecessary overhead and decreased performance.\n",
      "3. **Dependency Management**: The introduction of a logging library may require additional dependencies, which can lead to version conflicts and compatibility issues.\n",
      "\n",
      "**Modular Implementation Suggestions**\n",
      "\n",
      "To minimize risks and ensure a scalable implementation, consider the following modular approach:\n",
      "\n",
      "1. **Create a separate logging module**: Develop a dedicated logging module (e.g., `logging_config.py`) to centralize logging configuration and setup. This will allow for easy maintenance and updates.\n",
      "2. **Use a logging library**: Choose a popular and well-maintained logging library (e.g., `logbook` or `structlog`) to simplify logging implementation and reduce the risk of over-engineering.\n",
      "3. **Implement logging in modules incrementally**: Start by adding logging to the most critical modules (e.g., `app.py` and `helpers.py`) and gradually extend it to other modules as needed.\n",
      "4. **Use a consistent logging format**: Establish a consistent logging format throughout the project to ensure easy log analysis and processing.\n",
      "\n",
      "**Expected Changes**\n",
      "\n",
      "The implementation of logging functionality will likely result in the following changes:\n",
      "\n",
      "1. **New dependencies**: The addition of a logging library will introduce new dependencies in `requirements.txt`.\n",
      "2. **Modified module structure**: The creation of a separate logging module and the integration of logging into existing modules will alter the project structure.\n",
      "3. **Updated code**: Existing code will need to be updated to incorporate logging statements and configure logging settings.\n",
      "4. **Additional testing**: New tests will be required to ensure logging functionality is working correctly and not introducing performance issues.\n",
      "\n",
      "**Conclusion**\n",
      "\n",
      "Adding logging functionality to all major modules in the project will bring significant benefits, including improved debugging and monitoring capabilities. However, it is essential to approach this feature request with caution, considering the potential risks and challenges. By implementing logging in a modular and incremental manner, using a well-maintained logging library, and establishing a consistent logging format, the project can minimize risks and ensure a successful integration of logging functionality.\n",
      "Debug: Response as string: **Impact Report: Adding Logging Functionality to Major Modules**\n",
      "\n",
      "**Introduction**\n",
      "\n",
      "The proposed feature request aims to add logging functionality to all major modules in the project. This report assesses the impact of this request on the project, highlighting potential risks, suggestions for modular implementation, and expected changes.\n",
      "\n",
      "**Current Project Structure**\n",
      "\n",
      "The project, named `project_old`, has a simple structure consisting of:\n",
      "\n",
      "1. `app.py`: The main application file.\n",
      "2. `requirements.txt`: A file listing Python dependencies, currently only Flask.\n",
      "3. `utils` directory: Containing a single file, `helpers.py`, with utility functions.\n",
      "\n",
      "**Impact Analysis**\n",
      "\n",
      "**Benefits**\n",
      "\n",
      "1. **Improved Debugging**: Logging functionality will enable developers to track errors, warnings, and informational messages, making it easier to identify and debug issues.\n",
      "2. **Enhanced Monitoring**: Logs will provide valuable insights into the application's behavior, allowing for better monitoring and performance optimization.\n",
      "3. **Compliance**: Logging can help meet regulatory and security requirements, such as auditing and compliance with industry standards.\n",
      "\n",
      "**Risks and Challenges**\n",
      "\n",
      "1. **Increased Complexity**: Adding logging functionality to all major modules may introduce additional complexity, potentially leading to maintenance and performance issues.\n",
      "2. **Over-Engineering**: Implementing logging in a way that is too verbose or complex may lead to unnecessary overhead and decreased performance.\n",
      "3. **Dependency Management**: The introduction of a logging library may require additional dependencies, which can lead to version conflicts and compatibility issues.\n",
      "\n",
      "**Modular Implementation Suggestions**\n",
      "\n",
      "To minimize risks and ensure a scalable implementation, consider the following modular approach:\n",
      "\n",
      "1. **Create a separate logging module**: Develop a dedicated logging module (e.g., `logging_config.py`) to centralize logging configuration and setup. This will allow for easy maintenance and updates.\n",
      "2. **Use a logging library**: Choose a popular and well-maintained logging library (e.g., `logbook` or `structlog`) to simplify logging implementation and reduce the risk of over-engineering.\n",
      "3. **Implement logging in modules incrementally**: Start by adding logging to the most critical modules (e.g., `app.py` and `helpers.py`) and gradually extend it to other modules as needed.\n",
      "4. **Use a consistent logging format**: Establish a consistent logging format throughout the project to ensure easy log analysis and processing.\n",
      "\n",
      "**Expected Changes**\n",
      "\n",
      "The implementation of logging functionality will likely result in the following changes:\n",
      "\n",
      "1. **New dependencies**: The addition of a logging library will introduce new dependencies in `requirements.txt`.\n",
      "2. **Modified module structure**: The creation of a separate logging module and the integration of logging into existing modules will alter the project structure.\n",
      "3. **Updated code**: Existing code will need to be updated to incorporate logging statements and configure logging settings.\n",
      "4. **Additional testing**: New tests will be required to ensure logging functionality is working correctly and not introducing performance issues.\n",
      "\n",
      "**Conclusion**\n",
      "\n",
      "Adding logging functionality to all major modules in the project will bring significant benefits, including improved debugging and monitoring capabilities. However, it is essential to approach this feature request with caution, considering the potential risks and challenges. By implementing logging in a modular and incremental manner, using a well-maintained logging library, and establishing a consistent logging format, the project can minimize risks and ensure a successful integration of logging functionality.\n"
     ]
    }
   ],
   "source": [
    "impact_report_response = query_llm(user_input=impact_report)"
   ]
  },
  {
   "cell_type": "markdown",
   "metadata": {},
   "source": [
    "## Feature Analysis with VectorDB"
   ]
  },
  {
   "cell_type": "code",
   "execution_count": 42,
   "metadata": {},
   "outputs": [],
   "source": [
    "vector_db = load_vector_database(persist_directory=\"./chroma_db\")"
   ]
  },
  {
   "cell_type": "code",
   "execution_count": 43,
   "metadata": {},
   "outputs": [],
   "source": [
    "from src.vector_database.db_load import load_vector_db_by_collection\n",
    "from src.models.llm_inference import query_llm"
   ]
  },
  {
   "cell_type": "code",
   "execution_count": 44,
   "metadata": {},
   "outputs": [],
   "source": [
    "feature_nodes = feature_nodes_template.format(\n",
    "    feature_request=user_request, project_context=project_context\n",
    ")\n"
   ]
  },
  {
   "cell_type": "code",
   "execution_count": 45,
   "metadata": {},
   "outputs": [
    {
     "data": {
      "text/plain": [
       "\"Analyze the project context and identify the nodes (files or components) impacted by the following feature request:\\n\\nFeature Request: Add logging functionality to all major modules in the project\\n\\nProject Context: requirements.txt: ['# Python dependencies\\\\n', 'flask']{'project_name': 'project_old', 'structure': [{'type': 'file', 'name': 'app.py', 'path': 'project_old/app.py'}, {'type': 'file', 'name': 'requirements.txt', 'path': 'project_old/requirements.txt'}, {'type': 'directory', 'name': 'utils', 'path': 'project_old/utils', 'children': [{'type': 'file', 'name': 'helpers.py', 'path': 'project_old/utils/helpers.py'}]}]}\\n\\nProvide a list of impacted nodes and their roles in the project.\""
      ]
     },
     "execution_count": 45,
     "metadata": {},
     "output_type": "execute_result"
    }
   ],
   "source": [
    "feature_nodes"
   ]
  },
  {
   "cell_type": "code",
   "execution_count": 46,
   "metadata": {},
   "outputs": [
    {
     "name": "stdout",
     "output_type": "stream",
     "text": [
      "Debug: Received prompt: Analyze the project context and identify the nodes (files or components) impacted by the following feature request:\n",
      "\n",
      "Feature Request: Add logging functionality to all major modules in the project\n",
      "\n",
      "Project Context: requirements.txt: ['# Python dependencies\\n', 'flask']{'project_name': 'project_old', 'structure': [{'type': 'file', 'name': 'app.py', 'path': 'project_old/app.py'}, {'type': 'file', 'name': 'requirements.txt', 'path': 'project_old/requirements.txt'}, {'type': 'directory', 'name': 'utils', 'path': 'project_old/utils', 'children': [{'type': 'file', 'name': 'helpers.py', 'path': 'project_old/utils/helpers.py'}]}]}\n",
      "\n",
      "Provide a list of impacted nodes and their roles in the project.\n",
      "Debug: Vector DB provided: True\n",
      "Debug: Formatted prompt:\n",
      "<|begin_of_text|><|start_header_id|>system<|end_header_id|>\n",
      "None<|eot_id|><|start_header_id|>user<|end_header_id|>\n",
      "Analyze the project context and identify the nodes (files or components) impacted by the following feature request:\n",
      "\n",
      "Feature Request: Add logging functionality to all major modules in the project\n",
      "\n",
      "Project Context: requirements.txt: ['# Python dependencies\\n', 'flask']{'project_name': 'project_old', 'structure': [{'type': 'file', 'name': 'app.py', 'path': 'project_old/app.py'}, {'type': 'file', 'name': 'requirements.txt', 'path': 'project_old/requirements.txt'}, {'type': 'directory', 'name': 'utils', 'path': 'project_old/utils', 'children': [{'type': 'file', 'name': 'helpers.py', 'path': 'project_old/utils/helpers.py'}]}]}\n",
      "\n",
      "Provide a list of impacted nodes and their roles in the project.<|eot_id|><|start_header_id|>assistant<|end_header_id|>\n",
      "\n"
     ]
    },
    {
     "name": "stderr",
     "output_type": "stream",
     "text": [
      "/mnt/c/Blog/Building-LLM-from-Scratch-in-Python/.venv/lib/python3.10/site-packages/ibm_watsonx_ai/foundation_models/utils/utils.py:415: LifecycleWarning: Model 'meta-llama/llama-3-70b-instruct' is in deprecated state from 2024-12-02 until 2025-02-03. IDs of alternative models: None. Further details: https://dataplatform.cloud.ibm.com/docs/content/wsj/analyze-data/fm-model-lifecycle.html?context=wx&audience=wdp\n",
      "  warnings.warn(\n"
     ]
    },
    {
     "name": "stdout",
     "output_type": "stream",
     "text": [
      "Debug: Querying using vector database...\n",
      "Debug: Raw response from vector DB: {'query': \"<|begin_of_text|><|start_header_id|>system<|end_header_id|>\\nNone<|eot_id|><|start_header_id|>user<|end_header_id|>\\nAnalyze the project context and identify the nodes (files or components) impacted by the following feature request:\\n\\nFeature Request: Add logging functionality to all major modules in the project\\n\\nProject Context: requirements.txt: ['# Python dependencies\\\\n', 'flask']{'project_name': 'project_old', 'structure': [{'type': 'file', 'name': 'app.py', 'path': 'project_old/app.py'}, {'type': 'file', 'name': 'requirements.txt', 'path': 'project_old/requirements.txt'}, {'type': 'directory', 'name': 'utils', 'path': 'project_old/utils', 'children': [{'type': 'file', 'name': 'helpers.py', 'path': 'project_old/utils/helpers.py'}]}]}\\n\\nProvide a list of impacted nodes and their roles in the project.<|eot_id|><|start_header_id|>assistant<|end_header_id|>\\n\", 'result': \" \\n\\nBased on the project context, the nodes impacted by the feature request to add logging functionality to all major modules in the project are:\\n\\n1. `app.py` (File) - Role: Main application file, needs logging functionality to log important events or errors.\\n\\n2. `helpers.py` (File) - Role: Utility file, needs logging functionality to log important events or errors related to helper functions.\\n\\n3. `requirements.txt` (File) - Role: Dependency management file, may need to add a logging library (e.g., `logging` or a third-party library like `loguru`) as a dependency.\\n\\nNote that the `utils` directory is not directly impacted, but its child file `helpers.py` is. The `flask` dependency in `requirements.txt` is not directly related to logging functionality, so it's not impacted by this feature request.\"}\n",
      "Debug: Extracted result: Based on the project context, the nodes impacted by the feature request to add logging functionality to all major modules in the project are:\n",
      "\n",
      "1. `app.py` (File) - Role: Main application file, needs logging functionality to log important events or errors.\n",
      "\n",
      "2. `helpers.py` (File) - Role: Utility file, needs logging functionality to log important events or errors related to helper functions.\n",
      "\n",
      "3. `requirements.txt` (File) - Role: Dependency management file, may need to add a logging library (e.g., `logging` or a third-party library like `loguru`) as a dependency.\n",
      "\n",
      "Note that the `utils` directory is not directly impacted, but its child file `helpers.py` is. The `flask` dependency in `requirements.txt` is not directly related to logging functionality, so it's not impacted by this feature request.\n"
     ]
    }
   ],
   "source": [
    "feature_nodes_response_db = query_llm(user_input=feature_nodes,vector_db=vector_db)"
   ]
  },
  {
   "cell_type": "code",
   "execution_count": 47,
   "metadata": {},
   "outputs": [
    {
     "name": "stdout",
     "output_type": "stream",
     "text": [
      "Debug: Received prompt: Analyze the project context and determine the dependencies (edges) impacted by the following feature request:\n",
      "\n",
      "Feature Request: Add logging functionality to all major modules in the project\n",
      "\n",
      "Project Context: requirements.txt: ['# Python dependencies\\n', 'flask']{'project_name': 'project_old', 'structure': [{'type': 'file', 'name': 'app.py', 'path': 'project_old/app.py'}, {'type': 'file', 'name': 'requirements.txt', 'path': 'project_old/requirements.txt'}, {'type': 'directory', 'name': 'utils', 'path': 'project_old/utils', 'children': [{'type': 'file', 'name': 'helpers.py', 'path': 'project_old/utils/helpers.py'}]}]}\n",
      "\n",
      "Provide a list of impacted dependencies and their significance.\n",
      "Debug: Vector DB provided: True\n",
      "Debug: Formatted prompt:\n",
      "<|begin_of_text|><|start_header_id|>system<|end_header_id|>\n",
      "None<|eot_id|><|start_header_id|>user<|end_header_id|>\n",
      "Analyze the project context and determine the dependencies (edges) impacted by the following feature request:\n",
      "\n",
      "Feature Request: Add logging functionality to all major modules in the project\n",
      "\n",
      "Project Context: requirements.txt: ['# Python dependencies\\n', 'flask']{'project_name': 'project_old', 'structure': [{'type': 'file', 'name': 'app.py', 'path': 'project_old/app.py'}, {'type': 'file', 'name': 'requirements.txt', 'path': 'project_old/requirements.txt'}, {'type': 'directory', 'name': 'utils', 'path': 'project_old/utils', 'children': [{'type': 'file', 'name': 'helpers.py', 'path': 'project_old/utils/helpers.py'}]}]}\n",
      "\n",
      "Provide a list of impacted dependencies and their significance.<|eot_id|><|start_header_id|>assistant<|end_header_id|>\n",
      "\n"
     ]
    },
    {
     "name": "stderr",
     "output_type": "stream",
     "text": [
      "/mnt/c/Blog/Building-LLM-from-Scratch-in-Python/.venv/lib/python3.10/site-packages/ibm_watsonx_ai/foundation_models/utils/utils.py:415: LifecycleWarning: Model 'meta-llama/llama-3-70b-instruct' is in deprecated state from 2024-12-02 until 2025-02-03. IDs of alternative models: None. Further details: https://dataplatform.cloud.ibm.com/docs/content/wsj/analyze-data/fm-model-lifecycle.html?context=wx&audience=wdp\n",
      "  warnings.warn(\n"
     ]
    },
    {
     "name": "stdout",
     "output_type": "stream",
     "text": [
      "Debug: Querying using vector database...\n",
      "Debug: Raw response from vector DB: {'query': \"<|begin_of_text|><|start_header_id|>system<|end_header_id|>\\nNone<|eot_id|><|start_header_id|>user<|end_header_id|>\\nAnalyze the project context and determine the dependencies (edges) impacted by the following feature request:\\n\\nFeature Request: Add logging functionality to all major modules in the project\\n\\nProject Context: requirements.txt: ['# Python dependencies\\\\n', 'flask']{'project_name': 'project_old', 'structure': [{'type': 'file', 'name': 'app.py', 'path': 'project_old/app.py'}, {'type': 'file', 'name': 'requirements.txt', 'path': 'project_old/requirements.txt'}, {'type': 'directory', 'name': 'utils', 'path': 'project_old/utils', 'children': [{'type': 'file', 'name': 'helpers.py', 'path': 'project_old/utils/helpers.py'}]}]}\\n\\nProvide a list of impacted dependencies and their significance.<|eot_id|><|start_header_id|>assistant<|end_header_id|>\\n\", 'result': ' \\n\\nBased on the project context, the impacted dependencies for the feature request \"Add logging functionality to all major modules in the project\" are:\\n\\n1. `app.py`: This file will likely require logging functionality to log important events or errors. The significance of this impact is HIGH, as logging is a critical aspect of monitoring and debugging the application.\\n\\n2. `helpers.py` (inside `utils` directory): This file may also require logging functionality, depending on the nature of the helper functions it provides. The significance of this impact is MEDIUM to HIGH, as logging can help identify issues with these helper functions.\\n\\n3. `requirements.txt`: This file may need to be updated to include a logging library (e.g., `logging` or a third-party library like `loguru`) as a dependency. The significance of this impact is MEDIUM, as it\\'s a necessary step to enable logging functionality in the project.\\n\\nNo impact is expected on the `flask` dependency, as it\\'s a web framework and not directly related to logging functionality.\\n\\nNote that the significance of the impact may vary depending on the specific requirements and implementation details of the logging functionality.'}\n",
      "Debug: Extracted result: Based on the project context, the impacted dependencies for the feature request \"Add logging functionality to all major modules in the project\" are:\n",
      "\n",
      "1. `app.py`: This file will likely require logging functionality to log important events or errors. The significance of this impact is HIGH, as logging is a critical aspect of monitoring and debugging the application.\n",
      "\n",
      "2. `helpers.py` (inside `utils` directory): This file may also require logging functionality, depending on the nature of the helper functions it provides. The significance of this impact is MEDIUM to HIGH, as logging can help identify issues with these helper functions.\n",
      "\n",
      "3. `requirements.txt`: This file may need to be updated to include a logging library (e.g., `logging` or a third-party library like `loguru`) as a dependency. The significance of this impact is MEDIUM, as it's a necessary step to enable logging functionality in the project.\n",
      "\n",
      "No impact is expected on the `flask` dependency, as it's a web framework and not directly related to logging functionality.\n",
      "\n",
      "Note that the significance of the impact may vary depending on the specific requirements and implementation details of the logging functionality.\n"
     ]
    }
   ],
   "source": [
    "feature_edges = feature_edges_template.format(\n",
    "    feature_request=user_request, project_context=project_context\n",
    ")\n",
    "\n",
    "feature_edges_response_db = query_llm(user_input=feature_edges,vector_db=vector_db)"
   ]
  },
  {
   "cell_type": "code",
   "execution_count": 48,
   "metadata": {},
   "outputs": [
    {
     "name": "stdout",
     "output_type": "stream",
     "text": [
      "Debug: Received prompt: Generate a detailed report on the impact of the following feature request on the project:\n",
      "\n",
      "Feature Request: Add logging functionality to all major modules in the project\n",
      "\n",
      "Project Context: requirements.txt: ['# Python dependencies\\n', 'flask']{'project_name': 'project_old', 'structure': [{'type': 'file', 'name': 'app.py', 'path': 'project_old/app.py'}, {'type': 'file', 'name': 'requirements.txt', 'path': 'project_old/requirements.txt'}, {'type': 'directory', 'name': 'utils', 'path': 'project_old/utils', 'children': [{'type': 'file', 'name': 'helpers.py', 'path': 'project_old/utils/helpers.py'}]}]}\n",
      "\n",
      "Include risks, suggestions for modular implementation, and expected changes.\n",
      "Debug: Vector DB provided: True\n",
      "Debug: Formatted prompt:\n",
      "<|begin_of_text|><|start_header_id|>system<|end_header_id|>\n",
      "None<|eot_id|><|start_header_id|>user<|end_header_id|>\n",
      "Generate a detailed report on the impact of the following feature request on the project:\n",
      "\n",
      "Feature Request: Add logging functionality to all major modules in the project\n",
      "\n",
      "Project Context: requirements.txt: ['# Python dependencies\\n', 'flask']{'project_name': 'project_old', 'structure': [{'type': 'file', 'name': 'app.py', 'path': 'project_old/app.py'}, {'type': 'file', 'name': 'requirements.txt', 'path': 'project_old/requirements.txt'}, {'type': 'directory', 'name': 'utils', 'path': 'project_old/utils', 'children': [{'type': 'file', 'name': 'helpers.py', 'path': 'project_old/utils/helpers.py'}]}]}\n",
      "\n",
      "Include risks, suggestions for modular implementation, and expected changes.<|eot_id|><|start_header_id|>assistant<|end_header_id|>\n",
      "\n"
     ]
    },
    {
     "name": "stderr",
     "output_type": "stream",
     "text": [
      "/mnt/c/Blog/Building-LLM-from-Scratch-in-Python/.venv/lib/python3.10/site-packages/ibm_watsonx_ai/foundation_models/utils/utils.py:415: LifecycleWarning: Model 'meta-llama/llama-3-70b-instruct' is in deprecated state from 2024-12-02 until 2025-02-03. IDs of alternative models: None. Further details: https://dataplatform.cloud.ibm.com/docs/content/wsj/analyze-data/fm-model-lifecycle.html?context=wx&audience=wdp\n",
      "  warnings.warn(\n"
     ]
    },
    {
     "name": "stdout",
     "output_type": "stream",
     "text": [
      "Debug: Querying using vector database...\n",
      "Debug: Raw response from vector DB: {'query': \"<|begin_of_text|><|start_header_id|>system<|end_header_id|>\\nNone<|eot_id|><|start_header_id|>user<|end_header_id|>\\nGenerate a detailed report on the impact of the following feature request on the project:\\n\\nFeature Request: Add logging functionality to all major modules in the project\\n\\nProject Context: requirements.txt: ['# Python dependencies\\\\n', 'flask']{'project_name': 'project_old', 'structure': [{'type': 'file', 'name': 'app.py', 'path': 'project_old/app.py'}, {'type': 'file', 'name': 'requirements.txt', 'path': 'project_old/requirements.txt'}, {'type': 'directory', 'name': 'utils', 'path': 'project_old/utils', 'children': [{'type': 'file', 'name': 'helpers.py', 'path': 'project_old/utils/helpers.py'}]}]}\\n\\nInclude risks, suggestions for modular implementation, and expected changes.<|eot_id|><|start_header_id|>assistant<|end_header_id|>\\n\", 'result': \" \\n\\n**Impact Report: Adding Logging Functionality to Major Modules**\\n\\n**Introduction**\\n\\nThe feature request to add logging functionality to all major modules in the project aims to enhance the project's debugging and monitoring capabilities. This report assesses the impact of this feature request on the project, highlighting potential risks, suggestions for modular implementation, and expected changes.\\n\\n**Current Project Structure**\\n\\nThe project, named `project_old`, consists of the following components:\\n\\n* `app.py`: The main application file\\n* `requirements.txt`: A file listing Python dependencies, currently only including Flask\\n* `utils` directory: Containing a `helpers.py` file with utility functions\\n\\n**Impact Analysis**\\n\\n**Risks:**\\n\\n1. **Code Complexity**: Introducing logging functionality may add complexity to the codebase, potentially leading to maintainability issues if not implemented carefully.\\n2. **Performance Overhead**: Logging can introduce performance overhead, especially if not optimized for production environments.\\n3. **Dependency Management**: Adding logging dependencies may lead to version conflicts or compatibility issues with existing dependencies.\\n\\n**Suggestions for Modular Implementation:**\\n\\n1. **Create a separate logging module**: Develop a dedicated logging module (e.g., `logger.py`) to encapsulate logging functionality, making it easier to maintain and update.\\n2. **Use a logging framework**: Leverage a popular Python logging framework like Logbook, Loggly, or Python's built-in `logging` module to simplify logging implementation and configuration.\\n3. **Implement logging at the module level**: Add logging functionality to each major module (e.g., `app.py`, `helpers.py`) to provide granular logging control.\\n\\n**Expected Changes:**\\n\\n1. **New dependencies**: The `requirements.txt` file will need to be updated to include logging-related dependencies.\\n2. **Code modifications**: Existing code will need to be updated to incorporate logging statements, which may require changes to function signatures, error handling, and code organization.\\n3. **Configuration files**: A logging configuration file (e.g., `logging.conf`) may be introduced to centralize logging settings and facilitate easy configuration.\\n\\n**Recommendations:**\\n\\n1. **Conduct a thorough code review**: Ensure that logging functionality is implemented consistently and efficiently across the project.\\n2. **Test logging functionality**: Thoroughly test logging functionality to ensure it does not introduce performance issues or errors.\\n3. **Document logging configuration**: Provide clear documentation on logging configuration and usage to facilitate easy maintenance and troubleshooting.\\n\\nBy carefully considering the risks and implementing logging functionality in a modular and well-structured manner, the project can benefit from enhanced debugging and monitoring capabilities, ultimately leading to improved overall project quality and reliability.\"}\n",
      "Debug: Extracted result: **Impact Report: Adding Logging Functionality to Major Modules**\n",
      "\n",
      "**Introduction**\n",
      "\n",
      "The feature request to add logging functionality to all major modules in the project aims to enhance the project's debugging and monitoring capabilities. This report assesses the impact of this feature request on the project, highlighting potential risks, suggestions for modular implementation, and expected changes.\n",
      "\n",
      "**Current Project Structure**\n",
      "\n",
      "The project, named `project_old`, consists of the following components:\n",
      "\n",
      "* `app.py`: The main application file\n",
      "* `requirements.txt`: A file listing Python dependencies, currently only including Flask\n",
      "* `utils` directory: Containing a `helpers.py` file with utility functions\n",
      "\n",
      "**Impact Analysis**\n",
      "\n",
      "**Risks:**\n",
      "\n",
      "1. **Code Complexity**: Introducing logging functionality may add complexity to the codebase, potentially leading to maintainability issues if not implemented carefully.\n",
      "2. **Performance Overhead**: Logging can introduce performance overhead, especially if not optimized for production environments.\n",
      "3. **Dependency Management**: Adding logging dependencies may lead to version conflicts or compatibility issues with existing dependencies.\n",
      "\n",
      "**Suggestions for Modular Implementation:**\n",
      "\n",
      "1. **Create a separate logging module**: Develop a dedicated logging module (e.g., `logger.py`) to encapsulate logging functionality, making it easier to maintain and update.\n",
      "2. **Use a logging framework**: Leverage a popular Python logging framework like Logbook, Loggly, or Python's built-in `logging` module to simplify logging implementation and configuration.\n",
      "3. **Implement logging at the module level**: Add logging functionality to each major module (e.g., `app.py`, `helpers.py`) to provide granular logging control.\n",
      "\n",
      "**Expected Changes:**\n",
      "\n",
      "1. **New dependencies**: The `requirements.txt` file will need to be updated to include logging-related dependencies.\n",
      "2. **Code modifications**: Existing code will need to be updated to incorporate logging statements, which may require changes to function signatures, error handling, and code organization.\n",
      "3. **Configuration files**: A logging configuration file (e.g., `logging.conf`) may be introduced to centralize logging settings and facilitate easy configuration.\n",
      "\n",
      "**Recommendations:**\n",
      "\n",
      "1. **Conduct a thorough code review**: Ensure that logging functionality is implemented consistently and efficiently across the project.\n",
      "2. **Test logging functionality**: Thoroughly test logging functionality to ensure it does not introduce performance issues or errors.\n",
      "3. **Document logging configuration**: Provide clear documentation on logging configuration and usage to facilitate easy maintenance and troubleshooting.\n",
      "\n",
      "By carefully considering the risks and implementing logging functionality in a modular and well-structured manner, the project can benefit from enhanced debugging and monitoring capabilities, ultimately leading to improved overall project quality and reliability.\n"
     ]
    }
   ],
   "source": [
    "impact_report = impact_report_template.format(\n",
    "    feature_request=user_request, project_context=project_context\n",
    ")\n",
    "\n",
    "impact_report_response_db = query_llm(user_input=impact_report,vector_db=vector_db)"
   ]
  },
  {
   "cell_type": "code",
   "execution_count": 49,
   "metadata": {},
   "outputs": [
    {
     "data": {
      "text/plain": [
       "\"**Impact Report: Adding Logging Functionality to Major Modules**\\n\\n**Introduction**\\n\\nThe feature request to add logging functionality to all major modules in the project aims to enhance the project's debugging and monitoring capabilities. This report assesses the impact of this feature request on the project, highlighting potential risks, suggestions for modular implementation, and expected changes.\\n\\n**Current Project Structure**\\n\\nThe project, named `project_old`, consists of the following components:\\n\\n* `app.py`: The main application file\\n* `requirements.txt`: A file listing Python dependencies, currently only including Flask\\n* `utils` directory: Containing a `helpers.py` file with utility functions\\n\\n**Impact Analysis**\\n\\n**Risks:**\\n\\n1. **Code Complexity**: Introducing logging functionality may add complexity to the codebase, potentially leading to maintainability issues if not implemented carefully.\\n2. **Performance Overhead**: Logging can introduce performance overhead, especially if not optimized for production environments.\\n3. **Dependency Management**: Adding logging dependencies may lead to version conflicts or compatibility issues with existing dependencies.\\n\\n**Suggestions for Modular Implementation:**\\n\\n1. **Create a separate logging module**: Develop a dedicated logging module (e.g., `logger.py`) to encapsulate logging functionality, making it easier to maintain and update.\\n2. **Use a logging framework**: Leverage a popular Python logging framework like Logbook, Loggly, or Python's built-in `logging` module to simplify logging implementation and configuration.\\n3. **Implement logging at the module level**: Add logging functionality to each major module (e.g., `app.py`, `helpers.py`) to provide granular logging control.\\n\\n**Expected Changes:**\\n\\n1. **New dependencies**: The `requirements.txt` file will need to be updated to include logging-related dependencies.\\n2. **Code modifications**: Existing code will need to be updated to incorporate logging statements, which may require changes to function signatures, error handling, and code organization.\\n3. **Configuration files**: A logging configuration file (e.g., `logging.conf`) may be introduced to centralize logging settings and facilitate easy configuration.\\n\\n**Recommendations:**\\n\\n1. **Conduct a thorough code review**: Ensure that logging functionality is implemented consistently and efficiently across the project.\\n2. **Test logging functionality**: Thoroughly test logging functionality to ensure it does not introduce performance issues or errors.\\n3. **Document logging configuration**: Provide clear documentation on logging configuration and usage to facilitate easy maintenance and troubleshooting.\\n\\nBy carefully considering the risks and implementing logging functionality in a modular and well-structured manner, the project can benefit from enhanced debugging and monitoring capabilities, ultimately leading to improved overall project quality and reliability.\""
      ]
     },
     "execution_count": 49,
     "metadata": {},
     "output_type": "execute_result"
    }
   ],
   "source": [
    "feature_nodes_response_db\n",
    "feature_edges_response_db\n",
    "impact_report_response_db"
   ]
  },
  {
   "cell_type": "code",
   "execution_count": 50,
   "metadata": {},
   "outputs": [],
   "source": [
    "#analysis_results=feature_nodes_response_db+feature_nodes_response_db+impact_report_response_db"
   ]
  },
  {
   "cell_type": "code",
   "execution_count": null,
   "metadata": {},
   "outputs": [],
   "source": [
    "analysis_results=f\"Nodes:\\n{feature_nodes_response_db}\\n\\nEdges:\\n{feature_edges_response_db}\\n\\nReport:\\n{impact_report_response_db}\""
   ]
  },
  {
   "cell_type": "code",
   "execution_count": 52,
   "metadata": {},
   "outputs": [
    {
     "name": "stdout",
     "output_type": "stream",
     "text": [
      "Nodes:\n",
      "Based on the project context, the nodes impacted by the feature request to add logging functionality to all major modules in the project are:\n",
      "\n",
      "1. `app.py` (File) - Role: Main application file, needs logging functionality to log important events or errors.\n",
      "\n",
      "2. `helpers.py` (File) - Role: Utility file, needs logging functionality to log important events or errors related to helper functions.\n",
      "\n",
      "3. `requirements.txt` (File) - Role: Dependency management file, may need to add a logging library (e.g., `logging` or a third-party library like `loguru`) as a dependency.\n",
      "\n",
      "Note that the `utils` directory is not directly impacted, but its child file `helpers.py` is. The `flask` dependency in `requirements.txt` is not directly related to logging functionality, so it's not impacted by this feature request.\n",
      "\n",
      "Edges:\n",
      "Based on the project context, the nodes impacted by the feature request to add logging functionality to all major modules in the project are:\n",
      "\n",
      "1. `app.py` (File) - Role: Main application file, needs logging functionality to log important events or errors.\n",
      "\n",
      "2. `helpers.py` (File) - Role: Utility file, needs logging functionality to log important events or errors related to helper functions.\n",
      "\n",
      "3. `requirements.txt` (File) - Role: Dependency management file, may need to add a logging library (e.g., `logging` or a third-party library like `loguru`) as a dependency.\n",
      "\n",
      "Note that the `utils` directory is not directly impacted, but its child file `helpers.py` is. The `flask` dependency in `requirements.txt` is not directly related to logging functionality, so it's not impacted by this feature request.\n",
      "\n",
      "Report:\n",
      "**Impact Report: Adding Logging Functionality to Major Modules**\n",
      "\n",
      "**Introduction**\n",
      "\n",
      "The feature request to add logging functionality to all major modules in the project aims to enhance the project's debugging and monitoring capabilities. This report assesses the impact of this feature request on the project, highlighting potential risks, suggestions for modular implementation, and expected changes.\n",
      "\n",
      "**Current Project Structure**\n",
      "\n",
      "The project, named `project_old`, consists of the following components:\n",
      "\n",
      "* `app.py`: The main application file\n",
      "* `requirements.txt`: A file listing Python dependencies, currently only including Flask\n",
      "* `utils` directory: Containing a `helpers.py` file with utility functions\n",
      "\n",
      "**Impact Analysis**\n",
      "\n",
      "**Risks:**\n",
      "\n",
      "1. **Code Complexity**: Introducing logging functionality may add complexity to the codebase, potentially leading to maintainability issues if not implemented carefully.\n",
      "2. **Performance Overhead**: Logging can introduce performance overhead, especially if not optimized for production environments.\n",
      "3. **Dependency Management**: Adding logging dependencies may lead to version conflicts or compatibility issues with existing dependencies.\n",
      "\n",
      "**Suggestions for Modular Implementation:**\n",
      "\n",
      "1. **Create a separate logging module**: Develop a dedicated logging module (e.g., `logger.py`) to encapsulate logging functionality, making it easier to maintain and update.\n",
      "2. **Use a logging framework**: Leverage a popular Python logging framework like Logbook, Loggly, or Python's built-in `logging` module to simplify logging implementation and configuration.\n",
      "3. **Implement logging at the module level**: Add logging functionality to each major module (e.g., `app.py`, `helpers.py`) to provide granular logging control.\n",
      "\n",
      "**Expected Changes:**\n",
      "\n",
      "1. **New dependencies**: The `requirements.txt` file will need to be updated to include logging-related dependencies.\n",
      "2. **Code modifications**: Existing code will need to be updated to incorporate logging statements, which may require changes to function signatures, error handling, and code organization.\n",
      "3. **Configuration files**: A logging configuration file (e.g., `logging.conf`) may be introduced to centralize logging settings and facilitate easy configuration.\n",
      "\n",
      "**Recommendations:**\n",
      "\n",
      "1. **Conduct a thorough code review**: Ensure that logging functionality is implemented consistently and efficiently across the project.\n",
      "2. **Test logging functionality**: Thoroughly test logging functionality to ensure it does not introduce performance issues or errors.\n",
      "3. **Document logging configuration**: Provide clear documentation on logging configuration and usage to facilitate easy maintenance and troubleshooting.\n",
      "\n",
      "By carefully considering the risks and implementing logging functionality in a modular and well-structured manner, the project can benefit from enhanced debugging and monitoring capabilities, ultimately leading to improved overall project quality and reliability.\n"
     ]
    }
   ],
   "source": [
    "print(analysis_results)"
   ]
  },
  {
   "cell_type": "code",
   "execution_count": 53,
   "metadata": {},
   "outputs": [
    {
     "data": {
      "text/plain": [
       "\"Analyze the project context and identify the nodes (files or components) impacted by the following feature request:\\n\\nFeature Request: Add logging functionality to all major modules in the project\\n\\nProject Context: requirements.txt: ['# Python dependencies\\\\n', 'flask']{'project_name': 'project_old', 'structure': [{'type': 'file', 'name': 'app.py', 'path': 'project_old/app.py'}, {'type': 'file', 'name': 'requirements.txt', 'path': 'project_old/requirements.txt'}, {'type': 'directory', 'name': 'utils', 'path': 'project_old/utils', 'children': [{'type': 'file', 'name': 'helpers.py', 'path': 'project_old/utils/helpers.py'}]}]}\\n\\nProvide a list of impacted nodes and their roles in the project.\""
      ]
     },
     "execution_count": 53,
     "metadata": {},
     "output_type": "execute_result"
    }
   ],
   "source": [
    "feature_nodes"
   ]
  },
  {
   "cell_type": "code",
   "execution_count": 78,
   "metadata": {},
   "outputs": [
    {
     "name": "stdout",
     "output_type": "stream",
     "text": [
      "Using the results of the feature analysis, identify the specific files to be handled for the following feature request:\n",
      "\n",
      "Feature Request: Add logging functionality to all major modules in the project\n",
      "\n",
      "Feature Analysis Results:\n",
      "Nodes:\n",
      "Based on the project context, the nodes impacted by the feature request to add logging functionality to all major modules in the project are:\n",
      "\n",
      "1. `app.py` (File) - Role: Main application file, needs logging functionality to log important events or errors.\n",
      "\n",
      "2. `helpers.py` (File) - Role: Utility file, needs logging functionality to log important events or errors related to helper functions.\n",
      "\n",
      "3. `requirements.txt` (File) - Role: Dependency management file, may need to add a logging library (e.g., `logging` or a third-party library like `loguru`) as a dependency.\n",
      "\n",
      "Note that the `utils` directory is not directly impacted, but its child file `helpers.py` is. The `flask` dependency in `requirements.txt` is not directly related to logging functionality, so it's not impacted by this feature request.\n",
      "\n",
      "Edges:\n",
      "Based on the project context, the impacted dependencies for the feature request \"Add logging functionality to all major modules in the project\" are:\n",
      "\n",
      "1. `app.py`: This file will likely require logging functionality to log important events or errors. The significance of this impact is HIGH, as logging is a critical aspect of monitoring and debugging the application.\n",
      "\n",
      "2. `helpers.py` (inside `utils` directory): This file may also require logging functionality, depending on the nature of the helper functions it provides. The significance of this impact is MEDIUM to HIGH, as logging can help identify issues with these helper functions.\n",
      "\n",
      "3. `requirements.txt`: This file may need to be updated to include a logging library (e.g., `logging` or a third-party library like `loguru`) as a dependency. The significance of this impact is MEDIUM, as it's a necessary step to enable logging functionality in the project.\n",
      "\n",
      "No impact is expected on the `flask` dependency, as it's a web framework and not directly related to logging functionality.\n",
      "\n",
      "Note that the significance of the impact may vary depending on the specific requirements and implementation details of the logging functionality.\n",
      "\n",
      "Report:\n",
      "**Impact Report: Adding Logging Functionality to Major Modules**\n",
      "\n",
      "**Introduction**\n",
      "\n",
      "The feature request to add logging functionality to all major modules in the project aims to enhance the project's debugging and monitoring capabilities. This report assesses the impact of this feature request on the project, highlighting potential risks, suggestions for modular implementation, and expected changes.\n",
      "\n",
      "**Current Project Structure**\n",
      "\n",
      "The project, named `project_old`, consists of the following components:\n",
      "\n",
      "* `app.py`: The main application file\n",
      "* `requirements.txt`: A file listing Python dependencies, currently only including Flask\n",
      "* `utils` directory: Containing a `helpers.py` file with utility functions\n",
      "\n",
      "**Impact Analysis**\n",
      "\n",
      "**Risks:**\n",
      "\n",
      "1. **Code Complexity**: Introducing logging functionality may add complexity to the codebase, potentially leading to maintainability issues if not implemented carefully.\n",
      "2. **Performance Overhead**: Logging can introduce performance overhead, especially if not optimized for production environments.\n",
      "3. **Dependency Management**: Adding logging dependencies may lead to version conflicts or compatibility issues with existing dependencies.\n",
      "\n",
      "**Suggestions for Modular Implementation:**\n",
      "\n",
      "1. **Create a separate logging module**: Develop a dedicated logging module (e.g., `logger.py`) to encapsulate logging functionality, making it easier to maintain and update.\n",
      "2. **Use a logging framework**: Leverage a popular Python logging framework like Logbook, Loggly, or Python's built-in `logging` module to simplify logging implementation and configuration.\n",
      "3. **Implement logging at the module level**: Add logging functionality to each major module (e.g., `app.py`, `helpers.py`) to provide granular logging control.\n",
      "\n",
      "**Expected Changes:**\n",
      "\n",
      "1. **New dependencies**: The `requirements.txt` file will need to be updated to include logging-related dependencies.\n",
      "2. **Code modifications**: Existing code will need to be updated to incorporate logging statements, which may require changes to function signatures, error handling, and code organization.\n",
      "3. **Configuration files**: A logging configuration file (e.g., `logging.conf`) may be introduced to centralize logging settings and facilitate easy configuration.\n",
      "\n",
      "**Recommendations:**\n",
      "\n",
      "1. **Conduct a thorough code review**: Ensure that logging functionality is implemented consistently and efficiently across the project.\n",
      "2. **Test logging functionality**: Thoroughly test logging functionality to ensure it does not introduce performance issues or errors.\n",
      "3. **Document logging configuration**: Provide clear documentation on logging configuration and usage to facilitate easy maintenance and troubleshooting.\n",
      "\n",
      "By carefully considering the risks and implementing logging functionality in a modular and well-structured manner, the project can benefit from enhanced debugging and monitoring capabilities, ultimately leading to improved overall project quality and reliability.\n",
      "\n",
      "For each impacted file:\n",
      "- Provide the file path.\n",
      "- Specify the task to be performed on the file (e.g., modify, add functionality).\n",
      "\n",
      "For any new file required:\n",
      "- Specify the file path.\n",
      "- Provide a brief description of its purpose.\n",
      "- Suggest the initial content or structure the file should include.\n",
      "\n",
      "Ensure the output clearly separates existing files and new files to be created.\n",
      "Debug: Received prompt: Using the results of the feature analysis, identify the specific files to be handled for the following feature request:\n",
      "\n",
      "Feature Request: Add logging functionality to all major modules in the project\n",
      "\n",
      "Feature Analysis Results:\n",
      "Nodes:\n",
      "Based on the project context, the nodes impacted by the feature request to add logging functionality to all major modules in the project are:\n",
      "\n",
      "1. `app.py` (File) - Role: Main application file, needs logging functionality to log important events or errors.\n",
      "\n",
      "2. `helpers.py` (File) - Role: Utility file, needs logging functionality to log important events or errors related to helper functions.\n",
      "\n",
      "3. `requirements.txt` (File) - Role: Dependency management file, may need to add a logging library (e.g., `logging` or a third-party library like `loguru`) as a dependency.\n",
      "\n",
      "Note that the `utils` directory is not directly impacted, but its child file `helpers.py` is. The `flask` dependency in `requirements.txt` is not directly related to logging functionality, so it's not impacted by this feature request.\n",
      "\n",
      "Edges:\n",
      "Based on the project context, the impacted dependencies for the feature request \"Add logging functionality to all major modules in the project\" are:\n",
      "\n",
      "1. `app.py`: This file will likely require logging functionality to log important events or errors. The significance of this impact is HIGH, as logging is a critical aspect of monitoring and debugging the application.\n",
      "\n",
      "2. `helpers.py` (inside `utils` directory): This file may also require logging functionality, depending on the nature of the helper functions it provides. The significance of this impact is MEDIUM to HIGH, as logging can help identify issues with these helper functions.\n",
      "\n",
      "3. `requirements.txt`: This file may need to be updated to include a logging library (e.g., `logging` or a third-party library like `loguru`) as a dependency. The significance of this impact is MEDIUM, as it's a necessary step to enable logging functionality in the project.\n",
      "\n",
      "No impact is expected on the `flask` dependency, as it's a web framework and not directly related to logging functionality.\n",
      "\n",
      "Note that the significance of the impact may vary depending on the specific requirements and implementation details of the logging functionality.\n",
      "\n",
      "Report:\n",
      "**Impact Report: Adding Logging Functionality to Major Modules**\n",
      "\n",
      "**Introduction**\n",
      "\n",
      "The feature request to add logging functionality to all major modules in the project aims to enhance the project's debugging and monitoring capabilities. This report assesses the impact of this feature request on the project, highlighting potential risks, suggestions for modular implementation, and expected changes.\n",
      "\n",
      "**Current Project Structure**\n",
      "\n",
      "The project, named `project_old`, consists of the following components:\n",
      "\n",
      "* `app.py`: The main application file\n",
      "* `requirements.txt`: A file listing Python dependencies, currently only including Flask\n",
      "* `utils` directory: Containing a `helpers.py` file with utility functions\n",
      "\n",
      "**Impact Analysis**\n",
      "\n",
      "**Risks:**\n",
      "\n",
      "1. **Code Complexity**: Introducing logging functionality may add complexity to the codebase, potentially leading to maintainability issues if not implemented carefully.\n",
      "2. **Performance Overhead**: Logging can introduce performance overhead, especially if not optimized for production environments.\n",
      "3. **Dependency Management**: Adding logging dependencies may lead to version conflicts or compatibility issues with existing dependencies.\n",
      "\n",
      "**Suggestions for Modular Implementation:**\n",
      "\n",
      "1. **Create a separate logging module**: Develop a dedicated logging module (e.g., `logger.py`) to encapsulate logging functionality, making it easier to maintain and update.\n",
      "2. **Use a logging framework**: Leverage a popular Python logging framework like Logbook, Loggly, or Python's built-in `logging` module to simplify logging implementation and configuration.\n",
      "3. **Implement logging at the module level**: Add logging functionality to each major module (e.g., `app.py`, `helpers.py`) to provide granular logging control.\n",
      "\n",
      "**Expected Changes:**\n",
      "\n",
      "1. **New dependencies**: The `requirements.txt` file will need to be updated to include logging-related dependencies.\n",
      "2. **Code modifications**: Existing code will need to be updated to incorporate logging statements, which may require changes to function signatures, error handling, and code organization.\n",
      "3. **Configuration files**: A logging configuration file (e.g., `logging.conf`) may be introduced to centralize logging settings and facilitate easy configuration.\n",
      "\n",
      "**Recommendations:**\n",
      "\n",
      "1. **Conduct a thorough code review**: Ensure that logging functionality is implemented consistently and efficiently across the project.\n",
      "2. **Test logging functionality**: Thoroughly test logging functionality to ensure it does not introduce performance issues or errors.\n",
      "3. **Document logging configuration**: Provide clear documentation on logging configuration and usage to facilitate easy maintenance and troubleshooting.\n",
      "\n",
      "By carefully considering the risks and implementing logging functionality in a modular and well-structured manner, the project can benefit from enhanced debugging and monitoring capabilities, ultimately leading to improved overall project quality and reliability.\n",
      "\n",
      "For each impacted file:\n",
      "- Provide the file path.\n",
      "- Specify the task to be performed on the file (e.g., modify, add functionality).\n",
      "\n",
      "For any new file required:\n",
      "- Specify the file path.\n",
      "- Provide a brief description of its purpose.\n",
      "- Suggest the initial content or structure the file should include.\n",
      "\n",
      "Ensure the output clearly separates existing files and new files to be created.\n",
      "Debug: Vector DB provided: True\n",
      "Debug: Formatted prompt:\n",
      "<|begin_of_text|><|start_header_id|>system<|end_header_id|>\n",
      "None<|eot_id|><|start_header_id|>user<|end_header_id|>\n",
      "Using the results of the feature analysis, identify the specific files to be handled for the following feature request:\n",
      "\n",
      "Feature Request: Add logging functionality to all major modules in the project\n",
      "\n",
      "Feature Analysis Results:\n",
      "Nodes:\n",
      "Based on the project context, the nodes impacted by the feature request to add logging functionality to all major modules in the project are:\n",
      "\n",
      "1. `app.py` (File) - Role: Main application file, needs logging functionality to log important events or errors.\n",
      "\n",
      "2. `helpers.py` (File) - Role: Utility file, needs logging functionality to log important events or errors related to helper functions.\n",
      "\n",
      "3. `requirements.txt` (File) - Role: Dependency management file, may need to add a logging library (e.g., `logging` or a third-party library like `loguru`) as a dependency.\n",
      "\n",
      "Note that the `utils` directory is not directly impacted, but its child file `helpers.py` is. The `flask` dependency in `requirements.txt` is not directly related to logging functionality, so it's not impacted by this feature request.\n",
      "\n",
      "Edges:\n",
      "Based on the project context, the impacted dependencies for the feature request \"Add logging functionality to all major modules in the project\" are:\n",
      "\n",
      "1. `app.py`: This file will likely require logging functionality to log important events or errors. The significance of this impact is HIGH, as logging is a critical aspect of monitoring and debugging the application.\n",
      "\n",
      "2. `helpers.py` (inside `utils` directory): This file may also require logging functionality, depending on the nature of the helper functions it provides. The significance of this impact is MEDIUM to HIGH, as logging can help identify issues with these helper functions.\n",
      "\n",
      "3. `requirements.txt`: This file may need to be updated to include a logging library (e.g., `logging` or a third-party library like `loguru`) as a dependency. The significance of this impact is MEDIUM, as it's a necessary step to enable logging functionality in the project.\n",
      "\n",
      "No impact is expected on the `flask` dependency, as it's a web framework and not directly related to logging functionality.\n",
      "\n",
      "Note that the significance of the impact may vary depending on the specific requirements and implementation details of the logging functionality.\n",
      "\n",
      "Report:\n",
      "**Impact Report: Adding Logging Functionality to Major Modules**\n",
      "\n",
      "**Introduction**\n",
      "\n",
      "The feature request to add logging functionality to all major modules in the project aims to enhance the project's debugging and monitoring capabilities. This report assesses the impact of this feature request on the project, highlighting potential risks, suggestions for modular implementation, and expected changes.\n",
      "\n",
      "**Current Project Structure**\n",
      "\n",
      "The project, named `project_old`, consists of the following components:\n",
      "\n",
      "* `app.py`: The main application file\n",
      "* `requirements.txt`: A file listing Python dependencies, currently only including Flask\n",
      "* `utils` directory: Containing a `helpers.py` file with utility functions\n",
      "\n",
      "**Impact Analysis**\n",
      "\n",
      "**Risks:**\n",
      "\n",
      "1. **Code Complexity**: Introducing logging functionality may add complexity to the codebase, potentially leading to maintainability issues if not implemented carefully.\n",
      "2. **Performance Overhead**: Logging can introduce performance overhead, especially if not optimized for production environments.\n",
      "3. **Dependency Management**: Adding logging dependencies may lead to version conflicts or compatibility issues with existing dependencies.\n",
      "\n",
      "**Suggestions for Modular Implementation:**\n",
      "\n",
      "1. **Create a separate logging module**: Develop a dedicated logging module (e.g., `logger.py`) to encapsulate logging functionality, making it easier to maintain and update.\n",
      "2. **Use a logging framework**: Leverage a popular Python logging framework like Logbook, Loggly, or Python's built-in `logging` module to simplify logging implementation and configuration.\n",
      "3. **Implement logging at the module level**: Add logging functionality to each major module (e.g., `app.py`, `helpers.py`) to provide granular logging control.\n",
      "\n",
      "**Expected Changes:**\n",
      "\n",
      "1. **New dependencies**: The `requirements.txt` file will need to be updated to include logging-related dependencies.\n",
      "2. **Code modifications**: Existing code will need to be updated to incorporate logging statements, which may require changes to function signatures, error handling, and code organization.\n",
      "3. **Configuration files**: A logging configuration file (e.g., `logging.conf`) may be introduced to centralize logging settings and facilitate easy configuration.\n",
      "\n",
      "**Recommendations:**\n",
      "\n",
      "1. **Conduct a thorough code review**: Ensure that logging functionality is implemented consistently and efficiently across the project.\n",
      "2. **Test logging functionality**: Thoroughly test logging functionality to ensure it does not introduce performance issues or errors.\n",
      "3. **Document logging configuration**: Provide clear documentation on logging configuration and usage to facilitate easy maintenance and troubleshooting.\n",
      "\n",
      "By carefully considering the risks and implementing logging functionality in a modular and well-structured manner, the project can benefit from enhanced debugging and monitoring capabilities, ultimately leading to improved overall project quality and reliability.\n",
      "\n",
      "For each impacted file:\n",
      "- Provide the file path.\n",
      "- Specify the task to be performed on the file (e.g., modify, add functionality).\n",
      "\n",
      "For any new file required:\n",
      "- Specify the file path.\n",
      "- Provide a brief description of its purpose.\n",
      "- Suggest the initial content or structure the file should include.\n",
      "\n",
      "Ensure the output clearly separates existing files and new files to be created.<|eot_id|><|start_header_id|>assistant<|end_header_id|>\n",
      "\n"
     ]
    },
    {
     "name": "stderr",
     "output_type": "stream",
     "text": [
      "/mnt/c/Blog/Building-LLM-from-Scratch-in-Python/.venv/lib/python3.10/site-packages/ibm_watsonx_ai/foundation_models/utils/utils.py:415: LifecycleWarning: Model 'meta-llama/llama-3-70b-instruct' is in deprecated state from 2024-12-02 until 2025-02-03. IDs of alternative models: None. Further details: https://dataplatform.cloud.ibm.com/docs/content/wsj/analyze-data/fm-model-lifecycle.html?context=wx&audience=wdp\n",
      "  warnings.warn(\n"
     ]
    },
    {
     "name": "stdout",
     "output_type": "stream",
     "text": [
      "Debug: Querying using vector database...\n",
      "Debug: Raw response from vector DB: {'query': '<|begin_of_text|><|start_header_id|>system<|end_header_id|>\\nNone<|eot_id|><|start_header_id|>user<|end_header_id|>\\nUsing the results of the feature analysis, identify the specific files to be handled for the following feature request:\\n\\nFeature Request: Add logging functionality to all major modules in the project\\n\\nFeature Analysis Results:\\nNodes:\\nBased on the project context, the nodes impacted by the feature request to add logging functionality to all major modules in the project are:\\n\\n1. `app.py` (File) - Role: Main application file, needs logging functionality to log important events or errors.\\n\\n2. `helpers.py` (File) - Role: Utility file, needs logging functionality to log important events or errors related to helper functions.\\n\\n3. `requirements.txt` (File) - Role: Dependency management file, may need to add a logging library (e.g., `logging` or a third-party library like `loguru`) as a dependency.\\n\\nNote that the `utils` directory is not directly impacted, but its child file `helpers.py` is. The `flask` dependency in `requirements.txt` is not directly related to logging functionality, so it\\'s not impacted by this feature request.\\n\\nEdges:\\nBased on the project context, the impacted dependencies for the feature request \"Add logging functionality to all major modules in the project\" are:\\n\\n1. `app.py`: This file will likely require logging functionality to log important events or errors. The significance of this impact is HIGH, as logging is a critical aspect of monitoring and debugging the application.\\n\\n2. `helpers.py` (inside `utils` directory): This file may also require logging functionality, depending on the nature of the helper functions it provides. The significance of this impact is MEDIUM to HIGH, as logging can help identify issues with these helper functions.\\n\\n3. `requirements.txt`: This file may need to be updated to include a logging library (e.g., `logging` or a third-party library like `loguru`) as a dependency. The significance of this impact is MEDIUM, as it\\'s a necessary step to enable logging functionality in the project.\\n\\nNo impact is expected on the `flask` dependency, as it\\'s a web framework and not directly related to logging functionality.\\n\\nNote that the significance of the impact may vary depending on the specific requirements and implementation details of the logging functionality.\\n\\nReport:\\n**Impact Report: Adding Logging Functionality to Major Modules**\\n\\n**Introduction**\\n\\nThe feature request to add logging functionality to all major modules in the project aims to enhance the project\\'s debugging and monitoring capabilities. This report assesses the impact of this feature request on the project, highlighting potential risks, suggestions for modular implementation, and expected changes.\\n\\n**Current Project Structure**\\n\\nThe project, named `project_old`, consists of the following components:\\n\\n* `app.py`: The main application file\\n* `requirements.txt`: A file listing Python dependencies, currently only including Flask\\n* `utils` directory: Containing a `helpers.py` file with utility functions\\n\\n**Impact Analysis**\\n\\n**Risks:**\\n\\n1. **Code Complexity**: Introducing logging functionality may add complexity to the codebase, potentially leading to maintainability issues if not implemented carefully.\\n2. **Performance Overhead**: Logging can introduce performance overhead, especially if not optimized for production environments.\\n3. **Dependency Management**: Adding logging dependencies may lead to version conflicts or compatibility issues with existing dependencies.\\n\\n**Suggestions for Modular Implementation:**\\n\\n1. **Create a separate logging module**: Develop a dedicated logging module (e.g., `logger.py`) to encapsulate logging functionality, making it easier to maintain and update.\\n2. **Use a logging framework**: Leverage a popular Python logging framework like Logbook, Loggly, or Python\\'s built-in `logging` module to simplify logging implementation and configuration.\\n3. **Implement logging at the module level**: Add logging functionality to each major module (e.g., `app.py`, `helpers.py`) to provide granular logging control.\\n\\n**Expected Changes:**\\n\\n1. **New dependencies**: The `requirements.txt` file will need to be updated to include logging-related dependencies.\\n2. **Code modifications**: Existing code will need to be updated to incorporate logging statements, which may require changes to function signatures, error handling, and code organization.\\n3. **Configuration files**: A logging configuration file (e.g., `logging.conf`) may be introduced to centralize logging settings and facilitate easy configuration.\\n\\n**Recommendations:**\\n\\n1. **Conduct a thorough code review**: Ensure that logging functionality is implemented consistently and efficiently across the project.\\n2. **Test logging functionality**: Thoroughly test logging functionality to ensure it does not introduce performance issues or errors.\\n3. **Document logging configuration**: Provide clear documentation on logging configuration and usage to facilitate easy maintenance and troubleshooting.\\n\\nBy carefully considering the risks and implementing logging functionality in a modular and well-structured manner, the project can benefit from enhanced debugging and monitoring capabilities, ultimately leading to improved overall project quality and reliability.\\n\\nFor each impacted file:\\n- Provide the file path.\\n- Specify the task to be performed on the file (e.g., modify, add functionality).\\n\\nFor any new file required:\\n- Specify the file path.\\n- Provide a brief description of its purpose.\\n- Suggest the initial content or structure the file should include.\\n\\nEnsure the output clearly separates existing files and new files to be created.<|eot_id|><|start_header_id|>assistant<|end_header_id|>\\n', 'result': \" \\n\\n**Impacted Files:**\\n\\n1. **Path: project_old/app.py**\\nTask: Modify the file to add logging functionality to log important events or errors.\\n\\n2. **Path: project_old/utils/helpers.py**\\nTask: Modify the file to add logging functionality to log important events or errors related to helper functions.\\n\\n3. **Path: project_old/requirements.txt**\\nTask: Modify the file to add a logging library (e.g., `logging` or a third-party library like `loguru`) as a dependency.\\n\\n**New Files:**\\n\\n1. **Path: project_old/logger.py**\\nPurpose: This file will encapsulate logging functionality, making it easier to maintain and update.\\nInitial Content: The file should include a basic logging configuration, logging functions, and possibly a logging class.\\n\\n2. **Path: project_old/logging.conf**\\nPurpose: This file will centralize logging settings and facilitate easy configuration.\\nInitial Content: The file should include basic logging settings, such as log levels, file paths, and formatting.\\n\\nNote: The exact content and structure of the new files will depend on the specific logging framework chosen and the project's requirements.\"}\n",
      "Debug: Extracted result: **Impacted Files:**\n",
      "\n",
      "1. **Path: project_old/app.py**\n",
      "Task: Modify the file to add logging functionality to log important events or errors.\n",
      "\n",
      "2. **Path: project_old/utils/helpers.py**\n",
      "Task: Modify the file to add logging functionality to log important events or errors related to helper functions.\n",
      "\n",
      "3. **Path: project_old/requirements.txt**\n",
      "Task: Modify the file to add a logging library (e.g., `logging` or a third-party library like `loguru`) as a dependency.\n",
      "\n",
      "**New Files:**\n",
      "\n",
      "1. **Path: project_old/logger.py**\n",
      "Purpose: This file will encapsulate logging functionality, making it easier to maintain and update.\n",
      "Initial Content: The file should include a basic logging configuration, logging functions, and possibly a logging class.\n",
      "\n",
      "2. **Path: project_old/logging.conf**\n",
      "Purpose: This file will centralize logging settings and facilitate easy configuration.\n",
      "Initial Content: The file should include basic logging settings, such as log levels, file paths, and formatting.\n",
      "\n",
      "Note: The exact content and structure of the new files will depend on the specific logging framework chosen and the project's requirements.\n"
     ]
    }
   ],
   "source": [
    "# Step 1.5: Preprocessing\n",
    "logger.info(\"Preprocessing results of feature analysis\")\n",
    "preprocessing_template = get_prompt_template(\"preprocessing_step\")\n",
    "preprocessing_template\n",
    "# Include the results of feature analysis (nodes and edges)\n",
    "preprocessing_prompt = preprocessing_template.format(\n",
    "    feature_request=user_request,\n",
    "    analysis_results=f\"Nodes:\\n{feature_nodes_response_db}\\n\\nEdges:\\n{feature_edges_response_db}\\n\\nReport:\\n{impact_report_response_db}\"\n",
    ")\n",
    "print(preprocessing_prompt)\n",
    "preprocessing_response_db = query_llm(user_input=preprocessing_prompt,vector_db=vector_db)\n",
    "#preprocessing_response_db"
   ]
  },
  {
   "cell_type": "code",
   "execution_count": 55,
   "metadata": {},
   "outputs": [],
   "source": [
    "#import importlib\n",
    "#import src.models.prompt_templates\n",
    "\n",
    "#importlib.reload(src.models.prompt_templates)"
   ]
  },
  {
   "cell_type": "code",
   "execution_count": 70,
   "metadata": {},
   "outputs": [
    {
     "data": {
      "text/plain": [
       "'Using the results of the feature analysis, identify the specific files to be handled for the following feature request:\\n\\nFeature Request: {feature_request}\\n\\nFeature Analysis Results:\\n{analysis_results}\\n\\nFor each impacted file:\\n- Provide the file path.\\n- Specify the task to be performed on the file (e.g., modify, add functionality).\\n\\nFor any new file required:\\n- Specify the file path.\\n- Provide a brief description of its purpose.\\n- Suggest the initial content or structure the file should include.\\n\\nEnsure the output clearly separates existing files and new files to be created. Output this information as a JSON file with the following format:\\n\\n```json\\n{\\n  \"feature_request\": \"Describe the feature concisely\",\\n  \"analysis_results\": \"Provide context and analysis of the current system\",\\n  \"existing_files\": [\\n    {\\n      \"file_path\": \"path/to/file.extension\",\\n      \"task\": \"Modification needed in this file\"\\n    }\\n  ],\\n  \"new_files\": [\\n    {\\n      \"file_path\": \"path/to/new/file.extension\",\\n      \"purpose\": \"Purpose of the new file\" \\n    }\\n  ]\\n}\\n```'"
      ]
     },
     "execution_count": 70,
     "metadata": {},
     "output_type": "execute_result"
    }
   ],
   "source": [
    "# Step 1.6: Preprocessing request\n",
    "logger.info(\"Preprocessing results request of feature analysis\")\n",
    "preprocessing_template = get_prompt_template(\"preprocessing_request\")\n",
    "preprocessing_template"
   ]
  },
  {
   "cell_type": "code",
   "execution_count": 64,
   "metadata": {},
   "outputs": [
    {
     "data": {
      "text/plain": [
       "'Using the results of the feature analysis, identify the specific files to be handled for the following feature request:\\n\\nFeature Request: {feature_request}\\n\\nFeature Analysis Results:\\n{analysis_results}\\n\\nFor each impacted file:\\n- Provide the file path.\\n- Specify the task to be performed on the file (e.g., modify, add functionality).\\n\\nFor any new file required:\\n- Specify the file path.\\n- Provide a brief description of its purpose.\\n- Suggest the initial content or structure the file should include.\\n\\nEnsure the output clearly separates existing files and new files to be created. Output this information as a JSON file with the following format:\\n\\n```json\\n{\\n  \"feature_request\": \"Describe the feature concisely\",\\n  \"analysis_results\": \"Provide context and analysis of the current system\",\\n  \"existing_files\": [\\n    {\\n      \"file_path\": \"path/to/file.extension\",\\n      \"task\": \"Modification needed in this file\"\\n    }\\n  ],\\n  \"new_files\": [\\n    {\\n      \"file_path\": \"path/to/new/file.extension\",\\n      \"purpose\": \"Purpose of the new file\" \\n    }\\n  ]\\n}\\n```'"
      ]
     },
     "execution_count": 64,
     "metadata": {},
     "output_type": "execute_result"
    }
   ],
   "source": [
    "preprocessing_template"
   ]
  },
  {
   "cell_type": "code",
   "execution_count": 72,
   "metadata": {},
   "outputs": [
    {
     "data": {
      "text/plain": [
       "'Add logging functionality to all major modules in the project'"
      ]
     },
     "execution_count": 72,
     "metadata": {},
     "output_type": "execute_result"
    }
   ],
   "source": [
    "feature_request"
   ]
  },
  {
   "cell_type": "code",
   "execution_count": 73,
   "metadata": {},
   "outputs": [
    {
     "data": {
      "text/plain": [
       "'Add logging functionality to all major modules in the project'"
      ]
     },
     "execution_count": 73,
     "metadata": {},
     "output_type": "execute_result"
    }
   ],
   "source": [
    "user_request "
   ]
  },
  {
   "cell_type": "code",
   "execution_count": 74,
   "metadata": {},
   "outputs": [
    {
     "data": {
      "text/plain": [
       "\"Based on the project context, the nodes impacted by the feature request to add logging functionality to all major modules in the project are:\\n\\n1. `app.py` (File) - Role: Main application file, needs logging functionality to log important events or errors.\\n\\n2. `helpers.py` (File) - Role: Utility file, needs logging functionality to log important events or errors related to helper functions.\\n\\n3. `requirements.txt` (File) - Role: Dependency management file, may need to add a logging library (e.g., `logging` or a third-party library like `loguru`) as a dependency.\\n\\nNote that the `utils` directory is not directly impacted, but its child file `helpers.py` is. The `flask` dependency in `requirements.txt` is not directly related to logging functionality, so it's not impacted by this feature request.\""
      ]
     },
     "execution_count": 74,
     "metadata": {},
     "output_type": "execute_result"
    }
   ],
   "source": [
    "feature_nodes_response_db "
   ]
  },
  {
   "cell_type": "code",
   "execution_count": 75,
   "metadata": {},
   "outputs": [
    {
     "data": {
      "text/plain": [
       "\"**Impact Report: Adding Logging Functionality to Major Modules**\\n\\n**Introduction**\\n\\nThe feature request to add logging functionality to all major modules in the project aims to enhance the project's debugging and monitoring capabilities. This report assesses the impact of this feature request on the project, highlighting potential risks, suggestions for modular implementation, and expected changes.\\n\\n**Current Project Structure**\\n\\nThe project, named `project_old`, consists of the following components:\\n\\n* `app.py`: The main application file\\n* `requirements.txt`: A file listing Python dependencies, currently only including Flask\\n* `utils` directory: Containing a `helpers.py` file with utility functions\\n\\n**Impact Analysis**\\n\\n**Risks:**\\n\\n1. **Code Complexity**: Introducing logging functionality may add complexity to the codebase, potentially leading to maintainability issues if not implemented carefully.\\n2. **Performance Overhead**: Logging can introduce performance overhead, especially if not optimized for production environments.\\n3. **Dependency Management**: Adding logging dependencies may lead to version conflicts or compatibility issues with existing dependencies.\\n\\n**Suggestions for Modular Implementation:**\\n\\n1. **Create a separate logging module**: Develop a dedicated logging module (e.g., `logger.py`) to encapsulate logging functionality, making it easier to maintain and update.\\n2. **Use a logging framework**: Leverage a popular Python logging framework like Logbook, Loggly, or Python's built-in `logging` module to simplify logging implementation and configuration.\\n3. **Implement logging at the module level**: Add logging functionality to each major module (e.g., `app.py`, `helpers.py`) to provide granular logging control.\\n\\n**Expected Changes:**\\n\\n1. **New dependencies**: The `requirements.txt` file will need to be updated to include logging-related dependencies.\\n2. **Code modifications**: Existing code will need to be updated to incorporate logging statements, which may require changes to function signatures, error handling, and code organization.\\n3. **Configuration files**: A logging configuration file (e.g., `logging.conf`) may be introduced to centralize logging settings and facilitate easy configuration.\\n\\n**Recommendations:**\\n\\n1. **Conduct a thorough code review**: Ensure that logging functionality is implemented consistently and efficiently across the project.\\n2. **Test logging functionality**: Thoroughly test logging functionality to ensure it does not introduce performance issues or errors.\\n3. **Document logging configuration**: Provide clear documentation on logging configuration and usage to facilitate easy maintenance and troubleshooting.\\n\\nBy carefully considering the risks and implementing logging functionality in a modular and well-structured manner, the project can benefit from enhanced debugging and monitoring capabilities, ultimately leading to improved overall project quality and reliability.\""
      ]
     },
     "execution_count": 75,
     "metadata": {},
     "output_type": "execute_result"
    }
   ],
   "source": [
    "impact_report_response_db "
   ]
  },
  {
   "cell_type": "code",
   "execution_count": 89,
   "metadata": {},
   "outputs": [
    {
     "name": "stderr",
     "output_type": "stream",
     "text": [
      "INFO:__main__:Preprocessing results request of feature analysis\n"
     ]
    },
    {
     "name": "stdout",
     "output_type": "stream",
     "text": [
      "Using the results of the feature analysis, identify the specific files to be handled for the following feature request:\n",
      "\n",
      "Feature Request: Add logging functionality to all major modules in the project\n",
      "\n",
      "Feature Analysis Results:\n",
      "Nodes:\n",
      "Based on the project context, the nodes impacted by the feature request to add logging functionality to all major modules in the project are:\n",
      "\n",
      "1. `app.py` (File) - Role: Main application file, needs logging functionality to log important events or errors.\n",
      "\n",
      "2. `helpers.py` (File) - Role: Utility file, needs logging functionality to log important events or errors related to helper functions.\n",
      "\n",
      "3. `requirements.txt` (File) - Role: Dependency management file, may need to add a logging library (e.g., `logging` or a third-party library like `loguru`) as a dependency.\n",
      "\n",
      "Note that the `utils` directory is not directly impacted, but its child file `helpers.py` is. The `flask` dependency in `requirements.txt` is not directly related to logging functionality, so it's not impacted by this feature request.\n",
      "\n",
      "Edges:\n",
      "Based on the project context, the impacted dependencies for the feature request \"Add logging functionality to all major modules in the project\" are:\n",
      "\n",
      "1. `app.py`: This file will likely require logging functionality to log important events or errors. The significance of this impact is HIGH, as logging is a critical aspect of monitoring and debugging the application.\n",
      "\n",
      "2. `helpers.py` (inside `utils` directory): This file may also require logging functionality, depending on the nature of the helper functions it provides. The significance of this impact is MEDIUM to HIGH, as logging can help identify issues with these helper functions.\n",
      "\n",
      "3. `requirements.txt`: This file may need to be updated to include a logging library (e.g., `logging` or a third-party library like `loguru`) as a dependency. The significance of this impact is MEDIUM, as it's a necessary step to enable logging functionality in the project.\n",
      "\n",
      "No impact is expected on the `flask` dependency, as it's a web framework and not directly related to logging functionality.\n",
      "\n",
      "Note that the significance of the impact may vary depending on the specific requirements and implementation details of the logging functionality.\n",
      "\n",
      "Report:\n",
      "Impact report content describing potential changes, risks, and implementation strategies.\n",
      "\n",
      "For each impacted file:\n",
      "- Provide the file path.\n",
      "- Specify the task to be performed on the file (e.g., modify, add functionality).\n",
      "\n",
      "For any new file required:\n",
      "- Specify the file path.\n",
      "- Provide a brief description of its purpose.\n",
      "- Suggest the initial content or structure the file should include.\n",
      "\n",
      "Ensure the output clearly separates existing files and new files to be created. Output this information as a JSON file with the following format:\n",
      "\n",
      "```json\n",
      "{\n",
      "  \"feature_request\": \"Add logging functionality to all major modules in the project\",\n",
      "  \"analysis_results\": \" \",\n",
      "  \"existing_files\": [\n",
      "    {\n",
      "      \"file_path\": \"path/to/file.extension\",\n",
      "      \"task\": \"Modification needed in this file\"\n",
      "    }\n",
      "  ],\n",
      "  \"new_files\": [\n",
      "    {\n",
      "      \"file_path\": \"path/to/new/file.extension\",\n",
      "      \"purpose\": \"Purpose of the new file\" \n",
      "    }\n",
      "  ]\n",
      "}\n",
      "```\n"
     ]
    }
   ],
   "source": [
    "import logging\n",
    "# Initialize the logger\n",
    "logger = logging.getLogger(__name__)\n",
    "logging.basicConfig(level=logging.INFO)\n",
    "def get_prompt_request(stage: str):\n",
    "    \"\"\"\n",
    "    Returns a template for prompts based on the stage of the FACTACON algorithm.\n",
    "\n",
    "    Args:\n",
    "        stage (str): The stage of the algorithm.\n",
    "\n",
    "    Returns:\n",
    "        str: Prompt template for the specified stage.\n",
    "    \"\"\"\n",
    "    prompts = {\n",
    "        \"preprocessing_request\": (\n",
    "            \"Using the results of the feature analysis, identify the specific files to be handled for the following feature request:\\n\\n\"\n",
    "            \"Feature Request: {feature_request}\\n\\n\"\n",
    "            \"Feature Analysis Results:\\n{analysis_results}\\n\\n\"\n",
    "            \"For each impacted file:\\n\"\n",
    "            \"- Provide the file path.\\n\"\n",
    "            \"- Specify the task to be performed on the file (e.g., modify, add functionality).\\n\\n\"\n",
    "            \"For any new file required:\\n\"\n",
    "            \"- Specify the file path.\\n\"\n",
    "            \"- Provide a brief description of its purpose.\\n\"\n",
    "            \"- Suggest the initial content or structure the file should include.\\n\\n\"\n",
    "            \"Ensure the output clearly separates existing files and new files to be created. \"\n",
    "            \"Output this information as a JSON file with the following format:\\n\\n\"\n",
    "            \"```json\\n\"\n",
    "            \"{{\\n\"\n",
    "            \"  \\\"feature_request\\\": \\\"{feature_request}\\\",\\n\"\n",
    "            \"  \\\"analysis_results\\\": \\\" \\\",\\n\"\n",
    "\n",
    "\n",
    "            \"  \\\"existing_files\\\": [\\n\"\n",
    "            \"    {{\\n\"\n",
    "            \"      \\\"file_path\\\": \\\"path/to/file.extension\\\",\\n\"\n",
    "            \"      \\\"task\\\": \\\"Modification needed in this file\\\"\\n\"\n",
    "            \"    }}\\n\"\n",
    "            \"  ],\\n\"\n",
    "            \"  \\\"new_files\\\": [\\n\"\n",
    "            \"    {{\\n\"\n",
    "            \"      \\\"file_path\\\": \\\"path/to/new/file.extension\\\",\\n\"\n",
    "            \"      \\\"purpose\\\": \\\"Purpose of the new file\\\" \\n\"\n",
    "            \"    }}\\n\"\n",
    "            \"  ]\\n\"\n",
    "            \"}}\\n\"\n",
    "            \"```\"\n",
    "        )\n",
    "    }\n",
    "    return prompts.get(stage, \"Stage not found.\")\n",
    "# Example inputs\n",
    "user_request = \"Add logging functionality to all major modules in the project\"\n",
    "feature_nodes_response_db = (\n",
    "    \"Based on the project context, the nodes impacted by the feature request to add logging functionality to all major modules in the project are:\\n\\n\"\n",
    "    \"1. `app.py` (File) - Role: Main application file, needs logging functionality to log important events or errors.\\n\\n\"\n",
    "    \"2. `helpers.py` (File) - Role: Utility file, needs logging functionality to log important events or errors related to helper functions.\\n\\n\"\n",
    "    \"3. `requirements.txt` (File) - Role: Dependency management file, may need to add a logging library (e.g., `logging` or a third-party library like `loguru`) as a dependency.\\n\\n\"\n",
    "    \"Note that the `utils` directory is not directly impacted, but its child file `helpers.py` is. The `flask` dependency in `requirements.txt` is not directly related to logging functionality, so it's not impacted by this feature request.\"\n",
    ")\n",
    "impact_report_response_db = (\n",
    "    \"Impact report content describing potential changes, risks, and implementation strategies.\"\n",
    ")\n",
    "\n",
    "# Logging the process\n",
    "logger.info(\"Preprocessing results request of feature analysis\")\n",
    "\n",
    "# Get the preprocessing template\n",
    "preprocessing_template = get_prompt_request(\"preprocessing_request\")\n",
    "\n",
    "# Generate the prompt by formatting the template with the required inputs\n",
    "try:\n",
    "    preprocessing_prompt = preprocessing_template.format(\n",
    "        feature_request=user_request,\n",
    "        analysis_results=(\n",
    "            f\"Nodes:\\n{feature_nodes_response_db}\\n\\n\"\n",
    "            f\"Edges:\\n{feature_edges_response_db}\\n\\n\"\n",
    "            f\"Report:\\n{impact_report_response_db}\"\n",
    "        )\n",
    "    )\n",
    "    print(preprocessing_prompt)  # Display the formatted prompt for debugging or further use\n",
    "except KeyError as e:\n",
    "    logger.error(f\"Missing key in format: {e}\")\n",
    "    raise\n"
   ]
  },
  {
   "cell_type": "code",
   "execution_count": 90,
   "metadata": {},
   "outputs": [
    {
     "name": "stdout",
     "output_type": "stream",
     "text": [
      "Debug: Received prompt: Using the results of the feature analysis, identify the specific files to be handled for the following feature request:\n",
      "\n",
      "Feature Request: Add logging functionality to all major modules in the project\n",
      "\n",
      "Feature Analysis Results:\n",
      "Nodes:\n",
      "Based on the project context, the nodes impacted by the feature request to add logging functionality to all major modules in the project are:\n",
      "\n",
      "1. `app.py` (File) - Role: Main application file, needs logging functionality to log important events or errors.\n",
      "\n",
      "2. `helpers.py` (File) - Role: Utility file, needs logging functionality to log important events or errors related to helper functions.\n",
      "\n",
      "3. `requirements.txt` (File) - Role: Dependency management file, may need to add a logging library (e.g., `logging` or a third-party library like `loguru`) as a dependency.\n",
      "\n",
      "Note that the `utils` directory is not directly impacted, but its child file `helpers.py` is. The `flask` dependency in `requirements.txt` is not directly related to logging functionality, so it's not impacted by this feature request.\n",
      "\n",
      "Edges:\n",
      "Based on the project context, the impacted dependencies for the feature request \"Add logging functionality to all major modules in the project\" are:\n",
      "\n",
      "1. `app.py`: This file will likely require logging functionality to log important events or errors. The significance of this impact is HIGH, as logging is a critical aspect of monitoring and debugging the application.\n",
      "\n",
      "2. `helpers.py` (inside `utils` directory): This file may also require logging functionality, depending on the nature of the helper functions it provides. The significance of this impact is MEDIUM to HIGH, as logging can help identify issues with these helper functions.\n",
      "\n",
      "3. `requirements.txt`: This file may need to be updated to include a logging library (e.g., `logging` or a third-party library like `loguru`) as a dependency. The significance of this impact is MEDIUM, as it's a necessary step to enable logging functionality in the project.\n",
      "\n",
      "No impact is expected on the `flask` dependency, as it's a web framework and not directly related to logging functionality.\n",
      "\n",
      "Note that the significance of the impact may vary depending on the specific requirements and implementation details of the logging functionality.\n",
      "\n",
      "Report:\n",
      "Impact report content describing potential changes, risks, and implementation strategies.\n",
      "\n",
      "For each impacted file:\n",
      "- Provide the file path.\n",
      "- Specify the task to be performed on the file (e.g., modify, add functionality).\n",
      "\n",
      "For any new file required:\n",
      "- Specify the file path.\n",
      "- Provide a brief description of its purpose.\n",
      "- Suggest the initial content or structure the file should include.\n",
      "\n",
      "Ensure the output clearly separates existing files and new files to be created. Output this information as a JSON file with the following format:\n",
      "\n",
      "```json\n",
      "{\n",
      "  \"feature_request\": \"Add logging functionality to all major modules in the project\",\n",
      "  \"analysis_results\": \" \",\n",
      "  \"existing_files\": [\n",
      "    {\n",
      "      \"file_path\": \"path/to/file.extension\",\n",
      "      \"task\": \"Modification needed in this file\"\n",
      "    }\n",
      "  ],\n",
      "  \"new_files\": [\n",
      "    {\n",
      "      \"file_path\": \"path/to/new/file.extension\",\n",
      "      \"purpose\": \"Purpose of the new file\" \n",
      "    }\n",
      "  ]\n",
      "}\n",
      "```\n",
      "Debug: Vector DB provided: True\n",
      "Debug: Formatted prompt:\n",
      "<|begin_of_text|><|start_header_id|>system<|end_header_id|>\n",
      "None<|eot_id|><|start_header_id|>user<|end_header_id|>\n",
      "Using the results of the feature analysis, identify the specific files to be handled for the following feature request:\n",
      "\n",
      "Feature Request: Add logging functionality to all major modules in the project\n",
      "\n",
      "Feature Analysis Results:\n",
      "Nodes:\n",
      "Based on the project context, the nodes impacted by the feature request to add logging functionality to all major modules in the project are:\n",
      "\n",
      "1. `app.py` (File) - Role: Main application file, needs logging functionality to log important events or errors.\n",
      "\n",
      "2. `helpers.py` (File) - Role: Utility file, needs logging functionality to log important events or errors related to helper functions.\n",
      "\n",
      "3. `requirements.txt` (File) - Role: Dependency management file, may need to add a logging library (e.g., `logging` or a third-party library like `loguru`) as a dependency.\n",
      "\n",
      "Note that the `utils` directory is not directly impacted, but its child file `helpers.py` is. The `flask` dependency in `requirements.txt` is not directly related to logging functionality, so it's not impacted by this feature request.\n",
      "\n",
      "Edges:\n",
      "Based on the project context, the impacted dependencies for the feature request \"Add logging functionality to all major modules in the project\" are:\n",
      "\n",
      "1. `app.py`: This file will likely require logging functionality to log important events or errors. The significance of this impact is HIGH, as logging is a critical aspect of monitoring and debugging the application.\n",
      "\n",
      "2. `helpers.py` (inside `utils` directory): This file may also require logging functionality, depending on the nature of the helper functions it provides. The significance of this impact is MEDIUM to HIGH, as logging can help identify issues with these helper functions.\n",
      "\n",
      "3. `requirements.txt`: This file may need to be updated to include a logging library (e.g., `logging` or a third-party library like `loguru`) as a dependency. The significance of this impact is MEDIUM, as it's a necessary step to enable logging functionality in the project.\n",
      "\n",
      "No impact is expected on the `flask` dependency, as it's a web framework and not directly related to logging functionality.\n",
      "\n",
      "Note that the significance of the impact may vary depending on the specific requirements and implementation details of the logging functionality.\n",
      "\n",
      "Report:\n",
      "Impact report content describing potential changes, risks, and implementation strategies.\n",
      "\n",
      "For each impacted file:\n",
      "- Provide the file path.\n",
      "- Specify the task to be performed on the file (e.g., modify, add functionality).\n",
      "\n",
      "For any new file required:\n",
      "- Specify the file path.\n",
      "- Provide a brief description of its purpose.\n",
      "- Suggest the initial content or structure the file should include.\n",
      "\n",
      "Ensure the output clearly separates existing files and new files to be created. Output this information as a JSON file with the following format:\n",
      "\n",
      "```json\n",
      "{\n",
      "  \"feature_request\": \"Add logging functionality to all major modules in the project\",\n",
      "  \"analysis_results\": \" \",\n",
      "  \"existing_files\": [\n",
      "    {\n",
      "      \"file_path\": \"path/to/file.extension\",\n",
      "      \"task\": \"Modification needed in this file\"\n",
      "    }\n",
      "  ],\n",
      "  \"new_files\": [\n",
      "    {\n",
      "      \"file_path\": \"path/to/new/file.extension\",\n",
      "      \"purpose\": \"Purpose of the new file\" \n",
      "    }\n",
      "  ]\n",
      "}\n",
      "```<|eot_id|><|start_header_id|>assistant<|end_header_id|>\n",
      "\n"
     ]
    },
    {
     "name": "stderr",
     "output_type": "stream",
     "text": [
      "INFO:ibm_watsonx_ai.client:Client successfully initialized\n",
      "INFO:ibm_watsonx_ai.wml_resource:Successfully finished Get available foundation models for url: 'https://eu-gb.ml.cloud.ibm.com/ml/v1/foundation_model_specs?version=2024-11-04&project_id=ac4d11fa-7292-4569-a901-f6f90c5fec86&filters=function_text_generation%2C%21lifecycle_withdrawn%3Aand&limit=200'\n",
      "/mnt/c/Blog/Building-LLM-from-Scratch-in-Python/.venv/lib/python3.10/site-packages/ibm_watsonx_ai/foundation_models/utils/utils.py:415: LifecycleWarning: Model 'meta-llama/llama-3-70b-instruct' is in deprecated state from 2024-12-02 until 2025-02-03. IDs of alternative models: None. Further details: https://dataplatform.cloud.ibm.com/docs/content/wsj/analyze-data/fm-model-lifecycle.html?context=wx&audience=wdp\n",
      "  warnings.warn(\n"
     ]
    },
    {
     "name": "stdout",
     "output_type": "stream",
     "text": [
      "Debug: Querying using vector database...\n"
     ]
    },
    {
     "name": "stderr",
     "output_type": "stream",
     "text": [
      "INFO:httpx:HTTP Request: POST https://eu-gb.ml.cloud.ibm.com/ml/v1/text/generation?version=2024-11-04 \"HTTP/1.1 200 OK\"\n",
      "INFO:ibm_watsonx_ai.wml_resource:Successfully finished generate for url: 'https://eu-gb.ml.cloud.ibm.com/ml/v1/text/generation?version=2024-11-04'\n"
     ]
    },
    {
     "name": "stdout",
     "output_type": "stream",
     "text": [
      "Debug: Raw response from vector DB: {'query': '<|begin_of_text|><|start_header_id|>system<|end_header_id|>\\nNone<|eot_id|><|start_header_id|>user<|end_header_id|>\\nUsing the results of the feature analysis, identify the specific files to be handled for the following feature request:\\n\\nFeature Request: Add logging functionality to all major modules in the project\\n\\nFeature Analysis Results:\\nNodes:\\nBased on the project context, the nodes impacted by the feature request to add logging functionality to all major modules in the project are:\\n\\n1. `app.py` (File) - Role: Main application file, needs logging functionality to log important events or errors.\\n\\n2. `helpers.py` (File) - Role: Utility file, needs logging functionality to log important events or errors related to helper functions.\\n\\n3. `requirements.txt` (File) - Role: Dependency management file, may need to add a logging library (e.g., `logging` or a third-party library like `loguru`) as a dependency.\\n\\nNote that the `utils` directory is not directly impacted, but its child file `helpers.py` is. The `flask` dependency in `requirements.txt` is not directly related to logging functionality, so it\\'s not impacted by this feature request.\\n\\nEdges:\\nBased on the project context, the impacted dependencies for the feature request \"Add logging functionality to all major modules in the project\" are:\\n\\n1. `app.py`: This file will likely require logging functionality to log important events or errors. The significance of this impact is HIGH, as logging is a critical aspect of monitoring and debugging the application.\\n\\n2. `helpers.py` (inside `utils` directory): This file may also require logging functionality, depending on the nature of the helper functions it provides. The significance of this impact is MEDIUM to HIGH, as logging can help identify issues with these helper functions.\\n\\n3. `requirements.txt`: This file may need to be updated to include a logging library (e.g., `logging` or a third-party library like `loguru`) as a dependency. The significance of this impact is MEDIUM, as it\\'s a necessary step to enable logging functionality in the project.\\n\\nNo impact is expected on the `flask` dependency, as it\\'s a web framework and not directly related to logging functionality.\\n\\nNote that the significance of the impact may vary depending on the specific requirements and implementation details of the logging functionality.\\n\\nReport:\\nImpact report content describing potential changes, risks, and implementation strategies.\\n\\nFor each impacted file:\\n- Provide the file path.\\n- Specify the task to be performed on the file (e.g., modify, add functionality).\\n\\nFor any new file required:\\n- Specify the file path.\\n- Provide a brief description of its purpose.\\n- Suggest the initial content or structure the file should include.\\n\\nEnsure the output clearly separates existing files and new files to be created. Output this information as a JSON file with the following format:\\n\\n```json\\n{\\n  \"feature_request\": \"Add logging functionality to all major modules in the project\",\\n  \"analysis_results\": \" \",\\n  \"existing_files\": [\\n    {\\n      \"file_path\": \"path/to/file.extension\",\\n      \"task\": \"Modification needed in this file\"\\n    }\\n  ],\\n  \"new_files\": [\\n    {\\n      \"file_path\": \"path/to/new/file.extension\",\\n      \"purpose\": \"Purpose of the new file\" \\n    }\\n  ]\\n}\\n```<|eot_id|><|start_header_id|>assistant<|end_header_id|>\\n', 'result': ' \\n\\nHere is the JSON output as requested:\\n\\n```json\\n{\\n  \"feature_request\": \"Add logging functionality to all major modules in the project\",\\n  \"analysis_results\": \"Based on the project context, the nodes impacted by the feature request to add logging functionality to all major modules in the project are: app.py, helpers.py, and requirements.txt.\",\\n  \"existing_files\": [\\n    {\\n      \"file_path\": \"project_old/app.py\",\\n      \"task\": \"Modify to add logging functionality to log important events or errors.\"\\n    },\\n    {\\n      \"file_path\": \"project_old/utils/helpers.py\",\\n      \"task\": \"Modify to add logging functionality to log important events or errors related to helper functions.\"\\n    },\\n    {\\n      \"file_path\": \"project_old/requirements.txt\",\\n      \"task\": \"Modify to add a logging library (e.g., logging or a third-party library like loguru) as a dependency.\"\\n    }\\n  ],\\n  \"new_files\": []\\n}\\n```\\n\\nIn this output, we have identified three existing files (`app.py`, `helpers.py`, and `requirements.txt`) that need to be modified to add logging functionality. No new files are required for this feature request.'}\n",
      "Debug: Extracted result: Here is the JSON output as requested:\n",
      "\n",
      "```json\n",
      "{\n",
      "  \"feature_request\": \"Add logging functionality to all major modules in the project\",\n",
      "  \"analysis_results\": \"Based on the project context, the nodes impacted by the feature request to add logging functionality to all major modules in the project are: app.py, helpers.py, and requirements.txt.\",\n",
      "  \"existing_files\": [\n",
      "    {\n",
      "      \"file_path\": \"project_old/app.py\",\n",
      "      \"task\": \"Modify to add logging functionality to log important events or errors.\"\n",
      "    },\n",
      "    {\n",
      "      \"file_path\": \"project_old/utils/helpers.py\",\n",
      "      \"task\": \"Modify to add logging functionality to log important events or errors related to helper functions.\"\n",
      "    },\n",
      "    {\n",
      "      \"file_path\": \"project_old/requirements.txt\",\n",
      "      \"task\": \"Modify to add a logging library (e.g., logging or a third-party library like loguru) as a dependency.\"\n",
      "    }\n",
      "  ],\n",
      "  \"new_files\": []\n",
      "}\n",
      "```\n",
      "\n",
      "In this output, we have identified three existing files (`app.py`, `helpers.py`, and `requirements.txt`) that need to be modified to add logging functionality. No new files are required for this feature request.\n"
     ]
    }
   ],
   "source": [
    "preprocessing_response_request_db = query_llm(user_input=preprocessing_prompt,vector_db=vector_db)\n",
    "#preprocessing_response_db"
   ]
  },
  {
   "cell_type": "code",
   "execution_count": 93,
   "metadata": {},
   "outputs": [
    {
     "data": {
      "text/plain": [
       "'Here is the JSON output as requested:\\n\\n```json\\n{\\n  \"feature_request\": \"Add logging functionality to all major modules in the project\",\\n  \"analysis_results\": \"Based on the project context, the nodes impacted by the feature request to add logging functionality to all major modules in the project are: app.py, helpers.py, and requirements.txt.\",\\n  \"existing_files\": [\\n    {\\n      \"file_path\": \"project_old/app.py\",\\n      \"task\": \"Modify to add logging functionality to log important events or errors.\"\\n    },\\n    {\\n      \"file_path\": \"project_old/utils/helpers.py\",\\n      \"task\": \"Modify to add logging functionality to log important events or errors related to helper functions.\"\\n    },\\n    {\\n      \"file_path\": \"project_old/requirements.txt\",\\n      \"task\": \"Modify to add a logging library (e.g., logging or a third-party library like loguru) as a dependency.\"\\n    }\\n  ],\\n  \"new_files\": []\\n}\\n```\\n\\nIn this output, we have identified three existing files (`app.py`, `helpers.py`, and `requirements.txt`) that need to be modified to add logging functionality. No new files are required for this feature request.'"
      ]
     },
     "execution_count": 93,
     "metadata": {},
     "output_type": "execute_result"
    }
   ],
   "source": [
    "preprocessing_response_request_db"
   ]
  },
  {
   "cell_type": "code",
   "execution_count": 95,
   "metadata": {},
   "outputs": [
    {
     "name": "stdout",
     "output_type": "stream",
     "text": [
      "{\n",
      "  \"feature_request\": \"Add logging functionality to all major modules in the project\",\n",
      "  \"analysis_results\": \"Based on the project context, the nodes impacted by the feature request to add logging functionality to all major modules in the project are: app.py, helpers.py, and requirements.txt.\",\n",
      "  \"existing_files\": [\n",
      "    {\n",
      "      \"file_path\": \"project_old/app.py\",\n",
      "      \"task\": \"Modify to add logging functionality to log important events or errors.\"\n",
      "    },\n",
      "    {\n",
      "      \"file_path\": \"project_old/utils/helpers.py\",\n",
      "      \"task\": \"Modify to add logging functionality to log important events or errors related to helper functions.\"\n",
      "    },\n",
      "    {\n",
      "      \"file_path\": \"project_old/requirements.txt\",\n",
      "      \"task\": \"Modify to add a logging library (e.g., logging or a third-party library like loguru) as a dependency.\"\n",
      "    }\n",
      "  ],\n",
      "  \"new_files\": []\n",
      "}\n"
     ]
    }
   ],
   "source": [
    "import json\n",
    "import re\n",
    "\n",
    "def extract_json_from_response(response_text):\n",
    "  \"\"\"\n",
    "  Extracts the JSON file from the given LLM response.\n",
    "\n",
    "  Args:\n",
    "    response_text: The LLM response containing the JSON file.\n",
    "\n",
    "  Returns:\n",
    "    A Python dictionary representing the JSON object, or None if no JSON is found.\n",
    "  \"\"\"\n",
    "  try:\n",
    "    # Find the JSON string using regular expression\n",
    "    match = re.search(r'```json\\n(.*?)```', response_text, re.DOTALL)\n",
    "    if match:\n",
    "      json_string = match.group(1)\n",
    "      # Parse the JSON string\n",
    "      json_object = json.loads(json_string)\n",
    "      return json_object\n",
    "    else:\n",
    "      return None\n",
    "  except json.JSONDecodeError as e:\n",
    "    print(f\"Error decoding JSON: {e}\")\n",
    "    return None\n",
    "\n",
    "# Example usage\n",
    "\n",
    "json_object = extract_json_from_response(preprocessing_response_request_db)\n",
    "\n",
    "if json_object:\n",
    "  print(json.dumps(json_object, indent=2))\n",
    "else:\n",
    "  print(\"No JSON found in the response.\")"
   ]
  },
  {
   "cell_type": "code",
   "execution_count": 96,
   "metadata": {},
   "outputs": [
    {
     "name": "stdout",
     "output_type": "stream",
     "text": [
      "{'feature_request': 'Add logging functionality to all major modules in the project', 'analysis_results': 'Based on the project context, the nodes impacted by the feature request to add logging functionality to all major modules in the project are: app.py, helpers.py, and requirements.txt.', 'existing_files': [{'file_path': 'project_old/app.py', 'task': 'Modify to add logging functionality to log important events or errors.'}, {'file_path': 'project_old/utils/helpers.py', 'task': 'Modify to add logging functionality to log important events or errors related to helper functions.'}, {'file_path': 'project_old/requirements.txt', 'task': 'Modify to add a logging library (e.g., logging or a third-party library like loguru) as a dependency.'}], 'new_files': []}\n"
     ]
    }
   ],
   "source": [
    "print(json_object)"
   ]
  },
  {
   "cell_type": "code",
   "execution_count": 65,
   "metadata": {},
   "outputs": [],
   "source": [
    "test=False\n",
    "if test:\n",
    "    from src.vector_database.db_load import load_vector_db_by_collection\n",
    "    from src.models.llm_inference import query_llm\n",
    "    # Define the persistent directory and collection name\n",
    "    persist_directory = \"./notebooks/chroma_db\"\n",
    "    collection_name = \"my_vector_collection\"\n",
    "    # Load the vector database\n",
    "    vector_db = load_vector_db_by_collection(collection_name, persist_directory)\n",
    "    # Query the vector database using the `query_llm` function\n",
    "    response = query_llm(user_input=prompt, vector_db=vector_db)\n",
    "    # Print the response\n",
    "    print(\"Generated Response:\")\n",
    "    print(response)"
   ]
  },
  {
   "cell_type": "code",
   "execution_count": 97,
   "metadata": {},
   "outputs": [],
   "source": [
    "def extract_file_content(file_path):\n",
    "    \"\"\"\n",
    "    Extracts the content of a file.\n",
    "\n",
    "    Args:\n",
    "        file_path (str): Path to the file.\n",
    "\n",
    "    Returns:\n",
    "        str: The content of the file, or an error message if the file cannot be read.\n",
    "    \"\"\"\n",
    "    if os.path.exists(file_path) and os.path.isfile(file_path):\n",
    "        try:\n",
    "            with open(file_path, 'r', encoding='utf-8') as file:\n",
    "                return file.read()\n",
    "        except Exception as e:\n",
    "            return f\"Error reading file {file_path}: {e}\"\n",
    "    else:\n",
    "        return f\"File not found: {file_path}\"\n",
    "\n",
    "# Extend the JSON object\n",
    "for file_info in json_object['existing_files']:\n",
    "    file_path = file_info.get('file_path', '')\n",
    "    if file_path:\n",
    "        file_info['content'] = extract_file_content(file_path)\n",
    "\n",
    "# Display the updated JSON object"
   ]
  },
  {
   "cell_type": "code",
   "execution_count": 98,
   "metadata": {},
   "outputs": [
    {
     "name": "stdout",
     "output_type": "stream",
     "text": [
      "{\n",
      "    \"feature_request\": \"Add logging functionality to all major modules in the project\",\n",
      "    \"analysis_results\": \"Based on the project context, the nodes impacted by the feature request to add logging functionality to all major modules in the project are: app.py, helpers.py, and requirements.txt.\",\n",
      "    \"existing_files\": [\n",
      "        {\n",
      "            \"file_path\": \"project_old/app.py\",\n",
      "            \"task\": \"Modify to add logging functionality to log important events or errors.\",\n",
      "            \"content\": \"from utils.helpers import greet\\n\\ndef main():\\n    name = input(\\\"Enter your name: \\\")\\n    print(greet(name))\\n\\nif __name__ == \\\"__main__\\\":\\n    main()\"\n",
      "        },\n",
      "        {\n",
      "            \"file_path\": \"project_old/utils/helpers.py\",\n",
      "            \"task\": \"Modify to add logging functionality to log important events or errors related to helper functions.\",\n",
      "            \"content\": \"def greet(name):\\n    \\\"\\\"\\\"\\n    Returns a greeting message for the provided name.\\n\\n    Args:\\n        name: The name of the person to greet.\\n\\n    Returns:\\n        A greeting string.\\n    \\\"\\\"\\\"\\n    return f\\\"Hello, {name}! Welcome to the project.\\\"\"\n",
      "        },\n",
      "        {\n",
      "            \"file_path\": \"project_old/requirements.txt\",\n",
      "            \"task\": \"Modify to add a logging library (e.g., logging or a third-party library like loguru) as a dependency.\",\n",
      "            \"content\": \"# Python dependencies\\nflask\"\n",
      "        }\n",
      "    ],\n",
      "    \"new_files\": []\n",
      "}\n"
     ]
    }
   ],
   "source": [
    "# Display the updated JSON object\n",
    "import json\n",
    "print(json.dumps(json_object, indent=4))"
   ]
  },
  {
   "cell_type": "code",
   "execution_count": 99,
   "metadata": {},
   "outputs": [],
   "source": [
    "import json\n",
    "\n",
    "def count_tasks_from_json(json_data: str) -> int:\n",
    "    \"\"\"\n",
    "    Counts all tasks to perform from the given JSON data.\n",
    "\n",
    "    Args:\n",
    "        json_data (str): JSON data as a string.\n",
    "\n",
    "    Returns:\n",
    "        int: Total number of tasks.\n",
    "    \"\"\"\n",
    "    data = json.loads(json_data)\n",
    "    existing_tasks = len(data.get(\"existing_files\", []))\n",
    "    new_tasks = len(data.get(\"new_files\", []))\n",
    "    return existing_tasks + new_tasks\n"
   ]
  },
  {
   "cell_type": "code",
   "execution_count": 125,
   "metadata": {},
   "outputs": [],
   "source": [
    "json_data=json.dumps(json_object, indent=4)"
   ]
  },
  {
   "cell_type": "code",
   "execution_count": 126,
   "metadata": {},
   "outputs": [
    {
     "name": "stdout",
     "output_type": "stream",
     "text": [
      "Total tasks to perform: 3\n"
     ]
    }
   ],
   "source": [
    "# Count tasks\n",
    "task_count = count_tasks_from_json(json_data)\n",
    "print(f\"Total tasks to perform: {task_count}\")"
   ]
  },
  {
   "cell_type": "code",
   "execution_count": 127,
   "metadata": {},
   "outputs": [],
   "source": [
    "def generate_task_prompts(json_data: str) -> list:\n",
    "    \"\"\"\n",
    "    Generates prompts for each task based on the provided JSON data.\n",
    "\n",
    "    Args:\n",
    "        json_data (str): JSON data as a string.\n",
    "\n",
    "    Returns:\n",
    "        list: A list of prompts, one for each task.\n",
    "    \"\"\"\n",
    "    data = json.loads(json_data)\n",
    "    feature_request = data[\"feature_request\"]\n",
    "    analysis_results = data[\"analysis_results\"]\n",
    "    prompts = []\n",
    "\n",
    "    # Generate prompts for existing files\n",
    "    for file in data.get(\"existing_files\", []):\n",
    "        task_prompt = (\n",
    "            f\"You are an expert at writing source code. Perform the following task:\\n\\n\"\n",
    "            f\"Task Request: {file['task']}\\n\\n\"\n",
    "            f\"Feature Request: {feature_request}\\n\\n\"\n",
    "            f\"File Path: {file['file_path']}\\n\\n\"\n",
    "            f\"File Content:\\n{file['content']}\\n\\n\"\n",
    "            f\"Analysis Results: {analysis_results}\\n\\n\"\n",
    "            f\"Output ONLY the complete modified source code for the specified file. Do not include comments, explanations, or any other text.\"\n",
    "        )\n",
    "        prompts.append(task_prompt)\n",
    "\n",
    "    # Generate prompts for new files\n",
    "    for file in data.get(\"new_files\", []):\n",
    "        task_prompt = (\n",
    "            f\"You are an expert at writing source code. Perform the following task:\\n\\n\"\n",
    "            f\"Task Request: Create a new file for {file['purpose']}\\n\\n\"\n",
    "            f\"Feature Request: {feature_request}\\n\\n\"\n",
    "            f\"File Path: {file['file_path']}\\n\\n\"\n",
    "            f\"Analysis Results: {analysis_results}\\n\\n\"\n",
    "            f\"Output ONLY the complete source code for the new file. Do not include comments, explanations, or any other text.\"\n",
    "        )\n",
    "        prompts.append(task_prompt)\n",
    "\n",
    "    return prompts\n",
    "\n",
    "# Generate task prompts\n",
    "task_responses = []\n",
    "task_prompts = generate_task_prompts(json_data)\n",
    "\n",
    "\n"
   ]
  },
  {
   "cell_type": "code",
   "execution_count": 128,
   "metadata": {},
   "outputs": [
    {
     "name": "stdout",
     "output_type": "stream",
     "text": [
      "\n",
      "Prompt 1:\n",
      "You are an expert at writing source code. Perform the following task:\n",
      "\n",
      "Task Request: Modify to add logging functionality to log important events or errors.\n",
      "\n",
      "Feature Request: Add logging functionality to all major modules in the project\n",
      "\n",
      "File Path: project_old/app.py\n",
      "\n",
      "File Content:\n",
      "from utils.helpers import greet\n",
      "\n",
      "def main():\n",
      "    name = input(\"Enter your name: \")\n",
      "    print(greet(name))\n",
      "\n",
      "if __name__ == \"__main__\":\n",
      "    main()\n",
      "\n",
      "Analysis Results: Based on the project context, the nodes impacted by the feature request to add logging functionality to all major modules in the project are: app.py, helpers.py, and requirements.txt.\n",
      "\n",
      "Output ONLY the complete modified source code for the specified file. Do not include comments, explanations, or any other text.\n",
      "\n",
      "Debug: Received prompt: You are an expert at writing source code. Perform the following task:\n",
      "\n",
      "Task Request: Modify to add logging functionality to log important events or errors.\n",
      "\n",
      "Feature Request: Add logging functionality to all major modules in the project\n",
      "\n",
      "File Path: project_old/app.py\n",
      "\n",
      "File Content:\n",
      "from utils.helpers import greet\n",
      "\n",
      "def main():\n",
      "    name = input(\"Enter your name: \")\n",
      "    print(greet(name))\n",
      "\n",
      "if __name__ == \"__main__\":\n",
      "    main()\n",
      "\n",
      "Analysis Results: Based on the project context, the nodes impacted by the feature request to add logging functionality to all major modules in the project are: app.py, helpers.py, and requirements.txt.\n",
      "\n",
      "Output ONLY the complete modified source code for the specified file. Do not include comments, explanations, or any other text.\n",
      "Debug: Vector DB provided: False\n",
      "Debug: Formatted prompt:\n",
      "<|begin_of_text|><|start_header_id|>system<|end_header_id|>\n",
      "None<|eot_id|><|start_header_id|>user<|end_header_id|>\n",
      "You are an expert at writing source code. Perform the following task:\n",
      "\n",
      "Task Request: Modify to add logging functionality to log important events or errors.\n",
      "\n",
      "Feature Request: Add logging functionality to all major modules in the project\n",
      "\n",
      "File Path: project_old/app.py\n",
      "\n",
      "File Content:\n",
      "from utils.helpers import greet\n",
      "\n",
      "def main():\n",
      "    name = input(\"Enter your name: \")\n",
      "    print(greet(name))\n",
      "\n",
      "if __name__ == \"__main__\":\n",
      "    main()\n",
      "\n",
      "Analysis Results: Based on the project context, the nodes impacted by the feature request to add logging functionality to all major modules in the project are: app.py, helpers.py, and requirements.txt.\n",
      "\n",
      "Output ONLY the complete modified source code for the specified file. Do not include comments, explanations, or any other text.<|eot_id|><|start_header_id|>assistant<|end_header_id|>\n",
      "\n"
     ]
    },
    {
     "name": "stderr",
     "output_type": "stream",
     "text": [
      "INFO:ibm_watsonx_ai.client:Client successfully initialized\n",
      "INFO:ibm_watsonx_ai.wml_resource:Successfully finished Get available foundation models for url: 'https://eu-gb.ml.cloud.ibm.com/ml/v1/foundation_model_specs?version=2024-11-04&project_id=ac4d11fa-7292-4569-a901-f6f90c5fec86&filters=function_text_generation%2C%21lifecycle_withdrawn%3Aand&limit=200'\n",
      "/mnt/c/Blog/Building-LLM-from-Scratch-in-Python/.venv/lib/python3.10/site-packages/ibm_watsonx_ai/foundation_models/utils/utils.py:415: LifecycleWarning: Model 'meta-llama/llama-3-70b-instruct' is in deprecated state from 2024-12-02 until 2025-02-03. IDs of alternative models: None. Further details: https://dataplatform.cloud.ibm.com/docs/content/wsj/analyze-data/fm-model-lifecycle.html?context=wx&audience=wdp\n",
      "  warnings.warn(\n"
     ]
    },
    {
     "name": "stdout",
     "output_type": "stream",
     "text": [
      "Debug: Querying without vector database...\n"
     ]
    },
    {
     "name": "stderr",
     "output_type": "stream",
     "text": [
      "INFO:httpx:HTTP Request: POST https://eu-gb.ml.cloud.ibm.com/ml/v1/text/generation?version=2024-11-04 \"HTTP/1.1 200 OK\"\n",
      "INFO:ibm_watsonx_ai.wml_resource:Successfully finished generate for url: 'https://eu-gb.ml.cloud.ibm.com/ml/v1/text/generation?version=2024-11-04'\n"
     ]
    },
    {
     "name": "stdout",
     "output_type": "stream",
     "text": [
      "Debug: Raw response from model: import logging\n",
      "from utils.helpers import greet\n",
      "\n",
      "logging.basicConfig(level=logging.INFO, format='%(asctime)s - %(levelname)s - %(message)s')\n",
      "\n",
      "def main():\n",
      "    try:\n",
      "        name = input(\"Enter your name: \")\n",
      "        logging.info(\"User input received\")\n",
      "        print(greet(name))\n",
      "        logging.info(\"Greeting printed successfully\")\n",
      "    except Exception as e:\n",
      "        logging.error(\"An error occurred: \", exc_info=True)\n",
      "\n",
      "if __name__ == \"__main__\":\n",
      "    main()\n",
      "Debug: Response as string: import logging\n",
      "from utils.helpers import greet\n",
      "\n",
      "logging.basicConfig(level=logging.INFO, format='%(asctime)s - %(levelname)s - %(message)s')\n",
      "\n",
      "def main():\n",
      "    try:\n",
      "        name = input(\"Enter your name: \")\n",
      "        logging.info(\"User input received\")\n",
      "        print(greet(name))\n",
      "        logging.info(\"Greeting printed successfully\")\n",
      "    except Exception as e:\n",
      "        logging.error(\"An error occurred: \", exc_info=True)\n",
      "\n",
      "if __name__ == \"__main__\":\n",
      "    main()\n",
      "\n",
      "Prompt 2:\n",
      "You are an expert at writing source code. Perform the following task:\n",
      "\n",
      "Task Request: Modify to add logging functionality to log important events or errors related to helper functions.\n",
      "\n",
      "Feature Request: Add logging functionality to all major modules in the project\n",
      "\n",
      "File Path: project_old/utils/helpers.py\n",
      "\n",
      "File Content:\n",
      "def greet(name):\n",
      "    \"\"\"\n",
      "    Returns a greeting message for the provided name.\n",
      "\n",
      "    Args:\n",
      "        name: The name of the person to greet.\n",
      "\n",
      "    Returns:\n",
      "        A greeting string.\n",
      "    \"\"\"\n",
      "    return f\"Hello, {name}! Welcome to the project.\"\n",
      "\n",
      "Analysis Results: Based on the project context, the nodes impacted by the feature request to add logging functionality to all major modules in the project are: app.py, helpers.py, and requirements.txt.\n",
      "\n",
      "Output ONLY the complete modified source code for the specified file. Do not include comments, explanations, or any other text.\n",
      "\n",
      "Debug: Received prompt: You are an expert at writing source code. Perform the following task:\n",
      "\n",
      "Task Request: Modify to add logging functionality to log important events or errors related to helper functions.\n",
      "\n",
      "Feature Request: Add logging functionality to all major modules in the project\n",
      "\n",
      "File Path: project_old/utils/helpers.py\n",
      "\n",
      "File Content:\n",
      "def greet(name):\n",
      "    \"\"\"\n",
      "    Returns a greeting message for the provided name.\n",
      "\n",
      "    Args:\n",
      "        name: The name of the person to greet.\n",
      "\n",
      "    Returns:\n",
      "        A greeting string.\n",
      "    \"\"\"\n",
      "    return f\"Hello, {name}! Welcome to the project.\"\n",
      "\n",
      "Analysis Results: Based on the project context, the nodes impacted by the feature request to add logging functionality to all major modules in the project are: app.py, helpers.py, and requirements.txt.\n",
      "\n",
      "Output ONLY the complete modified source code for the specified file. Do not include comments, explanations, or any other text.\n",
      "Debug: Vector DB provided: False\n",
      "Debug: Formatted prompt:\n",
      "<|begin_of_text|><|start_header_id|>system<|end_header_id|>\n",
      "None<|eot_id|><|start_header_id|>user<|end_header_id|>\n",
      "You are an expert at writing source code. Perform the following task:\n",
      "\n",
      "Task Request: Modify to add logging functionality to log important events or errors related to helper functions.\n",
      "\n",
      "Feature Request: Add logging functionality to all major modules in the project\n",
      "\n",
      "File Path: project_old/utils/helpers.py\n",
      "\n",
      "File Content:\n",
      "def greet(name):\n",
      "    \"\"\"\n",
      "    Returns a greeting message for the provided name.\n",
      "\n",
      "    Args:\n",
      "        name: The name of the person to greet.\n",
      "\n",
      "    Returns:\n",
      "        A greeting string.\n",
      "    \"\"\"\n",
      "    return f\"Hello, {name}! Welcome to the project.\"\n",
      "\n",
      "Analysis Results: Based on the project context, the nodes impacted by the feature request to add logging functionality to all major modules in the project are: app.py, helpers.py, and requirements.txt.\n",
      "\n",
      "Output ONLY the complete modified source code for the specified file. Do not include comments, explanations, or any other text.<|eot_id|><|start_header_id|>assistant<|end_header_id|>\n",
      "\n"
     ]
    },
    {
     "name": "stderr",
     "output_type": "stream",
     "text": [
      "INFO:ibm_watsonx_ai.client:Client successfully initialized\n",
      "INFO:ibm_watsonx_ai.wml_resource:Successfully finished Get available foundation models for url: 'https://eu-gb.ml.cloud.ibm.com/ml/v1/foundation_model_specs?version=2024-11-04&project_id=ac4d11fa-7292-4569-a901-f6f90c5fec86&filters=function_text_generation%2C%21lifecycle_withdrawn%3Aand&limit=200'\n",
      "/mnt/c/Blog/Building-LLM-from-Scratch-in-Python/.venv/lib/python3.10/site-packages/ibm_watsonx_ai/foundation_models/utils/utils.py:415: LifecycleWarning: Model 'meta-llama/llama-3-70b-instruct' is in deprecated state from 2024-12-02 until 2025-02-03. IDs of alternative models: None. Further details: https://dataplatform.cloud.ibm.com/docs/content/wsj/analyze-data/fm-model-lifecycle.html?context=wx&audience=wdp\n",
      "  warnings.warn(\n"
     ]
    },
    {
     "name": "stdout",
     "output_type": "stream",
     "text": [
      "Debug: Querying without vector database...\n"
     ]
    },
    {
     "name": "stderr",
     "output_type": "stream",
     "text": [
      "INFO:httpx:HTTP Request: POST https://eu-gb.ml.cloud.ibm.com/ml/v1/text/generation?version=2024-11-04 \"HTTP/1.1 200 OK\"\n",
      "INFO:ibm_watsonx_ai.wml_resource:Successfully finished generate for url: 'https://eu-gb.ml.cloud.ibm.com/ml/v1/text/generation?version=2024-11-04'\n"
     ]
    },
    {
     "name": "stdout",
     "output_type": "stream",
     "text": [
      "Debug: Raw response from model: import logging\n",
      "\n",
      "logging.basicConfig(level=logging.INFO)\n",
      "logger = logging.getLogger(__name__)\n",
      "\n",
      "def greet(name):\n",
      "    try:\n",
      "        logger.info(f\"Generating greeting for {name}\")\n",
      "        return f\"Hello, {name}! Welcome to the project.\"\n",
      "    except Exception as e:\n",
      "        logger.error(f\"Error generating greeting for {name}: {str(e)}\")\n",
      "        return None\n",
      "Debug: Response as string: import logging\n",
      "\n",
      "logging.basicConfig(level=logging.INFO)\n",
      "logger = logging.getLogger(__name__)\n",
      "\n",
      "def greet(name):\n",
      "    try:\n",
      "        logger.info(f\"Generating greeting for {name}\")\n",
      "        return f\"Hello, {name}! Welcome to the project.\"\n",
      "    except Exception as e:\n",
      "        logger.error(f\"Error generating greeting for {name}: {str(e)}\")\n",
      "        return None\n",
      "\n",
      "Prompt 3:\n",
      "You are an expert at writing source code. Perform the following task:\n",
      "\n",
      "Task Request: Modify to add a logging library (e.g., logging or a third-party library like loguru) as a dependency.\n",
      "\n",
      "Feature Request: Add logging functionality to all major modules in the project\n",
      "\n",
      "File Path: project_old/requirements.txt\n",
      "\n",
      "File Content:\n",
      "# Python dependencies\n",
      "flask\n",
      "\n",
      "Analysis Results: Based on the project context, the nodes impacted by the feature request to add logging functionality to all major modules in the project are: app.py, helpers.py, and requirements.txt.\n",
      "\n",
      "Output ONLY the complete modified source code for the specified file. Do not include comments, explanations, or any other text.\n",
      "\n",
      "Debug: Received prompt: You are an expert at writing source code. Perform the following task:\n",
      "\n",
      "Task Request: Modify to add a logging library (e.g., logging or a third-party library like loguru) as a dependency.\n",
      "\n",
      "Feature Request: Add logging functionality to all major modules in the project\n",
      "\n",
      "File Path: project_old/requirements.txt\n",
      "\n",
      "File Content:\n",
      "# Python dependencies\n",
      "flask\n",
      "\n",
      "Analysis Results: Based on the project context, the nodes impacted by the feature request to add logging functionality to all major modules in the project are: app.py, helpers.py, and requirements.txt.\n",
      "\n",
      "Output ONLY the complete modified source code for the specified file. Do not include comments, explanations, or any other text.\n",
      "Debug: Vector DB provided: False\n",
      "Debug: Formatted prompt:\n",
      "<|begin_of_text|><|start_header_id|>system<|end_header_id|>\n",
      "None<|eot_id|><|start_header_id|>user<|end_header_id|>\n",
      "You are an expert at writing source code. Perform the following task:\n",
      "\n",
      "Task Request: Modify to add a logging library (e.g., logging or a third-party library like loguru) as a dependency.\n",
      "\n",
      "Feature Request: Add logging functionality to all major modules in the project\n",
      "\n",
      "File Path: project_old/requirements.txt\n",
      "\n",
      "File Content:\n",
      "# Python dependencies\n",
      "flask\n",
      "\n",
      "Analysis Results: Based on the project context, the nodes impacted by the feature request to add logging functionality to all major modules in the project are: app.py, helpers.py, and requirements.txt.\n",
      "\n",
      "Output ONLY the complete modified source code for the specified file. Do not include comments, explanations, or any other text.<|eot_id|><|start_header_id|>assistant<|end_header_id|>\n",
      "\n"
     ]
    },
    {
     "name": "stderr",
     "output_type": "stream",
     "text": [
      "INFO:ibm_watsonx_ai.client:Client successfully initialized\n",
      "INFO:ibm_watsonx_ai.wml_resource:Successfully finished Get available foundation models for url: 'https://eu-gb.ml.cloud.ibm.com/ml/v1/foundation_model_specs?version=2024-11-04&project_id=ac4d11fa-7292-4569-a901-f6f90c5fec86&filters=function_text_generation%2C%21lifecycle_withdrawn%3Aand&limit=200'\n",
      "/mnt/c/Blog/Building-LLM-from-Scratch-in-Python/.venv/lib/python3.10/site-packages/ibm_watsonx_ai/foundation_models/utils/utils.py:415: LifecycleWarning: Model 'meta-llama/llama-3-70b-instruct' is in deprecated state from 2024-12-02 until 2025-02-03. IDs of alternative models: None. Further details: https://dataplatform.cloud.ibm.com/docs/content/wsj/analyze-data/fm-model-lifecycle.html?context=wx&audience=wdp\n",
      "  warnings.warn(\n"
     ]
    },
    {
     "name": "stdout",
     "output_type": "stream",
     "text": [
      "Debug: Querying without vector database...\n"
     ]
    },
    {
     "name": "stderr",
     "output_type": "stream",
     "text": [
      "INFO:httpx:HTTP Request: POST https://eu-gb.ml.cloud.ibm.com/ml/v1/text/generation?version=2024-11-04 \"HTTP/1.1 200 OK\"\n",
      "INFO:ibm_watsonx_ai.wml_resource:Successfully finished generate for url: 'https://eu-gb.ml.cloud.ibm.com/ml/v1/text/generation?version=2024-11-04'\n"
     ]
    },
    {
     "name": "stdout",
     "output_type": "stream",
     "text": [
      "Debug: Raw response from model: loguru\n",
      "\n",
      "flask \n",
      "\n",
      "logging==0.4.1.2 \n",
      "loguru==0.5.3 \n",
      "python-json-logger==2.0.2 \n",
      "structlog==21.5.0 \n",
      "logbook==1.5.3\n",
      "Debug: Response as string: loguru\n",
      "\n",
      "flask \n",
      "\n",
      "logging==0.4.1.2 \n",
      "loguru==0.5.3 \n",
      "python-json-logger==2.0.2 \n",
      "structlog==21.5.0 \n",
      "logbook==1.5.3\n",
      "\n",
      "Source Code for Task 1:\n",
      "import logging\n",
      "from utils.helpers import greet\n",
      "\n",
      "logging.basicConfig(level=logging.INFO, format='%(asctime)s - %(levelname)s - %(message)s')\n",
      "\n",
      "def main():\n",
      "    try:\n",
      "        name = input(\"Enter your name: \")\n",
      "        logging.info(\"User input received\")\n",
      "        print(greet(name))\n",
      "        logging.info(\"Greeting printed successfully\")\n",
      "    except Exception as e:\n",
      "        logging.error(\"An error occurred: \", exc_info=True)\n",
      "\n",
      "if __name__ == \"__main__\":\n",
      "    main()\n",
      "\n",
      "Source Code for Task 2:\n",
      "import logging\n",
      "\n",
      "logging.basicConfig(level=logging.INFO)\n",
      "logger = logging.getLogger(__name__)\n",
      "\n",
      "def greet(name):\n",
      "    try:\n",
      "        logger.info(f\"Generating greeting for {name}\")\n",
      "        return f\"Hello, {name}! Welcome to the project.\"\n",
      "    except Exception as e:\n",
      "        logger.error(f\"Error generating greeting for {name}: {str(e)}\")\n",
      "        return None\n",
      "\n",
      "Source Code for Task 3:\n",
      "loguru\n",
      "\n",
      "flask \n",
      "\n",
      "logging==0.4.1.2 \n",
      "loguru==0.5.3 \n",
      "python-json-logger==2.0.2 \n",
      "structlog==21.5.0 \n",
      "logbook==1.5.3\n"
     ]
    }
   ],
   "source": [
    "task_responses=[]\n",
    "# Query the LLM for each prompt and ensure the response is limited to source code\n",
    "for i, task_prompt in enumerate(task_prompts, start=1):\n",
    "    print(f\"\\nPrompt {i}:\\n{task_prompt}\\n\")\n",
    "    task_response = query_llm(user_input=task_prompt)  # Replace with the appropriate LLM query function\n",
    "    task_responses.append(task_response)\n",
    "\n",
    "# Print the raw source code responses\n",
    "for i, response in enumerate(task_responses, start=1):\n",
    "    print(f\"\\nSource Code for Task {i}:\\n{response}\")\n",
    "  "
   ]
  },
  {
   "cell_type": "code",
   "execution_count": 131,
   "metadata": {},
   "outputs": [
    {
     "name": "stdout",
     "output_type": "stream",
     "text": [
      "{\n",
      "    \"feature_request\": \"Add logging functionality to all major modules in the project\",\n",
      "    \"analysis_results\": \"Based on the project context, the nodes impacted by the feature request to add logging functionality to all major modules in the project are: app.py, helpers.py, and requirements.txt.\",\n",
      "    \"existing_files\": [\n",
      "        {\n",
      "            \"file_path\": \"project_old/app.py\",\n",
      "            \"task\": \"Modify to add logging functionality to log important events or errors.\",\n",
      "            \"content\": \"from utils.helpers import greet\\n\\ndef main():\\n    name = input(\\\"Enter your name: \\\")\\n    print(greet(name))\\n\\nif __name__ == \\\"__main__\\\":\\n    main()\"\n",
      "        },\n",
      "        {\n",
      "            \"file_path\": \"project_old/utils/helpers.py\",\n",
      "            \"task\": \"Modify to add logging functionality to log important events or errors related to helper functions.\",\n",
      "            \"content\": \"def greet(name):\\n    \\\"\\\"\\\"\\n    Returns a greeting message for the provided name.\\n\\n    Args:\\n        name: The name of the person to greet.\\n\\n    Returns:\\n        A greeting string.\\n    \\\"\\\"\\\"\\n    return f\\\"Hello, {name}! Welcome to the project.\\\"\"\n",
      "        },\n",
      "        {\n",
      "            \"file_path\": \"project_old/requirements.txt\",\n",
      "            \"task\": \"Modify to add a logging library (e.g., logging or a third-party library like loguru) as a dependency.\",\n",
      "            \"content\": \"# Python dependencies\\nflask\"\n",
      "        }\n",
      "    ],\n",
      "    \"new_files\": []\n",
      "}\n"
     ]
    }
   ],
   "source": [
    "print(json_data)"
   ]
  },
  {
   "cell_type": "code",
   "execution_count": 129,
   "metadata": {},
   "outputs": [
    {
     "data": {
      "text/plain": [
       "['import logging\\nfrom utils.helpers import greet\\n\\nlogging.basicConfig(level=logging.INFO, format=\\'%(asctime)s - %(levelname)s - %(message)s\\')\\n\\ndef main():\\n    try:\\n        name = input(\"Enter your name: \")\\n        logging.info(\"User input received\")\\n        print(greet(name))\\n        logging.info(\"Greeting printed successfully\")\\n    except Exception as e:\\n        logging.error(\"An error occurred: \", exc_info=True)\\n\\nif __name__ == \"__main__\":\\n    main()',\n",
       " 'import logging\\n\\nlogging.basicConfig(level=logging.INFO)\\nlogger = logging.getLogger(__name__)\\n\\ndef greet(name):\\n    try:\\n        logger.info(f\"Generating greeting for {name}\")\\n        return f\"Hello, {name}! Welcome to the project.\"\\n    except Exception as e:\\n        logger.error(f\"Error generating greeting for {name}: {str(e)}\")\\n        return None',\n",
       " 'loguru\\n\\nflask \\n\\nlogging==0.4.1.2 \\nloguru==0.5.3 \\npython-json-logger==2.0.2 \\nstructlog==21.5.0 \\nlogbook==1.5.3']"
      ]
     },
     "execution_count": 129,
     "metadata": {},
     "output_type": "execute_result"
    }
   ],
   "source": [
    "task_responses"
   ]
  },
  {
   "cell_type": "code",
   "execution_count": null,
   "metadata": {},
   "outputs": [],
   "source": [
    "\n",
    "# Step 2: Task Generation and Agent Creation\n",
    "#logger.info(\"Generating tasks and creating agents\")\n",
    "#task_generation_template = get_prompt_template(\"task_generation\")\n",
    "#agent_creation_template = get_prompt_template(\"agent_creation\")\n",
    "#weight_translation_template = get_prompt_template(\"weight_translation\")\n",
    "\n",
    "#tasks = task_generation_template.format(\n",
    "#    feature_request=user_request, project_context=project_context\n",
    "#)\n",
    "#agents = agent_creation_template.format(tasks=tasks)\n",
    "#weights = weight_translation_template.format(project_elements=project_context)\n",
    "\n",
    "# Step 3: Task Assignment\n",
    "#logger.info(\"Assigning tasks to agents\")\n",
    "#task_assignment_template = get_prompt_template(\"task_assignment\")\n",
    "#task_assignment = task_assignment_template.format(\n",
    "#    tasks=tasks, agent_details=agents\n",
    "#)\n",
    "\n",
    "# Step 4: Task Optimization\n",
    "#logger.info(\"Optimizing task allocation\")\n",
    "#task_optimization_template = get_prompt_template(\"task_optimization\")\n",
    "#optimized_tasks = task_optimization_template.format(\n",
    "#    task_assignments=task_assignment\n",
    "#)\n",
    "\n",
    "# Step 5: Consistency Validation\n",
    "#logger.info(\"Validating consistency of the project tree\")\n",
    "#consistency_validation_template = get_prompt_template(\"consistency_validation\")\n",
    "#validated_tree = consistency_validation_template.format(project_tree=project_context)\n"
   ]
  },
  {
   "cell_type": "code",
   "execution_count": 136,
   "metadata": {},
   "outputs": [
    {
     "name": "stderr",
     "output_type": "stream",
     "text": [
      "INFO:__main__:Cloning the original project structure\n",
      "INFO:__main__:Updating modified files based on task responses\n",
      "INFO:__main__:Updated file saved: project_new/app.py\n",
      "INFO:__main__:Updated file saved: project_new/utils/helpers.py\n",
      "INFO:__main__:Updated file saved: project_new/requirements.txt\n",
      "INFO:__main__:New project structure generated successfully\n",
      "INFO:__main__:File in new project: project_new/app.py\n",
      "INFO:__main__:File in new project: project_new/requirements.txt\n",
      "INFO:__main__:File in new project: project_new/utils/helpers.py\n"
     ]
    }
   ],
   "source": [
    "import os\n",
    "import shutil\n",
    "import logging\n",
    "import json\n",
    "\n",
    "# Initialize the logger\n",
    "logging.basicConfig(level=logging.INFO)\n",
    "logger = logging.getLogger(__name__)\n",
    "\n",
    "def update_project_structure(json_data: str, task_responses: list, old_project_path: str, new_project_path: str, overwrite: bool = True):\n",
    "    \"\"\"\n",
    "    Updates the project structure by cloning the original project, modifying files based on task responses,\n",
    "    and saving the updated files into a new project directory.\n",
    "\n",
    "    Args:\n",
    "        json_data (str): JSON data as a string.\n",
    "        task_responses (list): List of source code responses for each task.\n",
    "        old_project_path (str): Path to the original project directory.\n",
    "        new_project_path (str): Path to save the new project directory.\n",
    "        overwrite (bool): Whether to overwrite existing files in the new project structure.\n",
    "    \"\"\"\n",
    "    # Step 1: Parse the JSON data\n",
    "    data = json.loads(json_data)\n",
    "    existing_files = data.get(\"existing_files\", [])\n",
    "\n",
    "    # Step 2: Clone the original project structure\n",
    "    logger.info(\"Cloning the original project structure\")\n",
    "    if os.path.exists(new_project_path):\n",
    "        shutil.rmtree(new_project_path)\n",
    "    shutil.copytree(old_project_path, new_project_path)\n",
    "\n",
    "    # Step 3: Update modified files with task responses\n",
    "    logger.info(\"Updating modified files based on task responses\")\n",
    "    for i, file_info in enumerate(existing_files):\n",
    "        old_file_path = file_info[\"file_path\"]\n",
    "        new_file_path = old_file_path.replace(\"project_old/\", \"project_new/\")\n",
    "        updated_content = task_responses[i]\n",
    "\n",
    "        # Check if file exists and handle overwrite flag\n",
    "        if not overwrite and os.path.exists(new_file_path):\n",
    "            logger.info(f\"File exists and overwrite is disabled: {new_file_path}. Keeping the original file.\")\n",
    "            continue\n",
    "\n",
    "        # Ensure the new file directory exists\n",
    "        new_file_dir = os.path.dirname(new_file_path)\n",
    "        if not os.path.exists(new_file_dir):\n",
    "            os.makedirs(new_file_dir)\n",
    "\n",
    "        # Write the updated content to the new file\n",
    "        with open(new_file_path, \"w\") as f:\n",
    "            f.write(updated_content)\n",
    "        logger.info(f\"Updated file saved: {new_file_path}\")\n",
    "\n",
    "    # Step 4: Verify the new project structure\n",
    "    logger.info(\"New project structure generated successfully\")\n",
    "    for root, _, files in os.walk(new_project_path):\n",
    "        for file in files:\n",
    "            logger.info(f\"File in new project: {os.path.join(root, file)}\")\n",
    "\n",
    "\n",
    "\n",
    "\n",
    "# Define project paths\n",
    "old_project_path = \"project_old\"\n",
    "new_project_path = \"project_new\"\n",
    "\n",
    "# Run the update pipeline with overwrite flag (default: True)\n",
    "update_project_structure(json_data, task_responses, old_project_path, new_project_path, overwrite=True)\n",
    "\n",
    "# To disable overwriting, call as follows:\n",
    "# update_project_structure(json_data, task_responses, old_project_path, new_project_path, overwrite=False)\n"
   ]
  },
  {
   "cell_type": "code",
   "execution_count": 137,
   "metadata": {},
   "outputs": [
    {
     "name": "stderr",
     "output_type": "stream",
     "text": [
      "INFO:__main__:Validating consistency of the project tree\n",
      "INFO:__main__:Validation passed. All files are present in the new project structure.\n",
      "INFO:__main__:The project structure is consistent.\n"
     ]
    }
   ],
   "source": [
    "import os\n",
    "import json\n",
    "import logging\n",
    "\n",
    "# Initialize the logger\n",
    "logging.basicConfig(level=logging.INFO)\n",
    "logger = logging.getLogger(__name__)\n",
    "\n",
    "def create_expected_files_from_json(json_data: str) -> list:\n",
    "    \"\"\"\n",
    "    Extracts the expected file paths from the given JSON data.\n",
    "\n",
    "    Args:\n",
    "        json_data (str): JSON data as a string.\n",
    "\n",
    "    Returns:\n",
    "        list: A list of expected file paths relative to the project root.\n",
    "    \"\"\"\n",
    "    data = json.loads(json_data)\n",
    "    existing_files = data.get(\"existing_files\", [])\n",
    "    expected_files = [file[\"file_path\"].replace(\"project_old/\", \"\") for file in existing_files]\n",
    "    return expected_files\n",
    "\n",
    "\n",
    "def validate_project_consistency(new_project_path: str, expected_files: list):\n",
    "    \"\"\"\n",
    "    Validates the consistency of the new project structure by checking for expected files.\n",
    "\n",
    "    Args:\n",
    "        new_project_path (str): Path to the new project directory.\n",
    "        expected_files (list): List of expected file paths relative to the project root.\n",
    "\n",
    "    Returns:\n",
    "        bool: True if all expected files are present, False otherwise.\n",
    "    \"\"\"\n",
    "    logger.info(\"Validating consistency of the project tree\")\n",
    "    missing_files = []\n",
    "\n",
    "    for expected_file in expected_files:\n",
    "        expected_path = os.path.join(new_project_path, expected_file)\n",
    "        if not os.path.exists(expected_path):\n",
    "            missing_files.append(expected_path)\n",
    "\n",
    "    if missing_files:\n",
    "        logger.error(\"Validation failed. Missing files:\")\n",
    "        for file in missing_files:\n",
    "            logger.error(file)\n",
    "        return False\n",
    "\n",
    "    logger.info(\"Validation passed. All files are present in the new project structure.\")\n",
    "    return True\n",
    "\n",
    "\n",
    "\n",
    "\n",
    "# Create expected files list from JSON\n",
    "expected_files = create_expected_files_from_json(json_data)\n",
    "\n",
    "# Run the validation function\n",
    "new_project_path = \"project_new\"\n",
    "is_valid = validate_project_consistency(new_project_path, expected_files)\n",
    "\n",
    "if is_valid:\n",
    "    logger.info(\"The project structure is consistent.\")\n",
    "else:\n",
    "    logger.error(\"The project structure is inconsistent.\")\n"
   ]
  },
  {
   "cell_type": "code",
   "execution_count": 140,
   "metadata": {},
   "outputs": [
    {
     "name": "stderr",
     "output_type": "stream",
     "text": [
      "INFO:__main__:Feature integration completed\n"
     ]
    },
    {
     "name": "stdout",
     "output_type": "stream",
     "text": [
      "Project updated with the feature: Add logging functionality to all major modules in the project\n"
     ]
    }
   ],
   "source": [
    "logger.info(\"Feature integration completed\")\n",
    "print(f\"Project updated with the feature: {user_request}\")\n",
    "\n"
   ]
  },
  {
   "cell_type": "code",
   "execution_count": null,
   "metadata": {},
   "outputs": [],
   "source": [
    "relevant_docs = query_vector_database(vector_db, feature_request)\n",
    "logger.info(f\"Relevant documents for the feature request: {[doc.metadata['source'] for doc in relevant_docs]}\")\n",
    "\n",
    "# Step 4: Generate new project structure\n",
    "logger.info(\"Generating the updated project structure\")\n",
    "if os.path.exists(new_project_path):\n",
    "    shutil.rmtree(new_project_path)\n",
    "shutil.copytree(old_project_path, new_project_path)\n",
    "\n",
    "# Step 5: Integrate new features\n",
    "logger.info(\"Integrating new features into the project\")\n",
    "for doc in relevant_docs:\n",
    "    integrate_features([doc.metadata[\"source\"]], f\"# Feature: {prompt}\\n{doc.page_content}\")\n",
    "\n",
    "# Step 6: Generate additional files or modify existing ones\n",
    "feature_instructions = [\n",
    "    {\"file\": os.path.relpath(doc.metadata[\"source\"], old_project_path), \"content\": f\"# Feature: {prompt}\\n{doc.page_content}\"}\n",
    "    for doc in relevant_docs\n",
    "]\n",
    "generate_project(old_project_path, new_project_path, feature_instructions)\n",
    "\n",
    "logger.info(\"Feature integration completed\")\n",
    "print(f\"Project updated with the feature: {prompt}\")\n",
    "print(f\"Updated project saved in: {new_project_path}\")\n"
   ]
  },
  {
   "cell_type": "code",
   "execution_count": null,
   "metadata": {},
   "outputs": [],
   "source": [
    "def main(prompt):\n",
    "    logger.info(\"Starting the Factory Feature program\")\n",
    "\n",
    "    # Define paths\n",
    "    old_project_path = \"project_old\"\n",
    "    new_project_path = \"project_new\"\n",
    "\n",
    "    # Step 1: Parse the old project\n",
    "    logger.info(\"Parsing the project structure\")\n",
    "    project_data = parse_project(old_project_path)\n",
    "    vector_db = build_vector_database(project_data)\n",
    "    logger.info(\"Vector database created for the project\")\n",
    "\n",
    "    # Step 2: Resolve dependencies\n",
    "    logger.info(\"Resolving project dependencies\")\n",
    "    dependencies = resolve_dependencies(old_project_path)\n",
    "    logger.info(f\"Dependencies found: {dependencies.keys()}\")\n",
    "\n",
    "    # Step 3: Map features to project components\n",
    "    logger.info(\"Mapping feature request to project components\")\n",
    "    feature_template = get_prompt_template()\n",
    "    project_context = \"\\n\".join([f\"{key}: {value}\" for key, value in dependencies.items()])\n",
    "    feature_request = feature_template.format(feature_request=prompt, project_context=project_context)\n",
    "    relevant_docs = query_vector_database(vector_db, feature_request)\n",
    "    logger.info(f\"Relevant documents for the feature request: {[doc.metadata['source'] for doc in relevant_docs]}\")\n",
    "\n",
    "    # Step 4: Generate new project structure\n",
    "    logger.info(\"Generating the updated project structure\")\n",
    "    if os.path.exists(new_project_path):\n",
    "        shutil.rmtree(new_project_path)\n",
    "    shutil.copytree(old_project_path, new_project_path)\n",
    "\n",
    "    # Step 5: Integrate new features\n",
    "    logger.info(\"Integrating new features into the project\")\n",
    "    for doc in relevant_docs:\n",
    "        integrate_features([doc.metadata[\"source\"]], f\"# Feature: {prompt}\\n{doc.page_content}\")\n",
    "\n",
    "    # Step 6: Generate additional files or modify existing ones\n",
    "    feature_instructions = [\n",
    "        {\"file\": os.path.relpath(doc.metadata[\"source\"], old_project_path), \"content\": f\"# Feature: {prompt}\\n{doc.page_content}\"}\n",
    "        for doc in relevant_docs\n",
    "    ]\n",
    "    generate_project(old_project_path, new_project_path, feature_instructions)\n",
    "\n",
    "    logger.info(\"Feature integration completed\")\n",
    "    print(f\"Project updated with the feature: {prompt}\")\n",
    "    print(f\"Updated project saved in: {new_project_path}\")\n",
    "\n",
    "\n",
    "if __name__ == \"__main__\":\n",
    "    parser = argparse.ArgumentParser(description=\"Factory Feature Program\")\n",
    "    parser.add_argument(\"--prompt\", required=True, help=\"Feature request prompt\")\n",
    "    args = parser.parse_args()\n",
    "\n",
    "    try:\n",
    "        main(args.prompt)\n",
    "    except Exception as e:\n",
    "        logger.error(f\"An error occurred: {e}\")\n",
    "        raise\n"
   ]
  }
 ],
 "metadata": {
  "kernelspec": {
   "display_name": ".venv",
   "language": "python",
   "name": "python3"
  },
  "language_info": {
   "codemirror_mode": {
    "name": "ipython",
    "version": 3
   },
   "file_extension": ".py",
   "mimetype": "text/x-python",
   "name": "python",
   "nbconvert_exporter": "python",
   "pygments_lexer": "ipython3",
   "version": "3.10.12"
  }
 },
 "nbformat": 4,
 "nbformat_minor": 2
}
