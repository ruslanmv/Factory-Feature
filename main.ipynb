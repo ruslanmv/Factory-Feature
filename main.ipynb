{
 "cells": [
  {
   "cell_type": "code",
   "execution_count": 12,
   "metadata": {},
   "outputs": [],
   "source": [
    "import argparse\n",
    "import os\n",
    "import shutil\n",
    "from src.analysis.project_parser import parse_project\n",
    "from src.analysis.dependency_resolver import resolve_dependencies\n",
    "from src.analysis.feature_mapper import map_features_to_components\n",
    "from src.generation.project_generator import generate_project\n",
    "from src.generation.feature_integration import integrate_features\n",
    "\n",
    "from src.models.prompt_templates import get_prompt_template\n",
    "from src.utils.logger import logger\n",
    "from src.utils.file_operations import read_file, write_file\n",
    "from src.vector_database.db_builder import build_vector_database\n",
    "from src.vector_database.db_query import query_vector_database"
   ]
  },
  {
   "cell_type": "code",
   "execution_count": 14,
   "metadata": {},
   "outputs": [
    {
     "name": "stdout",
     "output_type": "stream",
     "text": [
      "--------------------------------- Generated response -----------------------------------\n",
      "{'query': 'How to integrate the specified features into the project components?', 'result': ' You can use the `integrate_features` function from the `feature_integration.py` module, which takes a list of project components and feature instructions as input and modifies the components accordingly. The function writes the feature instructions to the end of each component file. For example: `integrate_features([\"component1.py\", \"component2.py\"], \"feature_instructions\")`. \\n\\nNote: The `integrate_features` function does not return any value, it modifies the project components in-place. \\n\\nAlso, you can use the `map_features_to_components` function from the `feature_mapper.py` module to map feature requests to specific project components. This function takes parsed project data and a user-provided feature request as input and returns a mapping of features to components. \\n\\nFor example: `map_features_to_components(project_data, \"feature_request\")`. \\n\\nYou can then use the `integrate_features` function to integrate the features into the project components. \\n\\nFor example: `integrate_features(mapped_components, \"feature_instructions\")`. \\n\\nNote: The `integrate_features` function does not return any value, it modifies the project components in-place. \\n\\nYou can also use the `get_prompt_template` function from the `prompt_templates.py` module to get a template for feature integration prompts. \\n\\nFor example: `get_prompt_template()`. \\n\\nYou can then use this template to create a prompt for feature integration. \\n\\nFor example: `prompt = get_prompt_template().format(feature_request=\"feature'}\n",
      "*********************************************************************************************\n",
      "{'query': 'How to integrate the specified features into the project components?', 'result': ' You can use the `integrate_features` function from the `feature_integration.py` module, which takes a list of project components and feature instructions as input and modifies the components accordingly. The function writes the feature instructions to the end of each component file. For example: `integrate_features([\"component1.py\", \"component2.py\"], \"feature_instructions\")`. \\n\\nNote: The `integrate_features` function does not return any value, it modifies the project components in-place. \\n\\nAlso, you can use the `map_features_to_components` function from the `feature_mapper.py` module to map feature requests to specific project components. This function takes parsed project data and a user-provided feature request as input and returns a mapping of features to components. \\n\\nFor example: `map_features_to_components(project_data, \"feature_request\")`. \\n\\nYou can then use the `integrate_features` function to integrate the features into the project components. \\n\\nFor example: `integrate_features(mapped_components, \"feature_instructions\")`. \\n\\nNote: The `integrate_features` function does not return any value, it modifies the project components in-place. \\n\\nYou can also use the `get_prompt_template` function from the `prompt_templates.py` module to get a template for feature integration prompts. \\n\\nFor example: `get_prompt_template()`. \\n\\nYou can then use this template to create a prompt for feature integration. \\n\\nFor example: `prompt = get_prompt_template().format(feature_request=\"feature'}\n"
     ]
    }
   ],
   "source": [
    "from src.models.llm_inference import answer_questions_from_dataframe\n",
    "question = \"How to integrate the specified features into the project components?\"\n",
    "persist_directory = \"./notebooks/chroma_db\"\n",
    "collection_name = \"my_vector_collection\"\n",
    "response = answer_questions_from_dataframe(question, collection_name, persist_directory)\n",
    "print(response)\n"
   ]
  },
  {
   "cell_type": "code",
   "execution_count": 1,
   "metadata": {},
   "outputs": [
    {
     "name": "stdout",
     "output_type": "stream",
     "text": [
      "Debug: Received prompt: Who is man's best friend?\n",
      "Debug: Vector DB provided: False\n",
      "Debug: Formatted prompt:\n",
      "<|begin_of_text|><|start_header_id|>system<|end_header_id|>\n",
      "None<|eot_id|><|start_header_id|>user<|end_header_id|>\n",
      "Who is man's best friend?<|eot_id|><|start_header_id|>assistant<|end_header_id|>\n",
      "\n"
     ]
    },
    {
     "name": "stderr",
     "output_type": "stream",
     "text": [
      "/mnt/c/Blog/Building-LLM-from-Scratch-in-Python/.venv/lib/python3.10/site-packages/ibm_watsonx_ai/foundation_models/utils/utils.py:415: LifecycleWarning: Model 'meta-llama/llama-3-70b-instruct' is in deprecated state from 2024-12-02 until 2025-02-03. IDs of alternative models: None. Further details: https://dataplatform.cloud.ibm.com/docs/content/wsj/analyze-data/fm-model-lifecycle.html?context=wx&audience=wdp\n",
      "  warnings.warn(\n"
     ]
    },
    {
     "name": "stdout",
     "output_type": "stream",
     "text": [
      "Debug: Querying without vector database...\n",
      "Debug: Raw response from model: That's an easy one! Man's best friend is the dog! Dogs have been human companions for thousands of years, providing loyalty, affection, and protection. They are often referred to as \"man's best friend\" because of their unique ability to form strong bonds with humans and provide comfort, companionship, and assistance.\n",
      "Debug: Response as string: That's an easy one! Man's best friend is the dog! Dogs have been human companions for thousands of years, providing loyalty, affection, and protection. They are often referred to as \"man's best friend\" because of their unique ability to form strong bonds with humans and provide comfort, companionship, and assistance.\n",
      "That's an easy one! Man's best friend is the dog! Dogs have been human companions for thousands of years, providing loyalty, affection, and protection. They are often referred to as \"man's best friend\" because of their unique ability to form strong bonds with humans and provide comfort, companionship, and assistance.\n"
     ]
    }
   ],
   "source": [
    "from src.models.llm_inference import query_llm\n",
    "prompt = \"Who is man's best friend?\"\n",
    "response = query_llm(prompt)\n",
    "print(response)\n"
   ]
  },
  {
   "cell_type": "code",
   "execution_count": 3,
   "metadata": {},
   "outputs": [
    {
     "name": "stdout",
     "output_type": "stream",
     "text": [
      "Debug: Received prompt: How to integrate the specified features into the project components?\n",
      "Debug: Vector DB provided: True\n",
      "Debug: Formatted prompt:\n",
      "<|begin_of_text|><|start_header_id|>system<|end_header_id|>\n",
      "None<|eot_id|><|start_header_id|>user<|end_header_id|>\n",
      "How to integrate the specified features into the project components?<|eot_id|><|start_header_id|>assistant<|end_header_id|>\n",
      "\n"
     ]
    },
    {
     "name": "stderr",
     "output_type": "stream",
     "text": [
      "/mnt/c/Blog/Building-LLM-from-Scratch-in-Python/.venv/lib/python3.10/site-packages/ibm_watsonx_ai/foundation_models/utils/utils.py:415: LifecycleWarning: Model 'meta-llama/llama-3-70b-instruct' is in deprecated state from 2024-12-02 until 2025-02-03. IDs of alternative models: None. Further details: https://dataplatform.cloud.ibm.com/docs/content/wsj/analyze-data/fm-model-lifecycle.html?context=wx&audience=wdp\n",
      "  warnings.warn(\n"
     ]
    },
    {
     "name": "stdout",
     "output_type": "stream",
     "text": [
      "Debug: Querying using vector database...\n",
      "Debug: Raw response from vector DB: {'query': '<|begin_of_text|><|start_header_id|>system<|end_header_id|>\\nNone<|eot_id|><|start_header_id|>user<|end_header_id|>\\nHow to integrate the specified features into the project components?<|eot_id|><|start_header_id|>assistant<|end_header_id|>\\n', 'result': \" \\n\\nTo integrate the specified features into the project components, you can use the `integrate_features` function from the `feature_integration.py` file. This function takes two arguments: `project_components` and `feature_instructions`. \\n\\nHere's how you can use it:\\n\\n1. First, you need to get the list of project components that you want to modify. You can do this by using the `map_features_to_components` function from the `feature_mapper.py` file, which maps feature requests to specific project components.\\n\\n2. Next, you need to get the feature instructions for the specified features. The format of these instructions is not specified in the given code, but you can assume that they are in a format that can be written directly to the project components.\\n\\n3. Once you have the project components and feature instructions, you can call the `integrate_features` function, passing these two arguments to it. This function will then integrate the specified features into the project components.\\n\\nHere's a sample code snippet:\\n\\n```\\nproject_components = map_features_to_components(project_data, feature_request)\\nintegrate_features(project_components, feature_instructions)\\n```\\n\\nThis will integrate the specified features into the project components.\"}\n",
      "Debug: Extracted result: To integrate the specified features into the project components, you can use the `integrate_features` function from the `feature_integration.py` file. This function takes two arguments: `project_components` and `feature_instructions`. \n",
      "\n",
      "Here's how you can use it:\n",
      "\n",
      "1. First, you need to get the list of project components that you want to modify. You can do this by using the `map_features_to_components` function from the `feature_mapper.py` file, which maps feature requests to specific project components.\n",
      "\n",
      "2. Next, you need to get the feature instructions for the specified features. The format of these instructions is not specified in the given code, but you can assume that they are in a format that can be written directly to the project components.\n",
      "\n",
      "3. Once you have the project components and feature instructions, you can call the `integrate_features` function, passing these two arguments to it. This function will then integrate the specified features into the project components.\n",
      "\n",
      "Here's a sample code snippet:\n",
      "\n",
      "```\n",
      "project_components = map_features_to_components(project_data, feature_request)\n",
      "integrate_features(project_components, feature_instructions)\n",
      "```\n",
      "\n",
      "This will integrate the specified features into the project components.\n",
      "Generated Response:\n",
      "To integrate the specified features into the project components, you can use the `integrate_features` function from the `feature_integration.py` file. This function takes two arguments: `project_components` and `feature_instructions`. \n",
      "\n",
      "Here's how you can use it:\n",
      "\n",
      "1. First, you need to get the list of project components that you want to modify. You can do this by using the `map_features_to_components` function from the `feature_mapper.py` file, which maps feature requests to specific project components.\n",
      "\n",
      "2. Next, you need to get the feature instructions for the specified features. The format of these instructions is not specified in the given code, but you can assume that they are in a format that can be written directly to the project components.\n",
      "\n",
      "3. Once you have the project components and feature instructions, you can call the `integrate_features` function, passing these two arguments to it. This function will then integrate the specified features into the project components.\n",
      "\n",
      "Here's a sample code snippet:\n",
      "\n",
      "```\n",
      "project_components = map_features_to_components(project_data, feature_request)\n",
      "integrate_features(project_components, feature_instructions)\n",
      "```\n",
      "\n",
      "This will integrate the specified features into the project components.\n"
     ]
    }
   ],
   "source": [
    "from src.vector_database.db_load import load_vector_db\n",
    "from src.models.llm_inference import query_llm\n",
    "\n",
    "prompt = \"How to integrate the specified features into the project components?\"\n",
    "# Define the persistent directory and collection name\n",
    "persist_directory = \"./notebooks/chroma_db\"\n",
    "collection_name = \"my_vector_collection\"\n",
    "\n",
    "# Load the vector database\n",
    "vector_db = load_vector_db(collection_name, persist_directory)\n",
    "\n",
    "# Query the vector database using the `query_llm` function\n",
    "response = query_llm(user_input=prompt, vector_db=vector_db)\n",
    "\n",
    "# Print the response\n",
    "print(\"Generated Response:\")\n",
    "print(response)"
   ]
  }
 ],
 "metadata": {
  "kernelspec": {
   "display_name": ".venv",
   "language": "python",
   "name": "python3"
  },
  "language_info": {
   "codemirror_mode": {
    "name": "ipython",
    "version": 3
   },
   "file_extension": ".py",
   "mimetype": "text/x-python",
   "name": "python",
   "nbconvert_exporter": "python",
   "pygments_lexer": "ipython3",
   "version": "3.10.12"
  }
 },
 "nbformat": 4,
 "nbformat_minor": 2
}
