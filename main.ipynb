{
 "cells": [
  {
   "cell_type": "code",
   "execution_count": null,
   "metadata": {},
   "outputs": [],
   "source": [
    "import argparse\n",
    "import os\n",
    "import shutil\n",
    "from src.analysis.project_parser import parse_project\n",
    "from src.analysis.dependency_resolver import resolve_dependencies\n",
    "from src.analysis.feature_mapper import map_features_to_components\n",
    "from src.generation.project_generator import generate_project\n",
    "from src.generation.feature_integration import integrate_features\n",
    "\n",
    "from src.models.prompt_templates import get_prompt_template\n",
    "from src.utils.logger import logger\n",
    "from src.utils.file_operations import read_file, write_file\n",
    "from src.vector_database.db_builder import build_vector_database\n",
    "from src.vector_database.db_query import query_vector_database\n"
   ]
  },
  {
   "cell_type": "code",
   "execution_count": 1,
   "metadata": {},
   "outputs": [
    {
     "name": "stderr",
     "output_type": "stream",
     "text": [
      "/mnt/c/Blog/Building-LLM-from-Scratch-in-Python/.venv/lib/python3.10/site-packages/tqdm/auto.py:21: TqdmWarning: IProgress not found. Please update jupyter and ipywidgets. See https://ipywidgets.readthedocs.io/en/stable/user_install.html\n",
      "  from .autonotebook import tqdm as notebook_tqdm\n",
      "/mnt/c/Blog/FactoryFeature/src/vector_database/db_load.py:38: LangChainDeprecationWarning: The class `Chroma` was deprecated in LangChain 0.2.9 and will be removed in 1.0. An updated version of the class exists in the :class:`~langchain-chroma package and should be used instead. To use it run `pip install -U :class:`~langchain-chroma` and import as `from :class:`~langchain_chroma import Chroma``.\n",
      "  return Chroma(collection_name=collection_name, embedding_function=hf, client=chroma_client)\n",
      "/mnt/c/Blog/Building-LLM-from-Scratch-in-Python/.venv/lib/python3.10/site-packages/ibm_watsonx_ai/foundation_models/utils/utils.py:415: LifecycleWarning: Model 'meta-llama/llama-3-70b-instruct' is in deprecated state from 2024-12-02 until 2025-02-03. IDs of alternative models: None. Further details: https://dataplatform.cloud.ibm.com/docs/content/wsj/analyze-data/fm-model-lifecycle.html?context=wx&audience=wdp\n",
      "  warnings.warn(\n"
     ]
    },
    {
     "name": "stdout",
     "output_type": "stream",
     "text": [
      "Generated Response:\n",
      "{'query': 'How to integrate the specified features into the project components?', 'result': ' You can integrate the specified features into the project components by using the `integrate_features` function from the `feature_integration.py` file. This function takes two arguments: `project_components` and `feature_instructions`. It modifies the project components according to the feature instructions.'}\n"
     ]
    }
   ],
   "source": [
    "from src.vector_database.db_load import load_vector_db\n",
    "from src.models.llm_inference import query_llm\n",
    "prompt = \"How to integrate the specified features into the project components?\"\n",
    "# Define the persistent directory and collection name\n",
    "persist_directory = \"./notebooks/chroma_db\"\n",
    "collection_name = \"my_vector_collection\"\n",
    "# Load the vector database\n",
    "vector_db = load_vector_db(collection_name, persist_directory)\n",
    "# Query the vector database using the `query_llm` function\n",
    "response = query_llm(prompt,vector_db)\n",
    "# Print the response\n",
    "print(\"Generated Response:\")\n",
    "print(response)"
   ]
  },
  {
   "cell_type": "code",
   "execution_count": null,
   "metadata": {},
   "outputs": [],
   "source": [
    "prompt = \"Who is man's best friend?\"\n",
    "response = query_llm(prompt)\n",
    "# Print the response\n",
    "print(\"Generated Response:\")\n",
    "print(response)"
   ]
  },
  {
   "cell_type": "code",
   "execution_count": 9,
   "metadata": {},
   "outputs": [],
   "source": [
    "prompt=\"Add a user authentication feature to the project\""
   ]
  },
  {
   "cell_type": "code",
   "execution_count": 6,
   "metadata": {},
   "outputs": [],
   "source": [
    "logger.info(\"Starting the Factory Feature program\")\n",
    "# Define paths\n",
    "old_project_path = \"project_old\"\n",
    "new_project_path = \"project_new\""
   ]
  },
  {
   "cell_type": "code",
   "execution_count": 7,
   "metadata": {},
   "outputs": [
    {
     "name": "stderr",
     "output_type": "stream",
     "text": [
      "/mnt/c/Blog/FactoryFeature/src/vector_database/db_builder.py:16: LangChainDeprecationWarning: The class `HuggingFaceEmbeddings` was deprecated in LangChain 0.2.2 and will be removed in 1.0. An updated version of the class exists in the :class:`~langchain-huggingface package and should be used instead. To use it run `pip install -U :class:`~langchain-huggingface` and import as `from :class:`~langchain_huggingface import HuggingFaceEmbeddings``.\n",
      "  embedding_function = SentenceTransformerEmbeddings(model_name=\"all-MiniLM-L6-v2\")\n"
     ]
    }
   ],
   "source": [
    "# Step 1: Parse the old project\n",
    "logger.info(\"Parsing the project structure\")\n",
    "project_data = parse_project(old_project_path)\n",
    "vector_db = build_vector_database(project_data)\n",
    "logger.info(\"Vector database created for the project\")"
   ]
  },
  {
   "cell_type": "code",
   "execution_count": 8,
   "metadata": {},
   "outputs": [],
   "source": [
    "# Step 2: Resolve dependencies\n",
    "logger.info(\"Resolving project dependencies\")\n",
    "dependencies = resolve_dependencies(old_project_path)\n",
    "logger.info(f\"Dependencies found: {dependencies.keys()}\")"
   ]
  },
  {
   "cell_type": "code",
   "execution_count": 9,
   "metadata": {},
   "outputs": [
    {
     "name": "stderr",
     "output_type": "stream",
     "text": [
      "/mnt/c/Blog/FactoryFeature/src/vector_database/db_query.py:14: LangChainDeprecationWarning: The method `BaseRetriever.get_relevant_documents` was deprecated in langchain-core 0.1.46 and will be removed in 1.0. Use :meth:`~invoke` instead.\n",
      "  return retriever.get_relevant_documents(query)\n",
      "Number of requested results 5 is greater than number of elements in index 3, updating n_results = 3\n"
     ]
    }
   ],
   "source": [
    "# Step 3: Map features to project components\n",
    "logger.info(\"Mapping feature request to project components\")\n",
    "feature_template = get_prompt_template()\n",
    "project_context = \"\\n\".join([f\"{key}: {value}\" for key, value in dependencies.items()])\n",
    "feature_request = feature_template.format(feature_request=prompt, project_context=project_context)\n",
    "relevant_docs = query_vector_database(vector_db, feature_request)\n",
    "logger.info(f\"Relevant documents for the feature request: {[doc.metadata['source'] for doc in relevant_docs]}\")"
   ]
  },
  {
   "cell_type": "code",
   "execution_count": 10,
   "metadata": {},
   "outputs": [
    {
     "data": {
      "text/plain": [
       "'project_new'"
      ]
     },
     "execution_count": 10,
     "metadata": {},
     "output_type": "execute_result"
    }
   ],
   "source": [
    "# Step 4: Generate new project structure\n",
    "logger.info(\"Generating the updated project structure\")\n",
    "if os.path.exists(new_project_path):\n",
    "    shutil.rmtree(new_project_path)\n",
    "shutil.copytree(old_project_path, new_project_path)"
   ]
  },
  {
   "cell_type": "code",
   "execution_count": 11,
   "metadata": {},
   "outputs": [],
   "source": [
    "# Step 5: Integrate new features\n",
    "logger.info(\"Integrating new features into the project\")\n",
    "for doc in relevant_docs:\n",
    "    integrate_features([doc.metadata[\"source\"]], f\"# Feature: {prompt}\\n{doc.page_content}\")"
   ]
  },
  {
   "cell_type": "code",
   "execution_count": 12,
   "metadata": {},
   "outputs": [],
   "source": [
    "# Step 6: Generate additional files or modify existing ones\n",
    "feature_instructions = [\n",
    "    {\"file\": os.path.relpath(doc.metadata[\"source\"], old_project_path), \"content\": f\"# Feature: {prompt}\\n{doc.page_content}\"}\n",
    "    for doc in relevant_docs\n",
    "]"
   ]
  },
  {
   "cell_type": "code",
   "execution_count": 13,
   "metadata": {},
   "outputs": [
    {
     "data": {
      "text/plain": [
       "[{'file': 'requirements.txt',\n",
       "  'content': '# Feature: How to integrate the specified features into the project components?\\nPath: project_old/requirements.txt\\nContent:\\n# Python dependencies\\nflask\\n\\n# Feature Integration\\n# Feature: Add a user authentication feature to the project\\nPath: project_old/requirements.txt\\nContent:\\n# Python dependencies\\nflask\\n\\n# Feature Integration\\n# Feature: Add a user authentication feature to the project\\nPath: project_old/requirements.txt\\nContent:\\n# Python dependencies\\nflask\\n\\n# Feature Integration\\n# Feature: Add a user authentication feature to the project\\nPath: project_old/requirements.txt\\nContent:\\n# Python dependencies\\nflask\\n'},\n",
       " {'file': 'app.py',\n",
       "  'content': '# Feature: How to integrate the specified features into the project components?\\nPath: project_old/app.py\\nContent:\\nfrom utils.helpers import greet\\n\\ndef main():\\n    name = input(\"Enter your name: \")\\n    print(greet(name))\\n\\nif __name__ == \"__main__\":\\n    main()\\n\\n# Feature Integration\\n# Feature: Add a user authentication feature to the project\\nPath: project_old/app.py\\nContent:\\nfrom utils.helpers import greet\\n\\ndef main():\\n    name = input(\"Enter your name: \")\\n    print(greet(name))\\n\\nif __name__ == \"__main__\":\\n    main()\\n\\n# Feature Integration\\n# Feature: Add a user authentication feature to the project\\nPath: project_old/app.py\\nContent:\\nfrom utils.helpers import greet\\n\\ndef main():\\n    name = input(\"Enter your name: \")\\n    print(greet(name))\\n\\nif __name__ == \"__main__\":\\n    main()\\n\\n# Feature Integration\\n# Feature: Add a user authentication feature to the project\\nPath: project_old/app.py\\nContent:\\nfrom utils.helpers import greet\\n\\ndef main():\\n    name = input(\"Enter your name: \")\\n    print(greet(name))\\n\\nif __name__ == \"__main__\":\\n    main()\\n'},\n",
       " {'file': 'utils/helpers.py',\n",
       "  'content': '# Feature: How to integrate the specified features into the project components?\\nPath: project_old/utils/helpers.py\\nContent:\\ndef greet(name):\\n    \"\"\"\\n    Returns a greeting message for the provided name.\\n\\n    Args:\\n        name: The name of the person to greet.\\n\\n    Returns:\\n        A greeting string.\\n    \"\"\"\\n    return f\"Hello, {name}! Welcome to the project.\"\\n\\n# Feature Integration\\n# Feature: Add a user authentication feature to the project\\nPath: project_old/utils/helpers.py\\nContent:\\ndef greet(name):\\n    \"\"\"\\n    Returns a greeting message for the provided name.\\n\\n    Args:\\n        name: The name of the person to greet.\\n\\n    Returns:\\n        A greeting string.\\n    \"\"\"\\n    return f\"Hello, {name}! Welcome to the project.\"\\n\\n# Feature Integration\\n# Feature: Add a user authentication feature to the project\\nPath: project_old/utils/helpers.py\\nContent:\\ndef greet(name):\\n    \"\"\"\\n    Returns a greeting message for the provided name.\\n\\n    Args:\\n        name: The name of the person to greet.\\n\\n    Returns:\\n        A greeting string.\\n    \"\"\"\\n    return f\"Hello, {name}! Welcome to the project.\"\\n\\n# Feature Integration\\n# Feature: Add a user authentication feature to the project\\nPath: project_old/utils/helpers.py\\nContent:\\ndef greet(name):\\n    \"\"\"\\n    Returns a greeting message for the provided name.\\n\\n    Args:\\n        name: The name of the person to greet.\\n\\n    Returns:\\n        A greeting string.\\n    \"\"\"\\n    return f\"Hello, {name}! Welcome to the project.\"\\n'}]"
      ]
     },
     "execution_count": 13,
     "metadata": {},
     "output_type": "execute_result"
    }
   ],
   "source": [
    "feature_instructions"
   ]
  },
  {
   "cell_type": "code",
   "execution_count": 14,
   "metadata": {},
   "outputs": [
    {
     "name": "stdout",
     "output_type": "stream",
     "text": [
      "Project updated with the feature: How to integrate the specified features into the project components?\n",
      "Updated project saved in: project_new\n"
     ]
    }
   ],
   "source": [
    "generate_project(old_project_path, new_project_path, feature_instructions)\n",
    "logger.info(\"Feature integration completed\")\n",
    "print(f\"Project updated with the feature: {prompt}\")\n",
    "print(f\"Updated project saved in: {new_project_path}\")"
   ]
  }
 ],
 "metadata": {
  "kernelspec": {
   "display_name": ".venv",
   "language": "python",
   "name": "python3"
  },
  "language_info": {
   "codemirror_mode": {
    "name": "ipython",
    "version": 3
   },
   "file_extension": ".py",
   "mimetype": "text/x-python",
   "name": "python",
   "nbconvert_exporter": "python",
   "pygments_lexer": "ipython3",
   "version": "3.10.12"
  }
 },
 "nbformat": 4,
 "nbformat_minor": 2
}
